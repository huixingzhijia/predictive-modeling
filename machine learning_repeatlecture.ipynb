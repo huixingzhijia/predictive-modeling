{
 "cells": [
  {
   "cell_type": "markdown",
   "metadata": {},
   "source": [
    "# Machine Learning Classification"
   ]
  },
  {
   "cell_type": "code",
   "execution_count": 1,
   "metadata": {},
   "outputs": [],
   "source": [
    "import os\n",
    "import sys\n",
    "import pandas as pd\n",
    "import numpy as np\n",
    "import sklearn\n",
    "from sklearn import datasets\n",
    "from patsy import dmatrices\n",
    "import sklearn.metrics as confusion_matrics\n",
    "import matplotlib\n",
    "import matplotlib.pyplot as plt"
   ]
  },
  {
   "cell_type": "code",
   "execution_count": 2,
   "metadata": {},
   "outputs": [],
   "source": [
    "#set the defult figure size\n",
    "matplotlib.rcParams['figure.figsize']=[10.0,6.0]\n",
    "from IPython.core.interactiveshell import InteractiveShell\n",
    "InteractiveShell.ast_node_interactivity=\"all\""
   ]
  },
  {
   "cell_type": "code",
   "execution_count": 3,
   "metadata": {},
   "outputs": [
    {
     "name": "stdout",
     "output_type": "stream",
     "text": [
      "3.6.7 |Anaconda custom (64-bit)| (default, Oct 23 2018, 14:01:38) \n",
      "[GCC 4.2.1 Compatible Clang 4.0.1 (tags/RELEASE_401/final)]\n",
      "Pandas version:0.23.4\n",
      "Matplotlib version:3.0.2\n",
      "Numpy version:1.15.4\n",
      "SciKitlearn version:0.20.1\n"
     ]
    }
   ],
   "source": [
    "#Get version information\n",
    "print(sys.version)\n",
    "print(\"Pandas version:{0}\".format(pd.__version__))\n",
    "print(\"Matplotlib version:{0}\".format(matplotlib.__version__))\n",
    "print(\"Numpy version:{0}\".format(np.__version__))\n",
    "print(\"SciKitlearn version:{0}\".format(sklearn.__version__))"
   ]
  },
  {
   "cell_type": "code",
   "execution_count": 4,
   "metadata": {},
   "outputs": [
    {
     "name": "stdout",
     "output_type": "stream",
     "text": [
      "My working director:\n",
      "/Users/wenhuizeng/High Performance\n",
      "My working director:\n",
      "/Users/wenhuizeng/Library/Mobile Documents/com~apple~CloudDocs/high performance/week 11\n"
     ]
    }
   ],
   "source": [
    "import os\n",
    "print(\"My working director:\\n\" + os.getcwd())\n",
    "os.chdir(r\"/Users/wenhuizeng/Library/Mobile Documents/com~apple~CloudDocs/high performance/week 11\")\n",
    "print(\"My working director:\\n\" + os.getcwd())"
   ]
  },
  {
   "cell_type": "code",
   "execution_count": 5,
   "metadata": {},
   "outputs": [],
   "source": [
    "pd.options.display.max_rows=10\n",
    "df = pd.read_csv(r\"PatientAnalyticFile.csv\")"
   ]
  },
  {
   "cell_type": "markdown",
   "metadata": {},
   "source": [
    "### Example One\n",
    "It just means raw string in Python. Meaning that whatever is inside the string, is the string. For example, if you wanted to add slashes:\n",
    "\n",
    "string1 = \"happy\\/cheese\"\n",
    "You would need to add \\ in front of the slash since its an escaping character. For example, \\n means a new line.\n",
    "\n",
    "If you keep the string raw, it makes sure that whatever is in the string is not interpreted a special way. for example if you wrote string2 = r\"\\n\", it would just give you \"\\n\" as you string, and not a new line.\n",
    "\n",
    "\n",
    "### Example Two\n",
    "The r'..' string modifier causes the '..' string to be interpreted literally. That means, r'My\\Path\\Without\\Escaping' will evaluate to 'My\\Path\\Without\\Escaping' - without causing the backslash to escape characters. The prior is equivalent to 'My\\\\Path\\\\Without\\\\Escaping' string, but without the raw modifier."
   ]
  },
  {
   "cell_type": "markdown",
   "metadata": {},
   "source": [
    "Make the outcome variable depend on the if the death date is missing"
   ]
  },
  {
   "cell_type": "code",
   "execution_count": 6,
   "metadata": {},
   "outputs": [
    {
     "data": {
      "text/html": [
       "<div>\n",
       "<style scoped>\n",
       "    .dataframe tbody tr th:only-of-type {\n",
       "        vertical-align: middle;\n",
       "    }\n",
       "\n",
       "    .dataframe tbody tr th {\n",
       "        vertical-align: top;\n",
       "    }\n",
       "\n",
       "    .dataframe thead th {\n",
       "        text-align: right;\n",
       "    }\n",
       "</style>\n",
       "<table border=\"1\" class=\"dataframe\">\n",
       "  <thead>\n",
       "    <tr style=\"text-align: right;\">\n",
       "      <th></th>\n",
       "      <th>PatientID</th>\n",
       "      <th>DateOfBirth</th>\n",
       "      <th>Gender</th>\n",
       "      <th>Race</th>\n",
       "      <th>Myocardial_infarction</th>\n",
       "      <th>Congestive_heart_failure</th>\n",
       "      <th>Peripheral_vascular_disease</th>\n",
       "      <th>Stroke</th>\n",
       "      <th>Dementia</th>\n",
       "      <th>Pulmonary</th>\n",
       "      <th>...</th>\n",
       "      <th>Metastatic_solid_tumour</th>\n",
       "      <th>HIV</th>\n",
       "      <th>Obesity</th>\n",
       "      <th>Depression</th>\n",
       "      <th>Hypertension</th>\n",
       "      <th>Drugs</th>\n",
       "      <th>Alcohol</th>\n",
       "      <th>First_Appointment_Date</th>\n",
       "      <th>Last_Appointment_Date</th>\n",
       "      <th>DateOfDeath</th>\n",
       "    </tr>\n",
       "  </thead>\n",
       "  <tbody>\n",
       "    <tr>\n",
       "      <th>0</th>\n",
       "      <td>1</td>\n",
       "      <td>1962-02-27</td>\n",
       "      <td>female</td>\n",
       "      <td>hispanic</td>\n",
       "      <td>0</td>\n",
       "      <td>0</td>\n",
       "      <td>0</td>\n",
       "      <td>0</td>\n",
       "      <td>0</td>\n",
       "      <td>0</td>\n",
       "      <td>...</td>\n",
       "      <td>0</td>\n",
       "      <td>0</td>\n",
       "      <td>0</td>\n",
       "      <td>0</td>\n",
       "      <td>0</td>\n",
       "      <td>0</td>\n",
       "      <td>0</td>\n",
       "      <td>2013-04-27</td>\n",
       "      <td>2018-06-01</td>\n",
       "      <td>NaN</td>\n",
       "    </tr>\n",
       "    <tr>\n",
       "      <th>1</th>\n",
       "      <td>2</td>\n",
       "      <td>1959-08-18</td>\n",
       "      <td>male</td>\n",
       "      <td>white</td>\n",
       "      <td>0</td>\n",
       "      <td>0</td>\n",
       "      <td>0</td>\n",
       "      <td>0</td>\n",
       "      <td>0</td>\n",
       "      <td>0</td>\n",
       "      <td>...</td>\n",
       "      <td>0</td>\n",
       "      <td>0</td>\n",
       "      <td>0</td>\n",
       "      <td>0</td>\n",
       "      <td>1</td>\n",
       "      <td>0</td>\n",
       "      <td>0</td>\n",
       "      <td>2005-11-30</td>\n",
       "      <td>2008-11-02</td>\n",
       "      <td>2008-11-02</td>\n",
       "    </tr>\n",
       "    <tr>\n",
       "      <th>2</th>\n",
       "      <td>3</td>\n",
       "      <td>1946-02-15</td>\n",
       "      <td>female</td>\n",
       "      <td>white</td>\n",
       "      <td>0</td>\n",
       "      <td>0</td>\n",
       "      <td>0</td>\n",
       "      <td>0</td>\n",
       "      <td>0</td>\n",
       "      <td>0</td>\n",
       "      <td>...</td>\n",
       "      <td>0</td>\n",
       "      <td>1</td>\n",
       "      <td>0</td>\n",
       "      <td>0</td>\n",
       "      <td>1</td>\n",
       "      <td>0</td>\n",
       "      <td>0</td>\n",
       "      <td>2011-11-05</td>\n",
       "      <td>2015-11-13</td>\n",
       "      <td>NaN</td>\n",
       "    </tr>\n",
       "    <tr>\n",
       "      <th>3</th>\n",
       "      <td>4</td>\n",
       "      <td>1979-07-27</td>\n",
       "      <td>female</td>\n",
       "      <td>white</td>\n",
       "      <td>0</td>\n",
       "      <td>0</td>\n",
       "      <td>0</td>\n",
       "      <td>0</td>\n",
       "      <td>0</td>\n",
       "      <td>1</td>\n",
       "      <td>...</td>\n",
       "      <td>0</td>\n",
       "      <td>0</td>\n",
       "      <td>0</td>\n",
       "      <td>0</td>\n",
       "      <td>0</td>\n",
       "      <td>0</td>\n",
       "      <td>0</td>\n",
       "      <td>2010-03-01</td>\n",
       "      <td>2016-01-17</td>\n",
       "      <td>2016-01-17</td>\n",
       "    </tr>\n",
       "    <tr>\n",
       "      <th>4</th>\n",
       "      <td>5</td>\n",
       "      <td>1983-02-19</td>\n",
       "      <td>female</td>\n",
       "      <td>hispanic</td>\n",
       "      <td>0</td>\n",
       "      <td>0</td>\n",
       "      <td>0</td>\n",
       "      <td>0</td>\n",
       "      <td>0</td>\n",
       "      <td>0</td>\n",
       "      <td>...</td>\n",
       "      <td>0</td>\n",
       "      <td>0</td>\n",
       "      <td>0</td>\n",
       "      <td>0</td>\n",
       "      <td>1</td>\n",
       "      <td>0</td>\n",
       "      <td>0</td>\n",
       "      <td>2006-09-22</td>\n",
       "      <td>2018-06-01</td>\n",
       "      <td>NaN</td>\n",
       "    </tr>\n",
       "  </tbody>\n",
       "</table>\n",
       "<p>5 rows × 29 columns</p>\n",
       "</div>"
      ],
      "text/plain": [
       "   PatientID DateOfBirth  Gender      Race  Myocardial_infarction  \\\n",
       "0          1  1962-02-27  female  hispanic                      0   \n",
       "1          2  1959-08-18    male     white                      0   \n",
       "2          3  1946-02-15  female     white                      0   \n",
       "3          4  1979-07-27  female     white                      0   \n",
       "4          5  1983-02-19  female  hispanic                      0   \n",
       "\n",
       "   Congestive_heart_failure  Peripheral_vascular_disease  Stroke  Dementia  \\\n",
       "0                         0                            0       0         0   \n",
       "1                         0                            0       0         0   \n",
       "2                         0                            0       0         0   \n",
       "3                         0                            0       0         0   \n",
       "4                         0                            0       0         0   \n",
       "\n",
       "   Pulmonary     ...       Metastatic_solid_tumour  HIV  Obesity  Depression  \\\n",
       "0          0     ...                             0    0        0           0   \n",
       "1          0     ...                             0    0        0           0   \n",
       "2          0     ...                             0    1        0           0   \n",
       "3          1     ...                             0    0        0           0   \n",
       "4          0     ...                             0    0        0           0   \n",
       "\n",
       "   Hypertension  Drugs  Alcohol  First_Appointment_Date  \\\n",
       "0             0      0        0              2013-04-27   \n",
       "1             1      0        0              2005-11-30   \n",
       "2             1      0        0              2011-11-05   \n",
       "3             0      0        0              2010-03-01   \n",
       "4             1      0        0              2006-09-22   \n",
       "\n",
       "   Last_Appointment_Date  DateOfDeath  \n",
       "0             2018-06-01          NaN  \n",
       "1             2008-11-02   2008-11-02  \n",
       "2             2015-11-13          NaN  \n",
       "3             2016-01-17   2016-01-17  \n",
       "4             2018-06-01          NaN  \n",
       "\n",
       "[5 rows x 29 columns]"
      ]
     },
     "execution_count": 6,
     "metadata": {},
     "output_type": "execute_result"
    }
   ],
   "source": [
    "df.head()"
   ]
  },
  {
   "cell_type": "code",
   "execution_count": 7,
   "metadata": {},
   "outputs": [
    {
     "data": {
      "text/plain": [
       "count    20000.000000\n",
       "mean         0.354700\n",
       "std          0.478434\n",
       "min          0.000000\n",
       "25%          0.000000\n",
       "50%          0.000000\n",
       "75%          1.000000\n",
       "max          1.000000\n",
       "Name: death, dtype: float64"
      ]
     },
     "execution_count": 7,
     "metadata": {},
     "output_type": "execute_result"
    },
    {
     "data": {
      "text/plain": [
       "PatientID                  int64\n",
       "DateOfBirth               object\n",
       "Gender                    object\n",
       "Race                      object\n",
       "Myocardial_infarction      int64\n",
       "                           ...  \n",
       "Alcohol                    int64\n",
       "First_Appointment_Date    object\n",
       "Last_Appointment_Date     object\n",
       "DateOfDeath               object\n",
       "death                      int64\n",
       "Length: 30, dtype: object"
      ]
     },
     "execution_count": 7,
     "metadata": {},
     "output_type": "execute_result"
    },
    {
     "data": {
      "text/plain": [
       "Index(['PatientID', 'DateOfBirth', 'Gender', 'Race', 'Myocardial_infarction',\n",
       "       'Congestive_heart_failure', 'Peripheral_vascular_disease', 'Stroke',\n",
       "       'Dementia', 'Pulmonary', 'Rheumatic', 'Peptic_ulcer_disease',\n",
       "       'LiverMild', 'Diabetes_without_complications',\n",
       "       'Diabetes_with_complications', 'Paralysis', 'Renal', 'Cancer',\n",
       "       'LiverSevere', 'Metastatic_solid_tumour', 'HIV', 'Obesity',\n",
       "       'Depression', 'Hypertension', 'Drugs', 'Alcohol',\n",
       "       'First_Appointment_Date', 'Last_Appointment_Date', 'DateOfDeath',\n",
       "       'death'],\n",
       "      dtype='object')"
      ]
     },
     "execution_count": 7,
     "metadata": {},
     "output_type": "execute_result"
    }
   ],
   "source": [
    "df['death']=np.where(df['DateOfDeath'].isnull(),0,1)\n",
    "df['death'].describe()\n",
    "df.dtypes\n",
    "df.columns"
   ]
  },
  {
   "cell_type": "markdown",
   "metadata": {},
   "source": [
    "# Convert Date of birth to date"
   ]
  },
  {
   "cell_type": "code",
   "execution_count": 8,
   "metadata": {},
   "outputs": [
    {
     "data": {
      "text/plain": [
       "0        57.123288\n",
       "1        59.654795\n",
       "2        73.167123\n",
       "3        39.701370\n",
       "4        36.131507\n",
       "           ...    \n",
       "19995    21.290411\n",
       "19996    35.019178\n",
       "19997    25.753425\n",
       "19998    34.972603\n",
       "19999    52.912329\n",
       "Name: Age_years, Length: 20000, dtype: float64"
      ]
     },
     "execution_count": 8,
     "metadata": {},
     "output_type": "execute_result"
    }
   ],
   "source": [
    "df['DateOfBirth'] = pd.to_datetime(df['DateOfBirth'])\n",
    "df['Age_years'] = (pd.to_datetime('2019-03-30')-df['DateOfBirth']).dt.days/365\n",
    "df['Age_years']"
   ]
  },
  {
   "cell_type": "markdown",
   "metadata": {},
   "source": [
    "# Datetime Convert\n",
    "https://pandas.pydata.org/pandas-docs/stable/getting_started/basics.html"
   ]
  },
  {
   "cell_type": "markdown",
   "metadata": {},
   "source": [
    "## Workflow into scikit-learn\n",
    "\n",
    "\n",
    "* There are a number of possible ways to prepare data for modeling in scikit-learn. \n",
    "* You must end up with a numeric ndarray of inputs (X) and a numeric ndarray matrix of the target (Y)\n",
    "* I prefer the following workflow:\n",
    "  * We use pandas to import and clean data\n",
    "  * We use Patsy to create the X and Y ndarrays\n",
    "  * Using categorical transformations (dummy coding) as needed\n",
    "  * Also can generate non-linear terms including splines\n",
    "  * Use scikit-learn for machine learning"
   ]
  },
  {
   "cell_type": "code",
   "execution_count": 9,
   "metadata": {},
   "outputs": [],
   "source": [
    "vars_remove = ['PatientID','First_Appointment_Date','DateOfBirth',\n",
    "               'Last_Appointment_Date','DateOfDeath','death']\n",
    "df_vars = set(df.columns)-set(vars_remove)"
   ]
  },
  {
   "cell_type": "code",
   "execution_count": 10,
   "metadata": {},
   "outputs": [
    {
     "data": {
      "text/plain": [
       "'Age_years+Drugs+HIV+Rheumatic+Dementia+Stroke+Diabetes_without_complications+Race+Metastatic_solid_tumour+Hypertension+Obesity+Alcohol+Cancer+Gender+Myocardial_infarction+Pulmonary+Peptic_ulcer_disease+Congestive_heart_failure+Paralysis+Renal+LiverSevere+Peripheral_vascular_disease+Depression+Diabetes_with_complications+LiverMild'"
      ]
     },
     "execution_count": 10,
     "metadata": {},
     "output_type": "execute_result"
    }
   ],
   "source": [
    "\"+\".join(df_vars)"
   ]
  },
  {
   "cell_type": "code",
   "execution_count": 11,
   "metadata": {},
   "outputs": [],
   "source": [
    "formula = \"death ~ \" + \"+\".join(df_vars)"
   ]
  },
  {
   "cell_type": "code",
   "execution_count": 12,
   "metadata": {},
   "outputs": [
    {
     "data": {
      "text/plain": [
       "'death ~ Age_years+Drugs+HIV+Rheumatic+Dementia+Stroke+Diabetes_without_complications+Race+Metastatic_solid_tumour+Hypertension+Obesity+Alcohol+Cancer+Gender+Myocardial_infarction+Pulmonary+Peptic_ulcer_disease+Congestive_heart_failure+Paralysis+Renal+LiverSevere+Peripheral_vascular_disease+Depression+Diabetes_with_complications+LiverMild'"
      ]
     },
     "execution_count": 12,
     "metadata": {},
     "output_type": "execute_result"
    }
   ],
   "source": [
    "formula"
   ]
  },
  {
   "cell_type": "code",
   "execution_count": 13,
   "metadata": {},
   "outputs": [],
   "source": [
    "df_sample = df.sample(frac=0.1,random_state=12)"
   ]
  },
  {
   "cell_type": "code",
   "execution_count": 14,
   "metadata": {},
   "outputs": [
    {
     "data": {
      "text/plain": [
       "(2000, 31)"
      ]
     },
     "execution_count": 14,
     "metadata": {},
     "output_type": "execute_result"
    }
   ],
   "source": [
    "df_sample.shape"
   ]
  },
  {
   "cell_type": "code",
   "execution_count": 15,
   "metadata": {},
   "outputs": [],
   "source": [
    "Y,X = dmatrices(formula,df)"
   ]
  },
  {
   "cell_type": "code",
   "execution_count": 16,
   "metadata": {},
   "outputs": [
    {
     "data": {
      "text/plain": [
       "DesignMatrix with shape (20000, 1)\n",
       "  death\n",
       "      0\n",
       "      1\n",
       "      0\n",
       "      1\n",
       "      0\n",
       "      0\n",
       "      0\n",
       "      0\n",
       "      0\n",
       "      0\n",
       "      0\n",
       "      0\n",
       "      1\n",
       "      0\n",
       "      0\n",
       "      0\n",
       "      1\n",
       "      1\n",
       "      0\n",
       "      0\n",
       "      1\n",
       "      1\n",
       "      0\n",
       "      0\n",
       "      0\n",
       "      0\n",
       "      0\n",
       "      0\n",
       "      0\n",
       "      0\n",
       "  [19970 rows omitted]\n",
       "  Terms:\n",
       "    'death' (column 0)\n",
       "  (to view full data, use np.asarray(this_obj))"
      ]
     },
     "execution_count": 16,
     "metadata": {},
     "output_type": "execute_result"
    }
   ],
   "source": [
    "Y #Y is two dimension which is not appropriate "
   ]
  },
  {
   "cell_type": "code",
   "execution_count": 17,
   "metadata": {},
   "outputs": [
    {
     "data": {
      "text/plain": [
       "DesignMatrix with shape (20000, 28)\n",
       "  Columns:\n",
       "    ['Intercept',\n",
       "     'Race[T.hispanic]',\n",
       "     'Race[T.other]',\n",
       "     'Race[T.white]',\n",
       "     'Gender[T.male]',\n",
       "     'Age_years',\n",
       "     'Drugs',\n",
       "     'HIV',\n",
       "     'Rheumatic',\n",
       "     'Dementia',\n",
       "     'Stroke',\n",
       "     'Diabetes_without_complications',\n",
       "     'Metastatic_solid_tumour',\n",
       "     'Hypertension',\n",
       "     'Obesity',\n",
       "     'Alcohol',\n",
       "     'Cancer',\n",
       "     'Myocardial_infarction',\n",
       "     'Pulmonary',\n",
       "     'Peptic_ulcer_disease',\n",
       "     'Congestive_heart_failure',\n",
       "     'Paralysis',\n",
       "     'Renal',\n",
       "     'LiverSevere',\n",
       "     'Peripheral_vascular_disease',\n",
       "     'Depression',\n",
       "     'Diabetes_with_complications',\n",
       "     'LiverMild']\n",
       "  Terms:\n",
       "    'Intercept' (column 0)\n",
       "    'Race' (columns 1:4)\n",
       "    'Gender' (column 4)\n",
       "    'Age_years' (column 5)\n",
       "    'Drugs' (column 6)\n",
       "    'HIV' (column 7)\n",
       "    'Rheumatic' (column 8)\n",
       "    'Dementia' (column 9)\n",
       "    'Stroke' (column 10)\n",
       "    'Diabetes_without_complications' (column 11)\n",
       "    'Metastatic_solid_tumour' (column 12)\n",
       "    'Hypertension' (column 13)\n",
       "    'Obesity' (column 14)\n",
       "    'Alcohol' (column 15)\n",
       "    'Cancer' (column 16)\n",
       "    'Myocardial_infarction' (column 17)\n",
       "    'Pulmonary' (column 18)\n",
       "    'Peptic_ulcer_disease' (column 19)\n",
       "    'Congestive_heart_failure' (column 20)\n",
       "    'Paralysis' (column 21)\n",
       "    'Renal' (column 22)\n",
       "    'LiverSevere' (column 23)\n",
       "    'Peripheral_vascular_disease' (column 24)\n",
       "    'Depression' (column 25)\n",
       "    'Diabetes_with_complications' (column 26)\n",
       "    'LiverMild' (column 27)\n",
       "  (to view full data, use np.asarray(this_obj))"
      ]
     },
     "execution_count": 17,
     "metadata": {},
     "output_type": "execute_result"
    }
   ],
   "source": [
    "X"
   ]
  },
  {
   "cell_type": "code",
   "execution_count": 18,
   "metadata": {},
   "outputs": [],
   "source": [
    "from sklearn.model_selection import train_test_split\n",
    "train_x,test_x,train_y, test_y = train_test_split(X,np.ravel(Y),test_size=0.25,random_state=42) "
   ]
  },
  {
   "cell_type": "code",
   "execution_count": 19,
   "metadata": {},
   "outputs": [
    {
     "data": {
      "text/plain": [
       "(15000, 28)"
      ]
     },
     "execution_count": 19,
     "metadata": {},
     "output_type": "execute_result"
    },
    {
     "data": {
      "text/plain": [
       "(5000, 28)"
      ]
     },
     "execution_count": 19,
     "metadata": {},
     "output_type": "execute_result"
    },
    {
     "data": {
      "text/plain": [
       "(15000,)"
      ]
     },
     "execution_count": 19,
     "metadata": {},
     "output_type": "execute_result"
    },
    {
     "data": {
      "text/plain": [
       "(5000,)"
      ]
     },
     "execution_count": 19,
     "metadata": {},
     "output_type": "execute_result"
    }
   ],
   "source": [
    "train_x.shape\n",
    "test_x.shape\n",
    "train_y.shape\n",
    "test_y.shape"
   ]
  },
  {
   "cell_type": "code",
   "execution_count": 20,
   "metadata": {},
   "outputs": [
    {
     "data": {
      "text/plain": [
       "LogisticRegression(C=1.0, class_weight=None, dual=False, fit_intercept=True,\n",
       "          intercept_scaling=1, max_iter=100, multi_class='warn',\n",
       "          n_jobs=None, penalty='l2', random_state=None, solver='liblinear',\n",
       "          tol=0.0001, verbose=0, warm_start=False)"
      ]
     },
     "execution_count": 20,
     "metadata": {},
     "output_type": "execute_result"
    }
   ],
   "source": [
    "from sklearn import linear_model\n",
    "clf = linear_model.LogisticRegression(fit_intercept=True, solver=\"liblinear\")\n",
    "clf.fit(train_x,train_y)"
   ]
  },
  {
   "cell_type": "markdown",
   "metadata": {},
   "source": [
    "# Only give the label instead of the probability"
   ]
  },
  {
   "cell_type": "code",
   "execution_count": 21,
   "metadata": {},
   "outputs": [
    {
     "data": {
      "text/plain": [
       "array([0., 1., 0., ..., 0., 0., 1.])"
      ]
     },
     "execution_count": 21,
     "metadata": {},
     "output_type": "execute_result"
    }
   ],
   "source": [
    "clf.predict(test_x)"
   ]
  },
  {
   "cell_type": "code",
   "execution_count": 22,
   "metadata": {},
   "outputs": [
    {
     "data": {
      "text/plain": [
       "array([[0.60002413, 0.39997587],\n",
       "       [0.26947044, 0.73052956],\n",
       "       [0.65423155, 0.34576845],\n",
       "       ...,\n",
       "       [0.90163893, 0.09836107],\n",
       "       [0.52429071, 0.47570929],\n",
       "       [0.35281731, 0.64718269]])"
      ]
     },
     "execution_count": 22,
     "metadata": {},
     "output_type": "execute_result"
    }
   ],
   "source": [
    "clf.predict_proba(test_x)"
   ]
  },
  {
   "cell_type": "markdown",
   "metadata": {},
   "source": [
    "# Modeal Summary"
   ]
  },
  {
   "cell_type": "code",
   "execution_count": 23,
   "metadata": {},
   "outputs": [
    {
     "data": {
      "text/plain": [
       "array([[-2.24531854, -0.08285701, -0.08075652, -0.00416424,  0.02744372,\n",
       "         0.06443963,  0.31587156,  0.09847563, -0.31442877,  0.00631357,\n",
       "        -0.09646615, -0.0223541 ,  0.01333068, -0.03484709,  0.30760852,\n",
       "         0.76654827,  0.62150486,  0.78829731,  0.63714396,  0.01293294,\n",
       "         0.48604875,  0.14773417, -0.09719593,  0.98169093,  1.06505109,\n",
       "         0.51474443,  0.11715913,  0.08351838]])"
      ]
     },
     "execution_count": 23,
     "metadata": {},
     "output_type": "execute_result"
    },
    {
     "data": {
      "text/plain": [
       "(1, 28)"
      ]
     },
     "execution_count": 23,
     "metadata": {},
     "output_type": "execute_result"
    }
   ],
   "source": [
    "clf.coef_\n",
    "clf.coef_.shape"
   ]
  },
  {
   "cell_type": "markdown",
   "metadata": {},
   "source": [
    "# Get the mean score estimation"
   ]
  },
  {
   "cell_type": "code",
   "execution_count": 24,
   "metadata": {},
   "outputs": [
    {
     "data": {
      "text/plain": [
       "array(0.74793333)"
      ]
     },
     "execution_count": 24,
     "metadata": {},
     "output_type": "execute_result"
    }
   ],
   "source": [
    "clf.score(train_x,train_y)"
   ]
  },
  {
   "cell_type": "markdown",
   "metadata": {},
   "source": [
    "# The mean baseline model is 75% accuracy"
   ]
  },
  {
   "cell_type": "code",
   "execution_count": 25,
   "metadata": {},
   "outputs": [
    {
     "data": {
      "text/plain": [
       "array([[8217, 1496],\n",
       "       [2285, 3002]])"
      ]
     },
     "execution_count": 25,
     "metadata": {},
     "output_type": "execute_result"
    }
   ],
   "source": [
    "from sklearn.metrics import confusion_matrix\n",
    "confusion_matrix(train_y,clf.predict(train_x))"
   ]
  },
  {
   "cell_type": "code",
   "execution_count": 26,
   "metadata": {},
   "outputs": [
    {
     "name": "stdout",
     "output_type": "stream",
     "text": [
      "              precision    recall  f1-score   support\n",
      "\n",
      "         0.0       0.78      0.85      0.81      9713\n",
      "         1.0       0.67      0.57      0.61      5287\n",
      "\n",
      "   micro avg       0.75      0.75      0.75     15000\n",
      "   macro avg       0.72      0.71      0.71     15000\n",
      "weighted avg       0.74      0.75      0.74     15000\n",
      "\n"
     ]
    }
   ],
   "source": [
    "print(sklearn.metrics.classification_report(train_y,clf.predict(train_x)))"
   ]
  },
  {
   "cell_type": "code",
   "execution_count": 27,
   "metadata": {},
   "outputs": [
    {
     "data": {
      "text/plain": [
       "array(0.74793333)"
      ]
     },
     "execution_count": 27,
     "metadata": {},
     "output_type": "execute_result"
    },
    {
     "data": {
      "text/plain": [
       "0.6135922330097088"
      ]
     },
     "execution_count": 27,
     "metadata": {},
     "output_type": "execute_result"
    },
    {
     "data": {
      "text/plain": [
       "0.5678078305277094"
      ]
     },
     "execution_count": 27,
     "metadata": {},
     "output_type": "execute_result"
    },
    {
     "data": {
      "text/plain": [
       "0.7968749449273592"
      ]
     },
     "execution_count": 27,
     "metadata": {},
     "output_type": "execute_result"
    }
   ],
   "source": [
    "sklearn.metrics.accuracy_score(train_y,clf.predict(train_x))\n",
    "sklearn.metrics.f1_score(train_y,clf.predict(train_x))\n",
    "sklearn.metrics.recall_score(train_y,clf.predict(train_x))\n",
    "pred_prob = clf.predict_proba(train_x)[:,1]\n",
    "fpr, tpr, thresholds = sklearn.metrics.roc_curve(train_y,pred_prob,pos_label=1)\n",
    "roc_auc = sklearn.metrics.auc(fpr, tpr)\n",
    "roc_auc"
   ]
  },
  {
   "cell_type": "markdown",
   "metadata": {},
   "source": [
    "# ROC curve \n",
    "https://www.cnblogs.com/wzyuan/p/9440017.html"
   ]
  },
  {
   "cell_type": "code",
   "execution_count": 28,
   "metadata": {},
   "outputs": [
    {
     "data": {
      "text/plain": [
       "[<matplotlib.lines.Line2D at 0x1a1a0937f0>]"
      ]
     },
     "execution_count": 28,
     "metadata": {},
     "output_type": "execute_result"
    },
    {
     "data": {
      "text/plain": [
       "[<matplotlib.lines.Line2D at 0x1a1a00e198>]"
      ]
     },
     "execution_count": 28,
     "metadata": {},
     "output_type": "execute_result"
    },
    {
     "data": {
      "text/plain": [
       "(0.0, 1.0)"
      ]
     },
     "execution_count": 28,
     "metadata": {},
     "output_type": "execute_result"
    },
    {
     "data": {
      "text/plain": [
       "(0.0, 1.0)"
      ]
     },
     "execution_count": 28,
     "metadata": {},
     "output_type": "execute_result"
    },
    {
     "data": {
      "text/plain": [
       "Text(0.5, 0, 'False Positive Rate or (1 - Specifity)')"
      ]
     },
     "execution_count": 28,
     "metadata": {},
     "output_type": "execute_result"
    },
    {
     "data": {
      "text/plain": [
       "Text(0, 0.5, 'True Positive Rate or (Sensitivity)')"
      ]
     },
     "execution_count": 28,
     "metadata": {},
     "output_type": "execute_result"
    },
    {
     "data": {
      "text/plain": [
       "Text(0.5, 1.0, 'Receiver Operating Curve')"
      ]
     },
     "execution_count": 28,
     "metadata": {},
     "output_type": "execute_result"
    },
    {
     "data": {
      "image/png": "[encoded data removed]",
      "text/plain": [
       "<Figure size 720x432 with 1 Axes>"
      ]
     },
     "metadata": {
      "needs_background": "light"
     },
     "output_type": "display_data"
    }
   ],
   "source": [
    "# Plot ROC curve\n",
    "plt.plot(fpr, tpr, label='ROC curve (area = %0.3f)' % roc_auc)\n",
    "plt.plot([0, 1], [0, 1], 'k--')  # random predictions curve\n",
    "plt.xlim([0.0, 1.0])\n",
    "plt.ylim([0.0, 1.0])\n",
    "plt.xlabel('False Positive Rate or (1 - Specifity)')\n",
    "plt.ylabel('True Positive Rate or (Sensitivity)')\n",
    "plt.title('Receiver Operating Curve')"
   ]
  },
  {
   "cell_type": "markdown",
   "metadata": {},
   "source": [
    "# Kappa score"
   ]
  },
  {
   "cell_type": "code",
   "execution_count": 29,
   "metadata": {},
   "outputs": [
    {
     "data": {
      "text/plain": [
       "0.4283519760909109"
      ]
     },
     "execution_count": 29,
     "metadata": {},
     "output_type": "execute_result"
    }
   ],
   "source": [
    "sklearn.metrics.cohen_kappa_score(train_y,clf.predict(train_x))"
   ]
  },
  {
   "cell_type": "markdown",
   "metadata": {},
   "source": [
    "# sklearn learn metrics command\n",
    "https://scikit-learn.org/stable/modules/classes.html#sklearn-metrics-metrics"
   ]
  },
  {
   "cell_type": "markdown",
   "metadata": {},
   "source": [
    "# Keep track of the model score"
   ]
  },
  {
   "cell_type": "code",
   "execution_count": 30,
   "metadata": {},
   "outputs": [],
   "source": [
    "model_result = {}\n",
    "model_result['logistic']=(sklearn.metrics.accuracy_score(train_y,clf.predict(train_x)),\n",
    "                         sklearn.metrics.accuracy_score(test_y,clf.predict(test_x)))"
   ]
  },
  {
   "cell_type": "code",
   "execution_count": 31,
   "metadata": {},
   "outputs": [],
   "source": [
    "def get_result(x1):\n",
    "    print(\"\\n{0:20}   {1:4}   {2:4}\".format('Model','Train','Test'))\n",
    "    print('-----------------------------')\n",
    "    for i in x1.keys():\n",
    "        print('{0:20}  {1:<6.4}   {2:<6.3}'.format(i,x1[i][0],x1[i][1]))\n",
    "        "
   ]
  },
  {
   "cell_type": "code",
   "execution_count": 32,
   "metadata": {},
   "outputs": [
    {
     "name": "stdout",
     "output_type": "stream",
     "text": [
      "\n",
      "Model                  Train   Test\n",
      "-----------------------------\n",
      "logistic              0.7479   0.74  \n"
     ]
    }
   ],
   "source": [
    "get_result(model_result)"
   ]
  },
  {
   "cell_type": "code",
   "execution_count": 33,
   "metadata": {},
   "outputs": [
    {
     "data": {
      "text/plain": [
       "array(0.64753333)"
      ]
     },
     "execution_count": 33,
     "metadata": {},
     "output_type": "execute_result"
    }
   ],
   "source": [
    "## Null information rate\n",
    "1-train_y.mean()"
   ]
  },
  {
   "cell_type": "markdown",
   "metadata": {},
   "source": [
    "# Dummy Classifier"
   ]
  },
  {
   "cell_type": "code",
   "execution_count": 34,
   "metadata": {},
   "outputs": [
    {
     "data": {
      "text/plain": [
       "DummyClassifier(constant=None, random_state=0, strategy='most_frequent')"
      ]
     },
     "execution_count": 34,
     "metadata": {},
     "output_type": "execute_result"
    },
    {
     "data": {
      "text/plain": [
       "array(0.74793333)"
      ]
     },
     "execution_count": 34,
     "metadata": {},
     "output_type": "execute_result"
    }
   ],
   "source": [
    "from sklearn.dummy import DummyClassifier\n",
    "null_clf = DummyClassifier(strategy='most_frequent',random_state=0)\n",
    "null_clf.fit(train_x,train_y)\n",
    "clf.score(train_x,train_y)"
   ]
  },
  {
   "cell_type": "code",
   "execution_count": 35,
   "metadata": {},
   "outputs": [],
   "source": [
    "model_result['Null']=(sklearn.metrics.accuracy_score(train_y,null_clf.predict(train_x)),\n",
    "                      sklearn.metrics.accuracy_score(test_y,null_clf.predict(test_y)))"
   ]
  },
  {
   "cell_type": "code",
   "execution_count": 36,
   "metadata": {},
   "outputs": [
    {
     "name": "stdout",
     "output_type": "stream",
     "text": [
      "\n",
      "Model                  Train   Test\n",
      "-----------------------------\n",
      "logistic              0.7479   0.74  \n",
      "Null                  0.6475   0.639 \n"
     ]
    }
   ],
   "source": [
    "get_result(model_result)"
   ]
  },
  {
   "cell_type": "markdown",
   "metadata": {},
   "source": [
    "# Logistic Regression with L1 Penalty"
   ]
  },
  {
   "cell_type": "code",
   "execution_count": 37,
   "metadata": {},
   "outputs": [
    {
     "data": {
      "text/plain": [
       "LogisticRegression(C=1, class_weight=None, dual=False, fit_intercept=True,\n",
       "          intercept_scaling=1, max_iter=100, multi_class='warn',\n",
       "          n_jobs=None, penalty='l1', random_state=None, solver='liblinear',\n",
       "          tol=0.0001, verbose=0, warm_start=False)"
      ]
     },
     "execution_count": 37,
     "metadata": {},
     "output_type": "execute_result"
    }
   ],
   "source": [
    "clf_L1_logistic = linear_model.LogisticRegression(penalty='l1',C=1,solver='liblinear')\n",
    "clf_L1_logistic.fit(train_x,train_y)"
   ]
  },
  {
   "cell_type": "code",
   "execution_count": 38,
   "metadata": {},
   "outputs": [
    {
     "data": {
      "text/plain": [
       "array([[8216, 1497],\n",
       "       [2281, 3006]])"
      ]
     },
     "execution_count": 38,
     "metadata": {},
     "output_type": "execute_result"
    }
   ],
   "source": [
    "confusion_matrix(train_y,clf_L1_logistic.predict(train_x))"
   ]
  },
  {
   "cell_type": "code",
   "execution_count": 39,
   "metadata": {},
   "outputs": [],
   "source": [
    "model_result['Logistic_L1_C1']=(sklearn.metrics.accuracy_score(train_y,clf_L1_logistic.predict(train_x)),\n",
    "                               sklearn.metrics.accuracy_score(test_y,clf_L1_logistic.predict(test_x)))"
   ]
  },
  {
   "cell_type": "code",
   "execution_count": 40,
   "metadata": {},
   "outputs": [
    {
     "name": "stdout",
     "output_type": "stream",
     "text": [
      "\n",
      "Model                  Train   Test\n",
      "-----------------------------\n",
      "logistic              0.7479   0.74  \n",
      "Null                  0.6475   0.639 \n",
      "Logistic_L1_C1        0.7481   0.739 \n"
     ]
    }
   ],
   "source": [
    "get_result(model_result)"
   ]
  },
  {
   "cell_type": "code",
   "execution_count": 41,
   "metadata": {},
   "outputs": [
    {
     "data": {
      "text/plain": [
       "LogisticRegression(C=10, class_weight=None, dual=False, fit_intercept=True,\n",
       "          intercept_scaling=1, max_iter=100, multi_class='warn',\n",
       "          n_jobs=None, penalty='l1', random_state=None, solver='liblinear',\n",
       "          tol=0.0001, verbose=0, warm_start=False)"
      ]
     },
     "execution_count": 41,
     "metadata": {},
     "output_type": "execute_result"
    }
   ],
   "source": [
    "clf_L1_C10 = linear_model.LogisticRegression(penalty='l1',C=10,solver='liblinear')\n",
    "clf_L1_C10.fit(train_x,train_y)\n",
    "model_result['Logistic_L1_C10']=(sklearn.metrics.accuracy_score(train_y,clf_L1_C10.predict(train_x)),\n",
    "                               sklearn.metrics.accuracy_score(test_y,clf_L1_C10.predict(test_x)))"
   ]
  },
  {
   "cell_type": "code",
   "execution_count": 42,
   "metadata": {},
   "outputs": [
    {
     "name": "stdout",
     "output_type": "stream",
     "text": [
      "\n",
      "Model                  Train   Test\n",
      "-----------------------------\n",
      "logistic              0.7479   0.74  \n",
      "Null                  0.6475   0.639 \n",
      "Logistic_L1_C1        0.7481   0.739 \n",
      "Logistic_L1_C10       0.7477   0.74  \n"
     ]
    }
   ],
   "source": [
    "get_result(model_result)"
   ]
  },
  {
   "cell_type": "code",
   "execution_count": 43,
   "metadata": {},
   "outputs": [
    {
     "data": {
      "text/plain": [
       "LogisticRegression(C=0.01, class_weight=None, dual=False, fit_intercept=True,\n",
       "          intercept_scaling=1, max_iter=100, multi_class='warn',\n",
       "          n_jobs=None, penalty='l1', random_state=None, solver='liblinear',\n",
       "          tol=0.0001, verbose=0, warm_start=False)"
      ]
     },
     "execution_count": 43,
     "metadata": {},
     "output_type": "execute_result"
    }
   ],
   "source": [
    "clf_L1_C01 = linear_model.LogisticRegression(penalty='l1',C=0.01,solver='liblinear')\n",
    "clf_L1_C01.fit(train_x,train_y)\n",
    "model_result['Logistic_L1_C01']=(sklearn.metrics.accuracy_score(train_y,clf_L1_C01.predict(train_x)),\n",
    "                                 sklearn.metrics.accuracy_score(test_y,clf_L1_C01.predict(test_x)))"
   ]
  },
  {
   "cell_type": "code",
   "execution_count": 44,
   "metadata": {},
   "outputs": [
    {
     "name": "stdout",
     "output_type": "stream",
     "text": [
      "\n",
      "Model                  Train   Test\n",
      "-----------------------------\n",
      "logistic              0.7479   0.74  \n",
      "Null                  0.6475   0.639 \n",
      "Logistic_L1_C1        0.7481   0.739 \n",
      "Logistic_L1_C10       0.7477   0.74  \n",
      "Logistic_L1_C01       0.7349   0.727 \n"
     ]
    }
   ],
   "source": [
    "get_result(model_result)"
   ]
  },
  {
   "cell_type": "code",
   "execution_count": 45,
   "metadata": {},
   "outputs": [
    {
     "data": {
      "text/plain": [
       "LogisticRegressionCV(Cs=20, class_weight=None, cv=5, dual=False,\n",
       "           fit_intercept=True, intercept_scaling=1.0, max_iter=100,\n",
       "           multi_class='warn', n_jobs=None, penalty='l1',\n",
       "           random_state=None, refit=True, scoring=None, solver='liblinear',\n",
       "           tol=0.0001, verbose=0)"
      ]
     },
     "execution_count": 45,
     "metadata": {},
     "output_type": "execute_result"
    }
   ],
   "source": [
    "clf_cv = linear_model.LogisticRegressionCV(cv=5,Cs=20,penalty='l1',solver='liblinear')\n",
    "clf_cv.fit(train_x,train_y)"
   ]
  },
  {
   "cell_type": "code",
   "execution_count": 46,
   "metadata": {},
   "outputs": [
    {
     "data": {
      "text/plain": [
       "20"
      ]
     },
     "execution_count": 46,
     "metadata": {},
     "output_type": "execute_result"
    },
    {
     "data": {
      "text/plain": [
       "array([1.00000000e-04, 2.63665090e-04, 6.95192796e-04, 1.83298071e-03,\n",
       "       4.83293024e-03, 1.27427499e-02, 3.35981829e-02, 8.85866790e-02,\n",
       "       2.33572147e-01, 6.15848211e-01, 1.62377674e+00, 4.28133240e+00,\n",
       "       1.12883789e+01, 2.97635144e+01, 7.84759970e+01, 2.06913808e+02,\n",
       "       5.45559478e+02, 1.43844989e+03, 3.79269019e+03, 1.00000000e+04])"
      ]
     },
     "execution_count": 46,
     "metadata": {},
     "output_type": "execute_result"
    },
    {
     "data": {
      "text/plain": [
       "array([0.08858668])"
      ]
     },
     "execution_count": 46,
     "metadata": {},
     "output_type": "execute_result"
    }
   ],
   "source": [
    "## how many C's were fit?\n",
    "clf_cv.Cs\n",
    "## which C's were fit?\n",
    "clf_cv.Cs_\n",
    "## Which C was 'best'? \n",
    "clf_cv.C_"
   ]
  },
  {
   "cell_type": "code",
   "execution_count": 47,
   "metadata": {},
   "outputs": [],
   "source": [
    "model_result['logistic_L1_C1_auto']=(sklearn.metrics.accuracy_score(train_y,clf_cv.predict(train_x)),\n",
    "                                 sklearn.metrics.accuracy_score(test_y,clf_cv.predict(test_x)))"
   ]
  },
  {
   "cell_type": "code",
   "execution_count": 48,
   "metadata": {},
   "outputs": [
    {
     "name": "stdout",
     "output_type": "stream",
     "text": [
      "\n",
      "Model                  Train   Test\n",
      "-----------------------------\n",
      "logistic              0.7479   0.74  \n",
      "Null                  0.6475   0.639 \n",
      "Logistic_L1_C1        0.7481   0.739 \n",
      "Logistic_L1_C10       0.7477   0.74  \n",
      "Logistic_L1_C01       0.7349   0.727 \n",
      "logistic_L1_C1_auto   0.7474   0.74  \n"
     ]
    }
   ],
   "source": [
    "get_result(model_result)"
   ]
  },
  {
   "cell_type": "markdown",
   "metadata": {},
   "source": [
    "### The L1 not improve the model accuracy, it indicates the original model is not overfitting"
   ]
  },
  {
   "cell_type": "markdown",
   "metadata": {},
   "source": [
    "## Scaling and Pipeline"
   ]
  },
  {
   "cell_type": "code",
   "execution_count": 49,
   "metadata": {},
   "outputs": [
    {
     "data": {
      "text/plain": [
       "Pipeline(memory=None,\n",
       "     steps=[('scale', StandardScaler(copy=True, with_mean=True, with_std=True)), ('Lasso', LogisticRegressionCV(Cs=20, class_weight=None, cv=5, dual=False,\n",
       "           fit_intercept=True, intercept_scaling=1.0, max_iter=100,\n",
       "           multi_class='warn', n_jobs=None, penalty='l1',\n",
       "           random_state=None, refit=True, scoring=None, solver='liblinear',\n",
       "           tol=0.0001, verbose=0))])"
      ]
     },
     "execution_count": 49,
     "metadata": {},
     "output_type": "execute_result"
    }
   ],
   "source": [
    "from sklearn import preprocessing\n",
    "from sklearn.pipeline import Pipeline\n",
    "scaler = preprocessing.StandardScaler()\n",
    "clf = linear_model.LogisticRegressionCV(cv =5, Cs=20,penalty='l1',solver='liblinear')\n",
    "pipe1 = Pipeline([(\"scale\",scaler),\n",
    "                ('Lasso',clf)])\n",
    "pipe1.fit(train_x,train_y)"
   ]
  },
  {
   "cell_type": "code",
   "execution_count": 50,
   "metadata": {},
   "outputs": [
    {
     "data": {
      "text/plain": [
       "{'scale': StandardScaler(copy=True, with_mean=True, with_std=True),\n",
       " 'Lasso': LogisticRegressionCV(Cs=20, class_weight=None, cv=5, dual=False,\n",
       "            fit_intercept=True, intercept_scaling=1.0, max_iter=100,\n",
       "            multi_class='warn', n_jobs=None, penalty='l1',\n",
       "            random_state=None, refit=True, scoring=None, solver='liblinear',\n",
       "            tol=0.0001, verbose=0)}"
      ]
     },
     "execution_count": 50,
     "metadata": {},
     "output_type": "execute_result"
    }
   ],
   "source": [
    "pipe1.named_steps"
   ]
  },
  {
   "cell_type": "code",
   "execution_count": 51,
   "metadata": {},
   "outputs": [
    {
     "data": {
      "text/plain": [
       "array([0.03359818])"
      ]
     },
     "execution_count": 51,
     "metadata": {},
     "output_type": "execute_result"
    }
   ],
   "source": [
    "pipe1.named_steps['Lasso'].C_"
   ]
  },
  {
   "cell_type": "code",
   "execution_count": 52,
   "metadata": {},
   "outputs": [],
   "source": [
    "model_result['logistic_scale_L1_auto']=(sklearn.metrics.accuracy_score(train_y,pipe1.predict(train_x)),\n",
    "                                 sklearn.metrics.accuracy_score(test_y,pipe1.predict(test_x)))"
   ]
  },
  {
   "cell_type": "code",
   "execution_count": 53,
   "metadata": {},
   "outputs": [
    {
     "name": "stdout",
     "output_type": "stream",
     "text": [
      "\n",
      "Model                  Train   Test\n",
      "-----------------------------\n",
      "logistic              0.7479   0.74  \n",
      "Null                  0.6475   0.639 \n",
      "Logistic_L1_C1        0.7481   0.739 \n",
      "Logistic_L1_C10       0.7477   0.74  \n",
      "Logistic_L1_C01       0.7349   0.727 \n",
      "logistic_L1_C1_auto   0.7474   0.74  \n",
      "logistic_scale_L1_auto  0.748    0.74  \n"
     ]
    }
   ],
   "source": [
    "get_result(model_result)"
   ]
  },
  {
   "cell_type": "code",
   "execution_count": 54,
   "metadata": {},
   "outputs": [],
   "source": [
    "from sklearn.preprocessing import PolynomialFeatures\n",
    "scaler = preprocessing.StandardScaler()\n",
    "poly_feat = PolynomialFeatures(degree=2,include_bias=False)\n",
    "clf = linear_model.LogisticRegressionCV(cv=5,Cs=20,solver='liblinear',penalty='l1')\n",
    "pipe2=Pipeline([('scale',scaler),\n",
    "               ('poly',poly_feat),\n",
    "               ('Lasso',clf)])"
   ]
  },
  {
   "cell_type": "code",
   "execution_count": null,
   "metadata": {},
   "outputs": [],
   "source": [
    "#pipe2.fit(train_x,train_y)"
   ]
  },
  {
   "cell_type": "code",
   "execution_count": null,
   "metadata": {},
   "outputs": [],
   "source": [
    "#result_scores['LogisticL1_poly'] = \\\n",
    "             #(sklearn.metrics.accuracy_score(train_x,pipe2.predict(train_x)),\n",
    "              #sklearn.metrics.accuracy_score(test_y,pipe2.predict(test_x)))\n",
    "#get_results(result_scores)"
   ]
  },
  {
   "cell_type": "markdown",
   "metadata": {},
   "source": [
    "# Random Forest"
   ]
  },
  {
   "cell_type": "markdown",
   "metadata": {},
   "source": [
    "## Hyperparameter Tuning\n",
    "https://towardsdatascience.com/hyperparameter-tuning-the-random-forest-in-python-using-scikit-learn-28d2aa77dd74"
   ]
  },
  {
   "cell_type": "code",
   "execution_count": 57,
   "metadata": {},
   "outputs": [
    {
     "data": {
      "text/plain": [
       "RandomForestClassifier(bootstrap=True, class_weight=None, criterion='gini',\n",
       "            max_depth=None, max_features=10, max_leaf_nodes=None,\n",
       "            min_impurity_decrease=0.0, min_impurity_split=None,\n",
       "            min_samples_leaf=1, min_samples_split=2,\n",
       "            min_weight_fraction_leaf=0.0, n_estimators=100, n_jobs=None,\n",
       "            oob_score=False, random_state=42, verbose=0, warm_start=False)"
      ]
     },
     "execution_count": 57,
     "metadata": {},
     "output_type": "execute_result"
    }
   ],
   "source": [
    "### Fit Random Forest\n",
    "from sklearn import ensemble\n",
    "clf_rf = ensemble.RandomForestClassifier(n_estimators=100,max_features=10,random_state=42)\n",
    "clf_rf.fit(train_x,train_y)"
   ]
  },
  {
   "cell_type": "code",
   "execution_count": 58,
   "metadata": {},
   "outputs": [
    {
     "data": {
      "text/plain": [
       "array([[9706,    7],\n",
       "       [  15, 5272]])"
      ]
     },
     "execution_count": 58,
     "metadata": {},
     "output_type": "execute_result"
    }
   ],
   "source": [
    "confusion_matrix(train_y,clf_rf.predict(train_x))"
   ]
  },
  {
   "cell_type": "code",
   "execution_count": 62,
   "metadata": {},
   "outputs": [],
   "source": [
    "model_result['Random_noCV']=(sklearn.metrics.accuracy_score(train_y,clf_rf.predict(train_x)),\n",
    "                          sklearn.metrics.accuracy_score(test_y,clf_rf.predict(test_x)))"
   ]
  },
  {
   "cell_type": "code",
   "execution_count": 63,
   "metadata": {},
   "outputs": [
    {
     "name": "stdout",
     "output_type": "stream",
     "text": [
      "\n",
      "Model                  Train   Test\n",
      "-----------------------------\n",
      "logistic              0.7479   0.74  \n",
      "Null                  0.6475   0.639 \n",
      "Logistic_L1_C1        0.7481   0.739 \n",
      "Logistic_L1_C10       0.7477   0.74  \n",
      "Logistic_L1_C01       0.7349   0.727 \n",
      "logistic_L1_C1_auto   0.7474   0.74  \n",
      "logistic_scale_L1_auto  0.748    0.74  \n",
      "Random_CV             0.9985   0.68  \n",
      "Random_noCV           0.9985   0.68  \n"
     ]
    }
   ],
   "source": [
    "get_result(model_result)"
   ]
  },
  {
   "cell_type": "code",
   "execution_count": 66,
   "metadata": {},
   "outputs": [
    {
     "data": {
      "text/plain": [
       "GridSearchCV(cv=5, error_score='raise-deprecating',\n",
       "       estimator=RandomForestClassifier(bootstrap=True, class_weight=None, criterion='gini',\n",
       "            max_depth=None, max_features='auto', max_leaf_nodes=None,\n",
       "            min_impurity_decrease=0.0, min_impurity_split=None,\n",
       "            min_samples_leaf=1, min_samples_split=2,\n",
       "            min_weight_fraction_leaf=0.0, n_estimators='warn', n_jobs=None,\n",
       "            oob_score=False, random_state=32, verbose=0, warm_start=False),\n",
       "       fit_params=None, iid='warn', n_jobs=None,\n",
       "       param_grid={'n_estimators': (50, 100, 200, 300), 'max_features': (5, 10, 15, 20)},\n",
       "       pre_dispatch='2*n_jobs', refit=True, return_train_score=True,\n",
       "       scoring=None, verbose=0)"
      ]
     },
     "execution_count": 66,
     "metadata": {},
     "output_type": "execute_result"
    }
   ],
   "source": [
    "from sklearn.model_selection import GridSearchCV\n",
    "parameters = {'n_estimators':(50,100,200,300),\n",
    "             'max_features':(5,10,15,20)}\n",
    "rf_model = ensemble.RandomForestClassifier(random_state=32)\n",
    "clf_cv = GridSearchCV(rf_model, parameters,cv=5,return_train_score=True)\n",
    "clf_cv.fit(train_x,train_y)"
   ]
  },
  {
   "cell_type": "code",
   "execution_count": 67,
   "metadata": {},
   "outputs": [
    {
     "data": {
      "text/plain": [
       "{'max_features': 20, 'n_estimators': 300}"
      ]
     },
     "execution_count": 67,
     "metadata": {},
     "output_type": "execute_result"
    },
    {
     "data": {
      "text/plain": [
       "{'mean_fit_time': array([0.55026813, 1.06935678, 2.20060601, 3.34780483, 0.75936751,\n",
       "        1.50453725, 3.00374465, 4.55585771, 0.98908591, 1.89151421,\n",
       "        3.785078  , 5.70253325, 1.19800396, 2.33351831, 4.60136647,\n",
       "        7.06182265]),\n",
       " 'std_fit_time': array([0.0629803 , 0.05153412, 0.06584268, 0.02702886, 0.0134784 ,\n",
       "        0.03999663, 0.02993743, 0.07201751, 0.02984625, 0.02232912,\n",
       "        0.0939331 , 0.11353175, 0.04622178, 0.06214685, 0.05124768,\n",
       "        0.13383101]),\n",
       " 'mean_score_time': array([0.03330989, 0.06990371, 0.13542528, 0.20525274, 0.03354897,\n",
       "        0.07324839, 0.14819546, 0.2257216 , 0.03915286, 0.06808977,\n",
       "        0.14612751, 0.22358274, 0.03416076, 0.06562228, 0.13488393,\n",
       "        0.20481572]),\n",
       " 'std_score_time': array([0.00027678, 0.00447785, 0.00803228, 0.01268782, 0.00079806,\n",
       "        0.00239143, 0.00794403, 0.01672283, 0.00765719, 0.00053227,\n",
       "        0.01533163, 0.02523798, 0.00254054, 0.00049978, 0.00119064,\n",
       "        0.00430298]),\n",
       " 'param_max_features': masked_array(data=[5, 5, 5, 5, 10, 10, 10, 10, 15, 15, 15, 15, 20, 20, 20,\n",
       "                    20],\n",
       "              mask=[False, False, False, False, False, False, False, False,\n",
       "                    False, False, False, False, False, False, False, False],\n",
       "        fill_value='?',\n",
       "             dtype=object),\n",
       " 'param_n_estimators': masked_array(data=[50, 100, 200, 300, 50, 100, 200, 300, 50, 100, 200,\n",
       "                    300, 50, 100, 200, 300],\n",
       "              mask=[False, False, False, False, False, False, False, False,\n",
       "                    False, False, False, False, False, False, False, False],\n",
       "        fill_value='?',\n",
       "             dtype=object),\n",
       " 'params': [{'max_features': 5, 'n_estimators': 50},\n",
       "  {'max_features': 5, 'n_estimators': 100},\n",
       "  {'max_features': 5, 'n_estimators': 200},\n",
       "  {'max_features': 5, 'n_estimators': 300},\n",
       "  {'max_features': 10, 'n_estimators': 50},\n",
       "  {'max_features': 10, 'n_estimators': 100},\n",
       "  {'max_features': 10, 'n_estimators': 200},\n",
       "  {'max_features': 10, 'n_estimators': 300},\n",
       "  {'max_features': 15, 'n_estimators': 50},\n",
       "  {'max_features': 15, 'n_estimators': 100},\n",
       "  {'max_features': 15, 'n_estimators': 200},\n",
       "  {'max_features': 15, 'n_estimators': 300},\n",
       "  {'max_features': 20, 'n_estimators': 50},\n",
       "  {'max_features': 20, 'n_estimators': 100},\n",
       "  {'max_features': 20, 'n_estimators': 200},\n",
       "  {'max_features': 20, 'n_estimators': 300}],\n",
       " 'split0_test_score': array([0.67744085, 0.67844052, 0.67710763, 0.67844052, 0.6871043 ,\n",
       "        0.68677108, 0.68910363, 0.68743752, 0.69043652, 0.69476841,\n",
       "        0.69210263, 0.69443519, 0.69643452, 0.69276908, 0.69676774,\n",
       "        0.69710097]),\n",
       " 'split1_test_score': array([0.67844052, 0.67744085, 0.67710763, 0.67744085, 0.68877041,\n",
       "        0.68977008, 0.69110297, 0.68677108, 0.69443519, 0.6961013 ,\n",
       "        0.69410197, 0.69710097, 0.69243585, 0.69576808, 0.69743419,\n",
       "        0.69976674]),\n",
       " 'split2_test_score': array([0.67733333, 0.675     , 0.678     , 0.677     , 0.69066667,\n",
       "        0.69      , 0.69433333, 0.693     , 0.70033333, 0.699     ,\n",
       "        0.70033333, 0.69933333, 0.70433333, 0.70166667, 0.69966667,\n",
       "        0.70033333]),\n",
       " 'split3_test_score': array([0.68322774, 0.68356119, 0.68456152, 0.68389463, 0.69456485,\n",
       "        0.69423141, 0.69323108, 0.69323108, 0.69956652, 0.69656552,\n",
       "        0.69589863, 0.69623208, 0.69523174, 0.69889963, 0.69923308,\n",
       "        0.69989997]),\n",
       " 'split4_test_score': array([0.67322441, 0.67422474, 0.67055685, 0.66955652, 0.69023008,\n",
       "        0.68689563, 0.68922974, 0.69023008, 0.6978993 , 0.70156719,\n",
       "        0.69989997, 0.70023341, 0.69656552, 0.70123374, 0.70423474,\n",
       "        0.70256752]),\n",
       " 'mean_test_score': array([0.67793333, 0.67773333, 0.67746667, 0.67726667, 0.69026667,\n",
       "        0.68953333, 0.6914    , 0.69013333, 0.69653333, 0.6976    ,\n",
       "        0.69646667, 0.69746667, 0.697     , 0.69806667, 0.69946667,\n",
       "        0.69993333]),\n",
       " 'std_test_score': array([0.00319524, 0.00329593, 0.00444054, 0.00457868, 0.00248488,\n",
       "        0.00271758, 0.00209895, 0.00269809, 0.00366305, 0.00240959,\n",
       "        0.00321565, 0.00209701, 0.00395602, 0.00337756, 0.00261689,\n",
       "        0.00174072]),\n",
       " 'rank_test_score': array([13, 14, 15, 16, 10, 12,  9, 11,  7,  4,  8,  5,  6,  3,  2,  1],\n",
       "       dtype=int32),\n",
       " 'split0_train_score': array([0.99833319, 0.99899992, 0.99899992, 0.99899992, 0.99841653,\n",
       "        0.99899992, 0.99899992, 0.99899992, 0.99799983, 0.99899992,\n",
       "        0.99899992, 0.99899992, 0.99841653, 0.99899992, 0.99899992,\n",
       "        0.99899992]),\n",
       " 'split1_train_score': array([0.99783315, 0.99866656, 0.99883324, 0.99883324, 0.99808317,\n",
       "        0.9987499 , 0.99883324, 0.99883324, 0.99799983, 0.99866656,\n",
       "        0.99883324, 0.99883324, 0.99791649, 0.99866656, 0.99883324,\n",
       "        0.99883324]),\n",
       " 'split2_train_score': array([0.99725   , 0.99816667, 0.99858333, 0.99858333, 0.99766667,\n",
       "        0.99833333, 0.99858333, 0.99858333, 0.99766667, 0.99833333,\n",
       "        0.99858333, 0.99858333, 0.99741667, 0.99841667, 0.99858333,\n",
       "        0.99858333]),\n",
       " 'split3_train_score': array([0.99691692, 0.9987501 , 0.99891676, 0.99891676, 0.99741688,\n",
       "        0.99866678, 0.99891676, 0.99891676, 0.99758353, 0.9987501 ,\n",
       "        0.99891676, 0.99891676, 0.99766686, 0.9987501 , 0.99891676,\n",
       "        0.99891676]),\n",
       " 'split4_train_score': array([0.99700025, 0.9987501 , 0.99891676, 0.99891676, 0.99733356,\n",
       "        0.9987501 , 0.99891676, 0.99891676, 0.99758353, 0.9987501 ,\n",
       "        0.99891676, 0.99891676, 0.99783351, 0.9987501 , 0.99891676,\n",
       "        0.99891676]),\n",
       " 'mean_train_score': array([0.9974667 , 0.99866667, 0.99885   , 0.99885   , 0.99778336,\n",
       "        0.99870001, 0.99885   , 0.99885   , 0.99776668, 0.9987    ,\n",
       "        0.99885   , 0.99885   , 0.99785001, 0.99871667, 0.99885   ,\n",
       "        0.99885   ]),\n",
       " 'std_train_score': array([0.00053887, 0.00027385, 0.00014337, 0.00014337, 0.00041013,\n",
       "        0.00021471, 0.00014337, 0.00014337, 0.00019277, 0.00021472,\n",
       "        0.00014337, 0.00014337, 0.00033075, 0.00018707, 0.00014337,\n",
       "        0.00014337])}"
      ]
     },
     "execution_count": 67,
     "metadata": {},
     "output_type": "execute_result"
    }
   ],
   "source": [
    "clf_cv.best_params_\n",
    "clf_cv.cv_results_"
   ]
  },
  {
   "cell_type": "code",
   "execution_count": 70,
   "metadata": {},
   "outputs": [
    {
     "name": "stdout",
     "output_type": "stream",
     "text": [
      "\n",
      "Model                  Train   Test\n",
      "-----------------------------\n",
      "logistic              0.7479   0.74  \n",
      "Null                  0.6475   0.639 \n",
      "Logistic_L1_C1        0.7481   0.739 \n",
      "Logistic_L1_C10       0.7477   0.74  \n",
      "Logistic_L1_C01       0.7349   0.727 \n",
      "logistic_L1_C1_auto   0.7474   0.74  \n",
      "logistic_scale_L1_auto  0.748    0.74  \n",
      "Random_CV             0.9985   0.68  \n",
      "Random_noCV           0.9985   0.68  \n",
      "RandomForest_CV       0.9985   0.688 \n"
     ]
    }
   ],
   "source": [
    "## add model score\n",
    "## Score the Model on Training and Testing Set\n",
    "model_result['RandomForest_CV'] = \\\n",
    "            (sklearn.metrics.accuracy_score(train_y,clf_cv.predict(train_x)),\n",
    "             sklearn.metrics.accuracy_score(test_y,clf_cv.predict(test_x)))\n",
    "get_result(model_result)"
   ]
  },
  {
   "cell_type": "code",
   "execution_count": null,
   "metadata": {},
   "outputs": [],
   "source": []
  },
  {
   "cell_type": "code",
   "execution_count": null,
   "metadata": {},
   "outputs": [],
   "source": []
  },
  {
   "cell_type": "code",
   "execution_count": 71,
   "metadata": {},
   "outputs": [
    {
     "data": {
      "text/plain": [
       "GridSearchCV(cv=5, error_score='raise-deprecating',\n",
       "       estimator=RandomForestClassifier(bootstrap=True, class_weight=None, criterion='gini',\n",
       "            max_depth=None, max_features=20, max_leaf_nodes=None,\n",
       "            min_impurity_decrease=0.0, min_impurity_split=None,\n",
       "            min_samples_leaf=1, min_samples_split=2,\n",
       "            min_weight_fraction_leaf=0.0, n_estimators=100, n_jobs=None,\n",
       "            oob_score=False, random_state=32, verbose=0, warm_start=False),\n",
       "       fit_params=None, iid='warn', n_jobs=None,\n",
       "       param_grid={'max_depth': (2, 5, 7, 10, 20)},\n",
       "       pre_dispatch='2*n_jobs', refit=True, return_train_score=True,\n",
       "       scoring=None, verbose=0)"
      ]
     },
     "execution_count": 71,
     "metadata": {},
     "output_type": "execute_result"
    }
   ],
   "source": [
    "from sklearn.model_selection import GridSearchCV\n",
    "## specify grid\n",
    "parameters2 = {'max_depth':(2,5,7,10,20)}\n",
    "## specify model without hyperparameters\n",
    "rf_model = ensemble.RandomForestClassifier(max_features=20,\n",
    "                                           n_estimators=100,\n",
    "                                           random_state=32)\n",
    "## specify search with model\n",
    "clf = GridSearchCV(rf_model,\n",
    "                   parameters2,\n",
    "                   cv=5,\n",
    "                   return_train_score=True)\n",
    "clf.fit(train_x,train_y)"
   ]
  },
  {
   "cell_type": "code",
   "execution_count": 72,
   "metadata": {},
   "outputs": [
    {
     "name": "stdout",
     "output_type": "stream",
     "text": [
      "\n",
      "Model                  Train   Test\n",
      "-----------------------------\n",
      "logistic              0.7479   0.74  \n",
      "Null                  0.6475   0.639 \n",
      "Logistic_L1_C1        0.7481   0.739 \n",
      "Logistic_L1_C10       0.7477   0.74  \n",
      "Logistic_L1_C01       0.7349   0.727 \n",
      "logistic_L1_C1_auto   0.7474   0.74  \n",
      "logistic_scale_L1_auto  0.748    0.74  \n",
      "Random_CV             0.9985   0.68  \n",
      "Random_noCV           0.9985   0.68  \n",
      "RandomForest_CV       0.9985   0.688 \n",
      "RandomForest_CV2      0.9985   0.688 \n"
     ]
    }
   ],
   "source": [
    "model_result['RandomForest_CV2'] = \\\n",
    "            (sklearn.metrics.accuracy_score(train_y,clf_cv.predict(train_x)),\n",
    "             sklearn.metrics.accuracy_score(test_y,clf_cv.predict(test_x)))\n",
    "get_result(model_result)"
   ]
  },
  {
   "cell_type": "code",
   "execution_count": null,
   "metadata": {},
   "outputs": [],
   "source": []
  }
 ],
 "metadata": {
  "kernelspec": {
   "display_name": "Python 3",
   "language": "python",
   "name": "python3"
  },
  "language_info": {
   "codemirror_mode": {
    "name": "ipython",
    "version": 3
   },
   "file_extension": ".py",
   "mimetype": "text/x-python",
   "name": "python",
   "nbconvert_exporter": "python",
   "pygments_lexer": "ipython3",
   "version": "3.6.7"
  }
 },
 "nbformat": 4,
 "nbformat_minor": 2
}
