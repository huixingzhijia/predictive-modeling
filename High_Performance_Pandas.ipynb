{
 "cells": [
  {
   "cell_type": "markdown",
   "metadata": {},
   "source": [
    "# High Performance Pandas"
   ]
  },
  {
   "cell_type": "markdown",
   "metadata": {},
   "source": [
    "## Libraries and Setup"
   ]
  },
  {
   "cell_type": "markdown",
   "metadata": {},
   "source": [
    "All of the code in this section will get us setup for the rest of the lecture and ensure the output from the lecture looks reasonable. "
   ]
  },
  {
   "cell_type": "code",
   "execution_count": 1,
   "metadata": {},
   "outputs": [],
   "source": [
    "## import some standard data science modules\n",
    "import sys\n",
    "import pandas as pd\n",
    "import matplotlib\n",
    "import matplotlib.pyplot as plt\n",
    "import numpy as np\n",
    "import seaborn as sns\n",
    "import os\n",
    "import textwrap"
   ]
  },
  {
   "cell_type": "code",
   "execution_count": 2,
   "metadata": {},
   "outputs": [],
   "source": [
    "## Enable inline plotting for graphics\n",
    "%matplotlib inline\n",
    "## So all output comes through from Ipython\n",
    "from IPython.core.interactiveshell import InteractiveShell\n",
    "InteractiveShell.ast_node_interactivity = \"all\""
   ]
  },
  {
   "cell_type": "code",
   "execution_count": 3,
   "metadata": {},
   "outputs": [
    {
     "name": "stdout",
     "output_type": "stream",
     "text": [
      "3.6.7 |Anaconda, Inc.| (default, Oct 23 2018, 14:01:38)  [GCC 4.2.1\n",
      "Compatible Clang 4.0.1 (tags/RELEASE_401/final)] \n",
      "\n",
      "Pandas version: 0.23.4\n",
      "Matplotlib version: 3.0.2\n",
      "Numpy version: 1.15.4\n",
      "Seaborn version: 0.9.0\n"
     ]
    }
   ],
   "source": [
    "## Get Version information\n",
    "print(textwrap.fill(sys.version),'\\n')\n",
    "print(\"Pandas version: {0}\".format(pd.__version__))\n",
    "print(\"Matplotlib version: {0}\".format(matplotlib.__version__))\n",
    "print(\"Numpy version: {0}\".format(np.__version__))\n",
    "print(\"Seaborn version: {0}\".format(sns.__version__))"
   ]
  },
  {
   "cell_type": "code",
   "execution_count": 4,
   "metadata": {},
   "outputs": [],
   "source": [
    "## set pandas row print output\n",
    "pd.options.display.max_rows = 10"
   ]
  },
  {
   "cell_type": "markdown",
   "metadata": {},
   "source": [
    "I will use relative paths to import the data and store results. You should identify and update your working directory so paths correctly point at the downloaded data files. You can check your working directory like so:"
   ]
  },
  {
   "cell_type": "code",
   "execution_count": 5,
   "metadata": {},
   "outputs": [
    {
     "name": "stdout",
     "output_type": "stream",
     "text": [
      "My working directory:\n",
      "/Users/wenhuizeng/High Performance\n"
     ]
    }
   ],
   "source": [
    "# Working Directory\n",
    "import os\n",
    "print(\"My working directory:\\n\" + os.getcwd())\n",
    "# Set Working Directory (if needed)\n",
    "os.chdir(r\"/Users/wenhuizeng/Library/Mobile Documents/com~apple~CloudDocs/high performance/week5/retail_sales\")\n",
    "#print(\"My new working directory:\\n\" + os.getcwd())"
   ]
  },
  {
   "cell_type": "markdown",
   "metadata": {},
   "source": [
    "## Efficient memory usage"
   ]
  },
  {
   "cell_type": "markdown",
   "metadata": {},
   "source": [
    "As you know, Python is limited by the system's available memory. If we are using far less than the available memory, we don't really care about this and proceed as you have previously learned. However, if we start operating near the 'edge' of our memory (data objects > 1/3 the total available memory), we may run out of memory! Now we need to start trying to write memory efficient code. \n",
    "\n",
    "Let's bring this back to the concept of 'high performance Python' coding. If we are doing data management with Pandas (Python), there are multiple strategies we can employ to optimize resource usage during the data management steps.\n",
    "\n",
    "One resource is **total memory**. Here are some strategies to manage memory footprints: \n",
    "  \n",
    "1.  Use the smallest dtype possible (downcast data types)\n",
    "2.  Filter columns/rows that aren't needed upon data ingestion\n",
    "5.  Use inplace modifications for your dataframes to avoid making too many copies\n",
    "3.  Work on chunks of the data one at a time to preprocess, then store the results on disk (in hdf5)\n",
    "4.  Work on chunks of the data one at a time to preprocess, then store the results on disk (in sqlite database perhaps)"
   ]
  },
  {
   "cell_type": "markdown",
   "metadata": {},
   "source": [
    "## Import and examine data"
   ]
  },
  {
   "cell_type": "markdown",
   "metadata": {},
   "source": [
    "Let's start by importing the patient data, then using some of these techniques. "
   ]
  },
  {
   "cell_type": "code",
   "execution_count": 6,
   "metadata": {},
   "outputs": [
    {
     "data": {
      "text/html": [
       "<div>\n",
       "<style scoped>\n",
       "    .dataframe tbody tr th:only-of-type {\n",
       "        vertical-align: middle;\n",
       "    }\n",
       "\n",
       "    .dataframe tbody tr th {\n",
       "        vertical-align: top;\n",
       "    }\n",
       "\n",
       "    .dataframe thead th {\n",
       "        text-align: right;\n",
       "    }\n",
       "</style>\n",
       "<table border=\"1\" class=\"dataframe\">\n",
       "  <thead>\n",
       "    <tr style=\"text-align: right;\">\n",
       "      <th></th>\n",
       "      <th>patient_id</th>\n",
       "      <th>hosp_id</th>\n",
       "      <th>age</th>\n",
       "      <th>gender</th>\n",
       "      <th>mortality</th>\n",
       "      <th>SES</th>\n",
       "      <th>lab_value_1</th>\n",
       "      <th>lab_value_2</th>\n",
       "    </tr>\n",
       "  </thead>\n",
       "  <tbody>\n",
       "    <tr>\n",
       "      <th>0</th>\n",
       "      <td>100000</td>\n",
       "      <td>77</td>\n",
       "      <td>70</td>\n",
       "      <td>Male</td>\n",
       "      <td>Yes</td>\n",
       "      <td>Med</td>\n",
       "      <td>139.95</td>\n",
       "      <td>11.357018</td>\n",
       "    </tr>\n",
       "    <tr>\n",
       "      <th>1</th>\n",
       "      <td>100001</td>\n",
       "      <td>45</td>\n",
       "      <td>64</td>\n",
       "      <td>Male</td>\n",
       "      <td>No</td>\n",
       "      <td>Low</td>\n",
       "      <td>121.46</td>\n",
       "      <td>8.956167</td>\n",
       "    </tr>\n",
       "    <tr>\n",
       "      <th>2</th>\n",
       "      <td>100002</td>\n",
       "      <td>5</td>\n",
       "      <td>76</td>\n",
       "      <td>Male</td>\n",
       "      <td>No</td>\n",
       "      <td>Med</td>\n",
       "      <td>53.64</td>\n",
       "      <td>9.267209</td>\n",
       "    </tr>\n",
       "    <tr>\n",
       "      <th>3</th>\n",
       "      <td>100003</td>\n",
       "      <td>13</td>\n",
       "      <td>51</td>\n",
       "      <td>Male</td>\n",
       "      <td>No</td>\n",
       "      <td>High</td>\n",
       "      <td>99.75</td>\n",
       "      <td>13.125279</td>\n",
       "    </tr>\n",
       "    <tr>\n",
       "      <th>4</th>\n",
       "      <td>100004</td>\n",
       "      <td>70</td>\n",
       "      <td>76</td>\n",
       "      <td>Male</td>\n",
       "      <td>No</td>\n",
       "      <td>Low</td>\n",
       "      <td>118.64</td>\n",
       "      <td>9.034593</td>\n",
       "    </tr>\n",
       "    <tr>\n",
       "      <th>...</th>\n",
       "      <td>...</td>\n",
       "      <td>...</td>\n",
       "      <td>...</td>\n",
       "      <td>...</td>\n",
       "      <td>...</td>\n",
       "      <td>...</td>\n",
       "      <td>...</td>\n",
       "      <td>...</td>\n",
       "    </tr>\n",
       "    <tr>\n",
       "      <th>99995</th>\n",
       "      <td>199995</td>\n",
       "      <td>60</td>\n",
       "      <td>66</td>\n",
       "      <td>Male</td>\n",
       "      <td>No</td>\n",
       "      <td>Med</td>\n",
       "      <td>90.88</td>\n",
       "      <td>10.028221</td>\n",
       "    </tr>\n",
       "    <tr>\n",
       "      <th>99996</th>\n",
       "      <td>199996</td>\n",
       "      <td>14</td>\n",
       "      <td>71</td>\n",
       "      <td>Male</td>\n",
       "      <td>No</td>\n",
       "      <td>Low</td>\n",
       "      <td>105.57</td>\n",
       "      <td>10.628457</td>\n",
       "    </tr>\n",
       "    <tr>\n",
       "      <th>99997</th>\n",
       "      <td>199997</td>\n",
       "      <td>39</td>\n",
       "      <td>73</td>\n",
       "      <td>Male</td>\n",
       "      <td>Yes</td>\n",
       "      <td>Med</td>\n",
       "      <td>106.52</td>\n",
       "      <td>10.366011</td>\n",
       "    </tr>\n",
       "    <tr>\n",
       "      <th>99998</th>\n",
       "      <td>199998</td>\n",
       "      <td>21</td>\n",
       "      <td>60</td>\n",
       "      <td>Female</td>\n",
       "      <td>No</td>\n",
       "      <td>High</td>\n",
       "      <td>78.02</td>\n",
       "      <td>12.258343</td>\n",
       "    </tr>\n",
       "    <tr>\n",
       "      <th>99999</th>\n",
       "      <td>199999</td>\n",
       "      <td>81</td>\n",
       "      <td>61</td>\n",
       "      <td>Male</td>\n",
       "      <td>No</td>\n",
       "      <td>Low</td>\n",
       "      <td>112.12</td>\n",
       "      <td>11.636582</td>\n",
       "    </tr>\n",
       "  </tbody>\n",
       "</table>\n",
       "<p>100000 rows × 8 columns</p>\n",
       "</div>"
      ],
      "text/plain": [
       "       patient_id  hosp_id  age  gender mortality   SES  lab_value_1  \\\n",
       "0          100000       77   70    Male       Yes   Med       139.95   \n",
       "1          100001       45   64    Male        No   Low       121.46   \n",
       "2          100002        5   76    Male        No   Med        53.64   \n",
       "3          100003       13   51    Male        No  High        99.75   \n",
       "4          100004       70   76    Male        No   Low       118.64   \n",
       "...           ...      ...  ...     ...       ...   ...          ...   \n",
       "99995      199995       60   66    Male        No   Med        90.88   \n",
       "99996      199996       14   71    Male        No   Low       105.57   \n",
       "99997      199997       39   73    Male       Yes   Med       106.52   \n",
       "99998      199998       21   60  Female        No  High        78.02   \n",
       "99999      199999       81   61    Male        No   Low       112.12   \n",
       "\n",
       "       lab_value_2  \n",
       "0        11.357018  \n",
       "1         8.956167  \n",
       "2         9.267209  \n",
       "3        13.125279  \n",
       "4         9.034593  \n",
       "...            ...  \n",
       "99995    10.028221  \n",
       "99996    10.628457  \n",
       "99997    10.366011  \n",
       "99998    12.258343  \n",
       "99999    11.636582  \n",
       "\n",
       "[100000 rows x 8 columns]"
      ]
     },
     "execution_count": 6,
     "metadata": {},
     "output_type": "execute_result"
    }
   ],
   "source": [
    "## ingest the patient data\n",
    "patient = pd.read_csv('patient_demo.csv')\n",
    "## add some continuous columns for later using numpy random number simulations :) \n",
    "np.random.seed(10)\n",
    "patient['lab_value_1'] = \\\n",
    "    np.round(np.random.normal(size=100000,\n",
    "                             loc=100,scale=30),\n",
    "             2)\n",
    "patient['lab_value_2'] = \\\n",
    "    np.round(np.random.normal(size=100000,\n",
    "                             loc=10,scale=2),\n",
    "             8)\n",
    "## check out data\n",
    "patient"
   ]
  },
  {
   "cell_type": "code",
   "execution_count": 7,
   "metadata": {},
   "outputs": [
    {
     "data": {
      "text/html": [
       "<div>\n",
       "<style scoped>\n",
       "    .dataframe tbody tr th:only-of-type {\n",
       "        vertical-align: middle;\n",
       "    }\n",
       "\n",
       "    .dataframe tbody tr th {\n",
       "        vertical-align: top;\n",
       "    }\n",
       "\n",
       "    .dataframe thead th {\n",
       "        text-align: right;\n",
       "    }\n",
       "</style>\n",
       "<table border=\"1\" class=\"dataframe\">\n",
       "  <thead>\n",
       "    <tr style=\"text-align: right;\">\n",
       "      <th></th>\n",
       "      <th>hosp_id</th>\n",
       "      <th>academic</th>\n",
       "    </tr>\n",
       "  </thead>\n",
       "  <tbody>\n",
       "    <tr>\n",
       "      <th>0</th>\n",
       "      <td>1</td>\n",
       "      <td>Yes</td>\n",
       "    </tr>\n",
       "    <tr>\n",
       "      <th>1</th>\n",
       "      <td>2</td>\n",
       "      <td>Yes</td>\n",
       "    </tr>\n",
       "    <tr>\n",
       "      <th>2</th>\n",
       "      <td>3</td>\n",
       "      <td>Yes</td>\n",
       "    </tr>\n",
       "    <tr>\n",
       "      <th>3</th>\n",
       "      <td>4</td>\n",
       "      <td>Yes</td>\n",
       "    </tr>\n",
       "    <tr>\n",
       "      <th>4</th>\n",
       "      <td>5</td>\n",
       "      <td>Yes</td>\n",
       "    </tr>\n",
       "    <tr>\n",
       "      <th>...</th>\n",
       "      <td>...</td>\n",
       "      <td>...</td>\n",
       "    </tr>\n",
       "    <tr>\n",
       "      <th>95</th>\n",
       "      <td>96</td>\n",
       "      <td>Yes</td>\n",
       "    </tr>\n",
       "    <tr>\n",
       "      <th>96</th>\n",
       "      <td>97</td>\n",
       "      <td>Yes</td>\n",
       "    </tr>\n",
       "    <tr>\n",
       "      <th>97</th>\n",
       "      <td>98</td>\n",
       "      <td>No</td>\n",
       "    </tr>\n",
       "    <tr>\n",
       "      <th>98</th>\n",
       "      <td>99</td>\n",
       "      <td>No</td>\n",
       "    </tr>\n",
       "    <tr>\n",
       "      <th>99</th>\n",
       "      <td>100</td>\n",
       "      <td>No</td>\n",
       "    </tr>\n",
       "  </tbody>\n",
       "</table>\n",
       "<p>100 rows × 2 columns</p>\n",
       "</div>"
      ],
      "text/plain": [
       "    hosp_id academic\n",
       "0         1      Yes\n",
       "1         2      Yes\n",
       "2         3      Yes\n",
       "3         4      Yes\n",
       "4         5      Yes\n",
       "..      ...      ...\n",
       "95       96      Yes\n",
       "96       97      Yes\n",
       "97       98       No\n",
       "98       99       No\n",
       "99      100       No\n",
       "\n",
       "[100 rows x 2 columns]"
      ]
     },
     "execution_count": 7,
     "metadata": {},
     "output_type": "execute_result"
    }
   ],
   "source": [
    "## ingest the hospital data\n",
    "hosp = pd.read_csv('hosp_demo.csv') \n",
    "hosp"
   ]
  },
  {
   "cell_type": "markdown",
   "metadata": {},
   "source": [
    "Let's check out some details on the total memory footprint of this data:"
   ]
  },
  {
   "cell_type": "code",
   "execution_count": 8,
   "metadata": {},
   "outputs": [
    {
     "name": "stdout",
     "output_type": "stream",
     "text": [
      "<class 'pandas.core.frame.DataFrame'>\n",
      "RangeIndex: 100000 entries, 0 to 99999\n",
      "Data columns (total 8 columns):\n",
      "patient_id     100000 non-null int64\n",
      "hosp_id        100000 non-null int64\n",
      "age            100000 non-null int64\n",
      "gender         100000 non-null object\n",
      "mortality      100000 non-null object\n",
      "SES            100000 non-null object\n",
      "lab_value_1    100000 non-null float64\n",
      "lab_value_2    100000 non-null float64\n",
      "dtypes: float64(2), int64(3), object(3)\n",
      "memory usage: 6.1+ MB\n"
     ]
    }
   ],
   "source": [
    "## check the size of the data frame\n",
    "patient.info()"
   ]
  },
  {
   "cell_type": "code",
   "execution_count": 9,
   "metadata": {},
   "outputs": [
    {
     "name": "stdout",
     "output_type": "stream",
     "text": [
      "<class 'pandas.core.frame.DataFrame'>\n",
      "RangeIndex: 100000 entries, 0 to 99999\n",
      "Data columns (total 8 columns):\n",
      "patient_id     100000 non-null int64\n",
      "hosp_id        100000 non-null int64\n",
      "age            100000 non-null int64\n",
      "gender         100000 non-null object\n",
      "mortality      100000 non-null object\n",
      "SES            100000 non-null object\n",
      "lab_value_1    100000 non-null float64\n",
      "lab_value_2    100000 non-null float64\n",
      "dtypes: float64(2), int64(3), object(3)\n",
      "memory usage: 21.0 MB\n"
     ]
    }
   ],
   "source": [
    "## take the time to do an exact memory profile:\n",
    "patient.info(memory_usage='deep')"
   ]
  },
  {
   "cell_type": "code",
   "execution_count": 10,
   "metadata": {},
   "outputs": [
    {
     "data": {
      "text/plain": [
       "Index               80\n",
       "patient_id      800000\n",
       "hosp_id         800000\n",
       "age             800000\n",
       "gender         6119864\n",
       "mortality      5917989\n",
       "SES            6019847\n",
       "lab_value_1     800000\n",
       "lab_value_2     800000\n",
       "dtype: int64"
      ]
     },
     "execution_count": 10,
     "metadata": {},
     "output_type": "execute_result"
    },
    {
     "data": {
      "text/plain": [
       "Index          0.000004\n",
       "patient_id     0.036268\n",
       "hosp_id        0.036268\n",
       "age            0.036268\n",
       "gender         0.277447\n",
       "mortality      0.268295\n",
       "SES            0.272913\n",
       "lab_value_1    0.036268\n",
       "lab_value_2    0.036268\n",
       "dtype: float64"
      ]
     },
     "execution_count": 10,
     "metadata": {},
     "output_type": "execute_result"
    }
   ],
   "source": [
    "## Check this by column\n",
    "#skip the line\n",
    "col_summary = \\\n",
    "    patient.memory_usage(deep=True)\n",
    "col_summary\n",
    "## Check the percentage\n",
    "col_summary/col_summary.sum()"
   ]
  },
  {
   "cell_type": "markdown",
   "metadata": {},
   "source": [
    "We could also look at the memory usage by data type to better understand what columns are taking up all of the memory here:"
   ]
  },
  {
   "cell_type": "code",
   "execution_count": 11,
   "metadata": {},
   "outputs": [
    {
     "data": {
      "text/plain": [
       "patient_id       int64\n",
       "hosp_id          int64\n",
       "age              int64\n",
       "gender          object\n",
       "mortality       object\n",
       "SES             object\n",
       "lab_value_1    float64\n",
       "lab_value_2    float64\n",
       "dtype: object"
      ]
     },
     "execution_count": 11,
     "metadata": {},
     "output_type": "execute_result"
    }
   ],
   "source": [
    "## check dtypes\n",
    "patient.dtypes"
   ]
  },
  {
   "cell_type": "code",
   "execution_count": 12,
   "metadata": {},
   "outputs": [
    {
     "name": "stdout",
     "output_type": "stream",
     "text": [
      "Average memory usage for float columns: 0.51 MB\n",
      "Average memory usage for int columns: 0.57 MB\n",
      "Average memory usage for object columns: 4.31 MB\n"
     ]
    }
   ],
   "source": [
    "## check each dtype memory usage\n",
    "## code inspired by https://www.dataquest.io/blog/pandas-big-data/\n",
    "for dtype in ['float','int','object']:\n",
    "    selected_dtype = patient.select_dtypes(include=[dtype])\n",
    "    mean_usage_b = selected_dtype.memory_usage(deep=True).mean()\n",
    "    mean_usage_mb = mean_usage_b / 1024 ** 2\n",
    "    print(\"Average memory usage for {} columns: {:03.2f} MB\".format(dtype,mean_usage_mb))"
   ]
  },
  {
   "cell_type": "markdown",
   "metadata": {},
   "source": [
    "It looks like the integers take up essentially no space, the float takes up a bit more, and the object columns take up 90% on average. This is a bit misleading, the 'index' is being included with the ints, and it is very small. But the other ints are the same size as the floats as we saw above. \n",
    "\n",
    "Can we somehow change these (default) dtypes to get a smaller dataframe? "
   ]
  },
  {
   "cell_type": "markdown",
   "metadata": {},
   "source": [
    "### Dtypes in Pandas"
   ]
  },
  {
   "cell_type": "markdown",
   "metadata": {},
   "source": [
    "You have previously learned about high-level dtypes in Pandas, but now let's focus on a lower level perspective....\n",
    "\n",
    "Pandas by default will use 64 bit versions of both floats and integers, as we saw above after importing the patient data. However, do we really need 64 bits of precision on those values? Perhaps not...\n",
    "\n",
    "*  An unsigned 32 bit integer will cover ID values up to 4,294,967,296"
   ]
  },
  {
   "cell_type": "code",
   "execution_count": 13,
   "metadata": {},
   "outputs": [
    {
     "data": {
      "text/plain": [
       "256"
      ]
     },
     "execution_count": 13,
     "metadata": {},
     "output_type": "execute_result"
    },
    {
     "data": {
      "text/plain": [
       "65536"
      ]
     },
     "execution_count": 13,
     "metadata": {},
     "output_type": "execute_result"
    },
    {
     "data": {
      "text/plain": [
       "4294967296"
      ]
     },
     "execution_count": 13,
     "metadata": {},
     "output_type": "execute_result"
    },
    {
     "data": {
      "text/plain": [
       "18446744073709551616"
      ]
     },
     "execution_count": 13,
     "metadata": {},
     "output_type": "execute_result"
    }
   ],
   "source": [
    "## 8 bits (one byte)\n",
    "2**8\n",
    "## 16 bits (2 bytes)\n",
    "2**16\n",
    "## 32bit integer (4 bytes)\n",
    "2**32\n",
    "## 64 bit integer (8 bytes)\n",
    "2**64"
   ]
  },
  {
   "cell_type": "markdown",
   "metadata": {},
   "source": [
    "Let's convert some of the integers to something smaller than 64 bits using `.to_numeric()`, then check their size again"
   ]
  },
  {
   "cell_type": "code",
   "execution_count": 14,
   "metadata": {},
   "outputs": [],
   "source": [
    "## Convert the int64s to unsigned (positive ints)\n",
    "patient['patient_id_small'] =\\\n",
    "    pd.to_numeric(patient['patient_id'],\n",
    "                  downcast = 'unsigned')\n",
    "#down cast my patient id as small as possible\n",
    "patient['hosp_id_small'] =\\\n",
    "    pd.to_numeric(patient['hosp_id'],\n",
    "                  downcast = 'unsigned')\n",
    "patient['age_small'] =\\\n",
    "    pd.to_numeric(patient['age'],\n",
    "                  downcast = 'unsigned')"
   ]
  },
  {
   "cell_type": "markdown",
   "metadata": {},
   "source": [
    "The floats can also be coerced to a lower precision, usually we would only go down to 32 from 64. "
   ]
  },
  {
   "cell_type": "code",
   "execution_count": 15,
   "metadata": {},
   "outputs": [],
   "source": [
    "## Convert the float for lab value 1\n",
    "patient['lab_value_1_small'] =\\\n",
    "    pd.to_numeric(patient['lab_value_1'],\n",
    "                  downcast = 'float')"
   ]
  },
  {
   "cell_type": "markdown",
   "metadata": {},
   "source": [
    "Now we can check out the dtypes and memory efficiency:"
   ]
  },
  {
   "cell_type": "code",
   "execution_count": 16,
   "metadata": {},
   "outputs": [
    {
     "data": {
      "text/plain": [
       "patient_id             int64\n",
       "hosp_id                int64\n",
       "age                    int64\n",
       "lab_value_1          float64\n",
       "lab_value_2          float64\n",
       "patient_id_small      uint32\n",
       "hosp_id_small          uint8\n",
       "age_small              uint8\n",
       "lab_value_1_small    float32\n",
       "dtype: object"
      ]
     },
     "execution_count": 16,
     "metadata": {},
     "output_type": "execute_result"
    },
    {
     "data": {
      "text/plain": [
       "Index                    80\n",
       "patient_id           800000\n",
       "hosp_id              800000\n",
       "age                  800000\n",
       "lab_value_1          800000\n",
       "lab_value_2          800000\n",
       "patient_id_small     400000\n",
       "hosp_id_small        100000\n",
       "age_small            100000\n",
       "lab_value_1_small    400000\n",
       "dtype: int64"
      ]
     },
     "execution_count": 16,
     "metadata": {},
     "output_type": "execute_result"
    },
    {
     "data": {
      "text/plain": [
       "Index                0.000016\n",
       "patient_id           0.159997\n",
       "hosp_id              0.159997\n",
       "age                  0.159997\n",
       "lab_value_1          0.159997\n",
       "lab_value_2          0.159997\n",
       "patient_id_small     0.079999\n",
       "hosp_id_small        0.020000\n",
       "age_small            0.020000\n",
       "lab_value_1_small    0.079999\n",
       "dtype: float64"
      ]
     },
     "execution_count": 16,
     "metadata": {},
     "output_type": "execute_result"
    }
   ],
   "source": [
    "## dtypes\n",
    "patient.select_dtypes('number').dtypes\n",
    "## memory \n",
    "col_summary = \\\n",
    "    patient\\\n",
    "    .select_dtypes('number')\\\n",
    "    .memory_usage(deep=True)\n",
    "col_summary\n",
    "## Check the percentage\n",
    "col_summary/col_summary.sum()"
   ]
  },
  {
   "cell_type": "markdown",
   "metadata": {},
   "source": [
    "As a final consideration, let's check out the text data or the 'object' data. There is another dtype in Pandas called 'categorical', which is like the R 'Factors'. This dtype will take the unique values of a column, then map them to an integer. This is far more efficient for repeated data. "
   ]
  },
  {
   "cell_type": "code",
   "execution_count": 17,
   "metadata": {},
   "outputs": [],
   "source": [
    "## convert strings to categoricals\n",
    "patient['gender_small'] =\\\n",
    "    patient['gender'].astype('category')\n",
    "patient['mortality_small'] =\\\n",
    "    patient['mortality'].astype('category')\n",
    "patient['SES_small'] =\\\n",
    "    patient['SES'].astype('category')"
   ]
  },
  {
   "cell_type": "markdown",
   "metadata": {},
   "source": [
    "Now let's check out the resulting values:"
   ]
  },
  {
   "cell_type": "code",
   "execution_count": 18,
   "metadata": {},
   "outputs": [
    {
     "data": {
      "text/plain": [
       "gender               object\n",
       "mortality            object\n",
       "SES                  object\n",
       "gender_small       category\n",
       "mortality_small    category\n",
       "SES_small          category\n",
       "dtype: object"
      ]
     },
     "execution_count": 18,
     "metadata": {},
     "output_type": "execute_result"
    },
    {
     "data": {
      "text/plain": [
       "Index                   80\n",
       "gender             6119864\n",
       "mortality          5917989\n",
       "SES                6019847\n",
       "gender_small        100204\n",
       "mortality_small     100199\n",
       "SES_small           100261\n",
       "dtype: int64"
      ]
     },
     "execution_count": 18,
     "metadata": {},
     "output_type": "execute_result"
    },
    {
     "data": {
      "text/plain": [
       "Index              0.000004\n",
       "gender             0.333354\n",
       "mortality          0.322358\n",
       "SES                0.327906\n",
       "gender_small       0.005458\n",
       "mortality_small    0.005458\n",
       "SES_small          0.005461\n",
       "dtype: float64"
      ]
     },
     "execution_count": 18,
     "metadata": {},
     "output_type": "execute_result"
    }
   ],
   "source": [
    "## dtypes\n",
    "patient.select_dtypes(exclude='number').dtypes\n",
    "## memory \n",
    "col_summary = \\\n",
    "    patient\\\n",
    "    .select_dtypes(exclude='number')\\\n",
    "    .memory_usage(deep=True)\n",
    "col_summary\n",
    "## Check the percentage\n",
    "col_summary/col_summary.sum()\n",
    "\n",
    "#compare gender to gender_small, the storage reduce a lot from 33% to 5%."
   ]
  },
  {
   "cell_type": "markdown",
   "metadata": {},
   "source": [
    "Let's check out new dataframe out and compare to the old dataframe:"
   ]
  },
  {
   "cell_type": "markdown",
   "metadata": {},
   "source": [
    "# New way to subset"
   ]
  },
  {
   "cell_type": "code",
   "execution_count": 19,
   "metadata": {},
   "outputs": [
    {
     "name": "stdout",
     "output_type": "stream",
     "text": [
      "<class 'pandas.core.frame.DataFrame'>\n",
      "RangeIndex: 100000 entries, 0 to 99999\n",
      "Data columns (total 7 columns):\n",
      "patient_id_small     100000 non-null uint32\n",
      "hosp_id_small        100000 non-null uint8\n",
      "age_small            100000 non-null uint8\n",
      "lab_value_1_small    100000 non-null float32\n",
      "gender_small         100000 non-null category\n",
      "mortality_small      100000 non-null category\n",
      "SES_small            100000 non-null category\n",
      "dtypes: category(3), float32(1), uint32(1), uint8(2)\n",
      "memory usage: 1.2 MB\n"
     ]
    }
   ],
   "source": [
    "ind1 = patient.columns.str.endswith('small')\n",
    "df_new = \\\n",
    "    patient[patient.columns[ind1]]\n",
    "df_old = \\\n",
    "    patient[patient.columns[~ind1]]\n",
    "## take the time to do an exact memory profile:\n",
    "df_new.info(memory_usage='deep')"
   ]
  },
  {
   "cell_type": "code",
   "execution_count": 20,
   "metadata": {},
   "outputs": [
    {
     "name": "stdout",
     "output_type": "stream",
     "text": [
      "<class 'pandas.core.frame.DataFrame'>\n",
      "RangeIndex: 100000 entries, 0 to 99999\n",
      "Data columns (total 8 columns):\n",
      "patient_id     100000 non-null int64\n",
      "hosp_id        100000 non-null int64\n",
      "age            100000 non-null int64\n",
      "gender         100000 non-null object\n",
      "mortality      100000 non-null object\n",
      "SES            100000 non-null object\n",
      "lab_value_1    100000 non-null float64\n",
      "lab_value_2    100000 non-null float64\n",
      "dtypes: float64(2), int64(3), object(3)\n",
      "memory usage: 21.0 MB\n"
     ]
    }
   ],
   "source": [
    "df_old.info(memory_usage='deep')"
   ]
  },
  {
   "cell_type": "markdown",
   "metadata": {},
   "source": [
    "When to use 32 versus 64 \n",
    "\n",
    "1. how much precision do I need?   \n",
    "6-8 decimal points 64 more accurate. \n",
    "2. How fast does my code need to run?\n",
    "3. How much memory am I using? "
   ]
  },
  {
   "cell_type": "markdown",
   "metadata": {},
   "source": [
    "### Inplace operations"
   ]
  },
  {
   "cell_type": "markdown",
   "metadata": {},
   "source": [
    "In general, Pandas is quite lazy with generating copies of dataframes and will carelessly create copies when we do most operations. If we want to limit this copying behaviour, there are a few things we can do. \n",
    "\n",
    "*  Ensure we use an index method when slicing / updating date  \n",
    ".loc or .iloc not make copy but touch the data directly\n",
    "*  use the inplace = True argument for some dataframe manipulations"
   ]
  },
  {
   "cell_type": "code",
   "execution_count": 21,
   "metadata": {},
   "outputs": [],
   "source": [
    "## example of updating age to mask older people for privacy\n",
    "## no copy created\n",
    "patient.loc[patient['age'] > 89,'age'] = \\\n",
    "    np.NaN"
   ]
  },
  {
   "cell_type": "code",
   "execution_count": 22,
   "metadata": {},
   "outputs": [
    {
     "data": {
      "text/html": [
       "<div>\n",
       "<style scoped>\n",
       "    .dataframe tbody tr th:only-of-type {\n",
       "        vertical-align: middle;\n",
       "    }\n",
       "\n",
       "    .dataframe tbody tr th {\n",
       "        vertical-align: top;\n",
       "    }\n",
       "\n",
       "    .dataframe thead th {\n",
       "        text-align: right;\n",
       "    }\n",
       "</style>\n",
       "<table border=\"1\" class=\"dataframe\">\n",
       "  <thead>\n",
       "    <tr style=\"text-align: right;\">\n",
       "      <th></th>\n",
       "      <th>patient_id_small</th>\n",
       "      <th>hosp_id_small</th>\n",
       "      <th>age_small</th>\n",
       "      <th>lab_value_1_small</th>\n",
       "      <th>gender_small</th>\n",
       "      <th>mortality_small</th>\n",
       "      <th>SES_small</th>\n",
       "    </tr>\n",
       "  </thead>\n",
       "  <tbody>\n",
       "    <tr>\n",
       "      <th>0</th>\n",
       "      <td>100000</td>\n",
       "      <td>77</td>\n",
       "      <td>70</td>\n",
       "      <td>139.949997</td>\n",
       "      <td>Male</td>\n",
       "      <td>Yes</td>\n",
       "      <td>Med</td>\n",
       "    </tr>\n",
       "    <tr>\n",
       "      <th>1</th>\n",
       "      <td>100001</td>\n",
       "      <td>45</td>\n",
       "      <td>64</td>\n",
       "      <td>121.459999</td>\n",
       "      <td>Male</td>\n",
       "      <td>No</td>\n",
       "      <td>Low</td>\n",
       "    </tr>\n",
       "    <tr>\n",
       "      <th>2</th>\n",
       "      <td>100002</td>\n",
       "      <td>5</td>\n",
       "      <td>76</td>\n",
       "      <td>53.639999</td>\n",
       "      <td>Male</td>\n",
       "      <td>No</td>\n",
       "      <td>Med</td>\n",
       "    </tr>\n",
       "    <tr>\n",
       "      <th>3</th>\n",
       "      <td>100003</td>\n",
       "      <td>13</td>\n",
       "      <td>51</td>\n",
       "      <td>99.750000</td>\n",
       "      <td>Male</td>\n",
       "      <td>No</td>\n",
       "      <td>High</td>\n",
       "    </tr>\n",
       "    <tr>\n",
       "      <th>4</th>\n",
       "      <td>100004</td>\n",
       "      <td>70</td>\n",
       "      <td>76</td>\n",
       "      <td>118.639999</td>\n",
       "      <td>Male</td>\n",
       "      <td>No</td>\n",
       "      <td>Low</td>\n",
       "    </tr>\n",
       "    <tr>\n",
       "      <th>...</th>\n",
       "      <td>...</td>\n",
       "      <td>...</td>\n",
       "      <td>...</td>\n",
       "      <td>...</td>\n",
       "      <td>...</td>\n",
       "      <td>...</td>\n",
       "      <td>...</td>\n",
       "    </tr>\n",
       "    <tr>\n",
       "      <th>99995</th>\n",
       "      <td>199995</td>\n",
       "      <td>60</td>\n",
       "      <td>66</td>\n",
       "      <td>90.879997</td>\n",
       "      <td>Male</td>\n",
       "      <td>No</td>\n",
       "      <td>Med</td>\n",
       "    </tr>\n",
       "    <tr>\n",
       "      <th>99996</th>\n",
       "      <td>199996</td>\n",
       "      <td>14</td>\n",
       "      <td>71</td>\n",
       "      <td>105.570000</td>\n",
       "      <td>Male</td>\n",
       "      <td>No</td>\n",
       "      <td>Low</td>\n",
       "    </tr>\n",
       "    <tr>\n",
       "      <th>99997</th>\n",
       "      <td>199997</td>\n",
       "      <td>39</td>\n",
       "      <td>73</td>\n",
       "      <td>106.519997</td>\n",
       "      <td>Male</td>\n",
       "      <td>Yes</td>\n",
       "      <td>Med</td>\n",
       "    </tr>\n",
       "    <tr>\n",
       "      <th>99998</th>\n",
       "      <td>199998</td>\n",
       "      <td>21</td>\n",
       "      <td>60</td>\n",
       "      <td>78.019997</td>\n",
       "      <td>Female</td>\n",
       "      <td>No</td>\n",
       "      <td>High</td>\n",
       "    </tr>\n",
       "    <tr>\n",
       "      <th>99999</th>\n",
       "      <td>199999</td>\n",
       "      <td>81</td>\n",
       "      <td>61</td>\n",
       "      <td>112.120003</td>\n",
       "      <td>Male</td>\n",
       "      <td>No</td>\n",
       "      <td>Low</td>\n",
       "    </tr>\n",
       "  </tbody>\n",
       "</table>\n",
       "<p>100000 rows × 7 columns</p>\n",
       "</div>"
      ],
      "text/plain": [
       "       patient_id_small  hosp_id_small  age_small  lab_value_1_small  \\\n",
       "0                100000             77         70         139.949997   \n",
       "1                100001             45         64         121.459999   \n",
       "2                100002              5         76          53.639999   \n",
       "3                100003             13         51          99.750000   \n",
       "4                100004             70         76         118.639999   \n",
       "...                 ...            ...        ...                ...   \n",
       "99995            199995             60         66          90.879997   \n",
       "99996            199996             14         71         105.570000   \n",
       "99997            199997             39         73         106.519997   \n",
       "99998            199998             21         60          78.019997   \n",
       "99999            199999             81         61         112.120003   \n",
       "\n",
       "      gender_small mortality_small SES_small  \n",
       "0             Male             Yes       Med  \n",
       "1             Male              No       Low  \n",
       "2             Male              No       Med  \n",
       "3             Male              No      High  \n",
       "4             Male              No       Low  \n",
       "...            ...             ...       ...  \n",
       "99995         Male              No       Med  \n",
       "99996         Male              No       Low  \n",
       "99997         Male             Yes       Med  \n",
       "99998       Female              No      High  \n",
       "99999         Male              No       Low  \n",
       "\n",
       "[100000 rows x 7 columns]"
      ]
     },
     "execution_count": 22,
     "metadata": {},
     "output_type": "execute_result"
    },
    {
     "name": "stderr",
     "output_type": "stream",
     "text": [
      "/anaconda3/envs/py36/lib/python3.6/site-packages/ipykernel_launcher.py:3: SettingWithCopyWarning: \n",
      "A value is trying to be set on a copy of a slice from a DataFrame\n",
      "\n",
      "See the caveats in the documentation: http://pandas.pydata.org/pandas-docs/stable/indexing.html#indexing-view-versus-copy\n",
      "  This is separate from the ipykernel package so we can avoid doing imports until\n",
      "/anaconda3/envs/py36/lib/python3.6/site-packages/ipykernel_launcher.py:4: SettingWithCopyWarning: \n",
      "A value is trying to be set on a copy of a slice from a DataFrame\n",
      "\n",
      "See the caveats in the documentation: http://pandas.pydata.org/pandas-docs/stable/indexing.html#indexing-view-versus-copy\n",
      "  after removing the cwd from sys.path.\n"
     ]
    },
    {
     "data": {
      "text/html": [
       "<div>\n",
       "<style scoped>\n",
       "    .dataframe tbody tr th:only-of-type {\n",
       "        vertical-align: middle;\n",
       "    }\n",
       "\n",
       "    .dataframe tbody tr th {\n",
       "        vertical-align: top;\n",
       "    }\n",
       "\n",
       "    .dataframe thead th {\n",
       "        text-align: right;\n",
       "    }\n",
       "</style>\n",
       "<table border=\"1\" class=\"dataframe\">\n",
       "  <thead>\n",
       "    <tr style=\"text-align: right;\">\n",
       "      <th></th>\n",
       "      <th>patient_id_small</th>\n",
       "      <th>hosp_id_small</th>\n",
       "      <th>age_small</th>\n",
       "      <th>lab_value_1_small</th>\n",
       "      <th>gender_small</th>\n",
       "      <th>mortality_small</th>\n",
       "      <th>SES_small</th>\n",
       "    </tr>\n",
       "  </thead>\n",
       "  <tbody>\n",
       "    <tr>\n",
       "      <th>2078</th>\n",
       "      <td>102078</td>\n",
       "      <td>38</td>\n",
       "      <td>22</td>\n",
       "      <td>62.830002</td>\n",
       "      <td>Male</td>\n",
       "      <td>No</td>\n",
       "      <td>Low</td>\n",
       "    </tr>\n",
       "    <tr>\n",
       "      <th>8941</th>\n",
       "      <td>108941</td>\n",
       "      <td>44</td>\n",
       "      <td>23</td>\n",
       "      <td>128.440002</td>\n",
       "      <td>Male</td>\n",
       "      <td>Yes</td>\n",
       "      <td>High</td>\n",
       "    </tr>\n",
       "    <tr>\n",
       "      <th>66410</th>\n",
       "      <td>166410</td>\n",
       "      <td>4</td>\n",
       "      <td>25</td>\n",
       "      <td>115.690002</td>\n",
       "      <td>Male</td>\n",
       "      <td>Yes</td>\n",
       "      <td>Med</td>\n",
       "    </tr>\n",
       "    <tr>\n",
       "      <th>30714</th>\n",
       "      <td>130714</td>\n",
       "      <td>31</td>\n",
       "      <td>26</td>\n",
       "      <td>44.759998</td>\n",
       "      <td>Male</td>\n",
       "      <td>No</td>\n",
       "      <td>Med</td>\n",
       "    </tr>\n",
       "    <tr>\n",
       "      <th>19131</th>\n",
       "      <td>119131</td>\n",
       "      <td>64</td>\n",
       "      <td>27</td>\n",
       "      <td>127.370003</td>\n",
       "      <td>Male</td>\n",
       "      <td>No</td>\n",
       "      <td>Low</td>\n",
       "    </tr>\n",
       "    <tr>\n",
       "      <th>...</th>\n",
       "      <td>...</td>\n",
       "      <td>...</td>\n",
       "      <td>...</td>\n",
       "      <td>...</td>\n",
       "      <td>...</td>\n",
       "      <td>...</td>\n",
       "      <td>...</td>\n",
       "    </tr>\n",
       "    <tr>\n",
       "      <th>56709</th>\n",
       "      <td>156709</td>\n",
       "      <td>54</td>\n",
       "      <td>105</td>\n",
       "      <td>116.209999</td>\n",
       "      <td>Male</td>\n",
       "      <td>No</td>\n",
       "      <td>High</td>\n",
       "    </tr>\n",
       "    <tr>\n",
       "      <th>10129</th>\n",
       "      <td>110129</td>\n",
       "      <td>72</td>\n",
       "      <td>107</td>\n",
       "      <td>80.470001</td>\n",
       "      <td>Male</td>\n",
       "      <td>No</td>\n",
       "      <td>Med</td>\n",
       "    </tr>\n",
       "    <tr>\n",
       "      <th>14797</th>\n",
       "      <td>114797</td>\n",
       "      <td>61</td>\n",
       "      <td>107</td>\n",
       "      <td>102.309998</td>\n",
       "      <td>Male</td>\n",
       "      <td>Yes</td>\n",
       "      <td>Med</td>\n",
       "    </tr>\n",
       "    <tr>\n",
       "      <th>19396</th>\n",
       "      <td>119396</td>\n",
       "      <td>35</td>\n",
       "      <td>108</td>\n",
       "      <td>159.820007</td>\n",
       "      <td>Male</td>\n",
       "      <td>No</td>\n",
       "      <td>Med</td>\n",
       "    </tr>\n",
       "    <tr>\n",
       "      <th>26803</th>\n",
       "      <td>126803</td>\n",
       "      <td>41</td>\n",
       "      <td>109</td>\n",
       "      <td>68.669998</td>\n",
       "      <td>Male</td>\n",
       "      <td>No</td>\n",
       "      <td>Low</td>\n",
       "    </tr>\n",
       "  </tbody>\n",
       "</table>\n",
       "<p>100000 rows × 7 columns</p>\n",
       "</div>"
      ],
      "text/plain": [
       "       patient_id_small  hosp_id_small  age_small  lab_value_1_small  \\\n",
       "2078             102078             38         22          62.830002   \n",
       "8941             108941             44         23         128.440002   \n",
       "66410            166410              4         25         115.690002   \n",
       "30714            130714             31         26          44.759998   \n",
       "19131            119131             64         27         127.370003   \n",
       "...                 ...            ...        ...                ...   \n",
       "56709            156709             54        105         116.209999   \n",
       "10129            110129             72        107          80.470001   \n",
       "14797            114797             61        107         102.309998   \n",
       "19396            119396             35        108         159.820007   \n",
       "26803            126803             41        109          68.669998   \n",
       "\n",
       "      gender_small mortality_small SES_small  \n",
       "2078          Male              No       Low  \n",
       "8941          Male             Yes      High  \n",
       "66410         Male             Yes       Med  \n",
       "30714         Male              No       Med  \n",
       "19131         Male              No       Low  \n",
       "...            ...             ...       ...  \n",
       "56709         Male              No      High  \n",
       "10129         Male              No       Med  \n",
       "14797         Male             Yes       Med  \n",
       "19396         Male              No       Med  \n",
       "26803         Male              No       Low  \n",
       "\n",
       "[100000 rows x 7 columns]"
      ]
     },
     "execution_count": 22,
     "metadata": {},
     "output_type": "execute_result"
    }
   ],
   "source": [
    "## use inplace = True if possible examples\n",
    "df_new\n",
    "df_new.dropna(inplace=True)\n",
    "df_new.sort_values(by='age_small',inplace=True)\n",
    "#df_new.rename(str.upper, axis='columns', inplace=True)\n",
    "df_new"
   ]
  },
  {
   "cell_type": "markdown",
   "metadata": {},
   "source": [
    "### Sparse Matrices"
   ]
  },
  {
   "cell_type": "markdown",
   "metadata": {},
   "source": [
    "It is also worth mentioning the support for sparse matrices that Pandas includes. As an example, we may have a large amount of zero's in a matrix of disease conditions. We can encode this as a sparse matrix, where we only denote the non-zero values (or potentially non-missing). In this case, we have three variables that occur ~3% of the time. Why do we need to store all those zeros?!?\n",
    "\n",
    "\n",
    "Let's generate the data first:"
   ]
  },
  {
   "cell_type": "code",
   "execution_count": 23,
   "metadata": {},
   "outputs": [
    {
     "data": {
      "text/html": [
       "<div>\n",
       "<style scoped>\n",
       "    .dataframe tbody tr th:only-of-type {\n",
       "        vertical-align: middle;\n",
       "    }\n",
       "\n",
       "    .dataframe tbody tr th {\n",
       "        vertical-align: top;\n",
       "    }\n",
       "\n",
       "    .dataframe thead th {\n",
       "        text-align: right;\n",
       "    }\n",
       "</style>\n",
       "<table border=\"1\" class=\"dataframe\">\n",
       "  <thead>\n",
       "    <tr style=\"text-align: right;\">\n",
       "      <th></th>\n",
       "      <th>0</th>\n",
       "      <th>1</th>\n",
       "      <th>2</th>\n",
       "      <th>PatientID</th>\n",
       "    </tr>\n",
       "  </thead>\n",
       "  <tbody>\n",
       "    <tr>\n",
       "      <th>0</th>\n",
       "      <td>0</td>\n",
       "      <td>0</td>\n",
       "      <td>0</td>\n",
       "      <td>1</td>\n",
       "    </tr>\n",
       "    <tr>\n",
       "      <th>1</th>\n",
       "      <td>0</td>\n",
       "      <td>0</td>\n",
       "      <td>0</td>\n",
       "      <td>2</td>\n",
       "    </tr>\n",
       "    <tr>\n",
       "      <th>2</th>\n",
       "      <td>0</td>\n",
       "      <td>0</td>\n",
       "      <td>0</td>\n",
       "      <td>3</td>\n",
       "    </tr>\n",
       "    <tr>\n",
       "      <th>3</th>\n",
       "      <td>0</td>\n",
       "      <td>1</td>\n",
       "      <td>0</td>\n",
       "      <td>4</td>\n",
       "    </tr>\n",
       "    <tr>\n",
       "      <th>4</th>\n",
       "      <td>0</td>\n",
       "      <td>0</td>\n",
       "      <td>1</td>\n",
       "      <td>5</td>\n",
       "    </tr>\n",
       "    <tr>\n",
       "      <th>...</th>\n",
       "      <td>...</td>\n",
       "      <td>...</td>\n",
       "      <td>...</td>\n",
       "      <td>...</td>\n",
       "    </tr>\n",
       "    <tr>\n",
       "      <th>9995</th>\n",
       "      <td>0</td>\n",
       "      <td>0</td>\n",
       "      <td>0</td>\n",
       "      <td>9996</td>\n",
       "    </tr>\n",
       "    <tr>\n",
       "      <th>9996</th>\n",
       "      <td>0</td>\n",
       "      <td>0</td>\n",
       "      <td>0</td>\n",
       "      <td>9997</td>\n",
       "    </tr>\n",
       "    <tr>\n",
       "      <th>9997</th>\n",
       "      <td>0</td>\n",
       "      <td>0</td>\n",
       "      <td>0</td>\n",
       "      <td>9998</td>\n",
       "    </tr>\n",
       "    <tr>\n",
       "      <th>9998</th>\n",
       "      <td>0</td>\n",
       "      <td>0</td>\n",
       "      <td>0</td>\n",
       "      <td>9999</td>\n",
       "    </tr>\n",
       "    <tr>\n",
       "      <th>9999</th>\n",
       "      <td>0</td>\n",
       "      <td>0</td>\n",
       "      <td>0</td>\n",
       "      <td>10000</td>\n",
       "    </tr>\n",
       "  </tbody>\n",
       "</table>\n",
       "<p>10000 rows × 4 columns</p>\n",
       "</div>"
      ],
      "text/plain": [
       "      0  1  2  PatientID\n",
       "0     0  0  0          1\n",
       "1     0  0  0          2\n",
       "2     0  0  0          3\n",
       "3     0  1  0          4\n",
       "4     0  0  1          5\n",
       "...  .. .. ..        ...\n",
       "9995  0  0  0       9996\n",
       "9996  0  0  0       9997\n",
       "9997  0  0  0       9998\n",
       "9998  0  0  0       9999\n",
       "9999  0  0  0      10000\n",
       "\n",
       "[10000 rows x 4 columns]"
      ]
     },
     "execution_count": 23,
     "metadata": {},
     "output_type": "execute_result"
    }
   ],
   "source": [
    "## generate some data\n",
    "sample_data = \\\n",
    "    pd.DataFrame(np.random.binomial(n=1,p=0.05,size=(10000,3)))\n",
    "## add an id\n",
    "sample_data['PatientID'] = np.arange(1,10001,1)\n",
    "## view\n",
    "sample_data"
   ]
  },
  {
   "cell_type": "code",
   "execution_count": 24,
   "metadata": {},
   "outputs": [
    {
     "name": "stdout",
     "output_type": "stream",
     "text": [
      "<class 'pandas.core.frame.DataFrame'>\n",
      "RangeIndex: 10000 entries, 0 to 9999\n",
      "Data columns (total 4 columns):\n",
      "0            10000 non-null int64\n",
      "1            10000 non-null int64\n",
      "2            10000 non-null int64\n",
      "PatientID    10000 non-null int64\n",
      "dtypes: int64(4)\n",
      "memory usage: 312.6 KB\n"
     ]
    }
   ],
   "source": [
    "## check the size\n",
    "sample_data.info(memory_usage = 'deep')"
   ]
  },
  {
   "cell_type": "code",
   "execution_count": 25,
   "metadata": {},
   "outputs": [
    {
     "data": {
      "text/html": [
       "<div>\n",
       "<style scoped>\n",
       "    .dataframe tbody tr th:only-of-type {\n",
       "        vertical-align: middle;\n",
       "    }\n",
       "\n",
       "    .dataframe tbody tr th {\n",
       "        vertical-align: top;\n",
       "    }\n",
       "\n",
       "    .dataframe thead th {\n",
       "        text-align: right;\n",
       "    }\n",
       "</style>\n",
       "<table border=\"1\" class=\"dataframe\">\n",
       "  <thead>\n",
       "    <tr style=\"text-align: right;\">\n",
       "      <th></th>\n",
       "      <th>0</th>\n",
       "      <th>1</th>\n",
       "      <th>2</th>\n",
       "      <th>PatientID</th>\n",
       "    </tr>\n",
       "  </thead>\n",
       "  <tbody>\n",
       "    <tr>\n",
       "      <th>0</th>\n",
       "      <td>0</td>\n",
       "      <td>0</td>\n",
       "      <td>0</td>\n",
       "      <td>1</td>\n",
       "    </tr>\n",
       "    <tr>\n",
       "      <th>1</th>\n",
       "      <td>0</td>\n",
       "      <td>0</td>\n",
       "      <td>0</td>\n",
       "      <td>2</td>\n",
       "    </tr>\n",
       "    <tr>\n",
       "      <th>2</th>\n",
       "      <td>0</td>\n",
       "      <td>0</td>\n",
       "      <td>0</td>\n",
       "      <td>3</td>\n",
       "    </tr>\n",
       "    <tr>\n",
       "      <th>3</th>\n",
       "      <td>0</td>\n",
       "      <td>1</td>\n",
       "      <td>0</td>\n",
       "      <td>4</td>\n",
       "    </tr>\n",
       "    <tr>\n",
       "      <th>4</th>\n",
       "      <td>0</td>\n",
       "      <td>0</td>\n",
       "      <td>1</td>\n",
       "      <td>5</td>\n",
       "    </tr>\n",
       "    <tr>\n",
       "      <th>...</th>\n",
       "      <td>...</td>\n",
       "      <td>...</td>\n",
       "      <td>...</td>\n",
       "      <td>...</td>\n",
       "    </tr>\n",
       "    <tr>\n",
       "      <th>9995</th>\n",
       "      <td>0</td>\n",
       "      <td>0</td>\n",
       "      <td>0</td>\n",
       "      <td>9996</td>\n",
       "    </tr>\n",
       "    <tr>\n",
       "      <th>9996</th>\n",
       "      <td>0</td>\n",
       "      <td>0</td>\n",
       "      <td>0</td>\n",
       "      <td>9997</td>\n",
       "    </tr>\n",
       "    <tr>\n",
       "      <th>9997</th>\n",
       "      <td>0</td>\n",
       "      <td>0</td>\n",
       "      <td>0</td>\n",
       "      <td>9998</td>\n",
       "    </tr>\n",
       "    <tr>\n",
       "      <th>9998</th>\n",
       "      <td>0</td>\n",
       "      <td>0</td>\n",
       "      <td>0</td>\n",
       "      <td>9999</td>\n",
       "    </tr>\n",
       "    <tr>\n",
       "      <th>9999</th>\n",
       "      <td>0</td>\n",
       "      <td>0</td>\n",
       "      <td>0</td>\n",
       "      <td>10000</td>\n",
       "    </tr>\n",
       "  </tbody>\n",
       "</table>\n",
       "<p>10000 rows × 4 columns</p>\n",
       "</div>"
      ],
      "text/plain": [
       "      0  1  2  PatientID\n",
       "0     0  0  0          1\n",
       "1     0  0  0          2\n",
       "2     0  0  0          3\n",
       "3     0  1  0          4\n",
       "4     0  0  1          5\n",
       "...  .. .. ..        ...\n",
       "9995  0  0  0       9996\n",
       "9996  0  0  0       9997\n",
       "9997  0  0  0       9998\n",
       "9998  0  0  0       9999\n",
       "9999  0  0  0      10000\n",
       "\n",
       "[10000 rows x 4 columns]"
      ]
     },
     "execution_count": 25,
     "metadata": {},
     "output_type": "execute_result"
    }
   ],
   "source": [
    "sample_data.to_sparse(fill_value=0)"
   ]
  },
  {
   "cell_type": "code",
   "execution_count": 26,
   "metadata": {},
   "outputs": [
    {
     "name": "stdout",
     "output_type": "stream",
     "text": [
      "<class 'pandas.core.frame.DataFrame'>\n",
      "RangeIndex: 10000 entries, 0 to 9999\n",
      "Data columns (total 4 columns):\n",
      "0            10000 non-null int64\n",
      "1            10000 non-null int64\n",
      "2            10000 non-null int64\n",
      "PatientID    10000 non-null int64\n",
      "dtypes: int64(4)\n",
      "memory usage: 312.6 KB\n"
     ]
    }
   ],
   "source": [
    "## check the size\n",
    "sample_data.info(memory_usage = 'deep')"
   ]
  },
  {
   "cell_type": "markdown",
   "metadata": {},
   "source": [
    "Note this is now 1/3 the original size!\n",
    "\n",
    "Available sparse dtypes include float64, int64, and bool."
   ]
  },
  {
   "cell_type": "markdown",
   "metadata": {},
   "source": [
    "## Chunkwise data processing"
   ]
  },
  {
   "cell_type": "markdown",
   "metadata": {},
   "source": [
    "Another technique for efficiently working with data is to only work on part of the dataset at a time. Pandas allows us to use the chunk_size option on file import to get a 'generator' from the object. "
   ]
  },
  {
   "cell_type": "code",
   "execution_count": 28,
   "metadata": {},
   "outputs": [
    {
     "data": {
      "text/plain": [
       "<pandas.io.parsers.TextFileReader at 0x11d12ab70>"
      ]
     },
     "execution_count": 28,
     "metadata": {},
     "output_type": "execute_result"
    }
   ],
   "source": [
    "## ingest the patient data\n",
    "patient = pd.read_csv('patient_demo.csv',chunksize=1000)\n",
    "## This is now a generator object!\n",
    "patient"
   ]
  },
  {
   "cell_type": "markdown",
   "metadata": {},
   "source": [
    "We can then work on the dataset in increments, and save our result back out somewhere else!"
   ]
  },
  {
   "cell_type": "code",
   "execution_count": 29,
   "metadata": {},
   "outputs": [],
   "source": [
    "## implement for loop\n",
    "for i,data in enumerate(patient):\n",
    "    if i > 10:\n",
    "        break\n",
    "    data.to_csv('patient_{}.csv'.format(i))"
   ]
  },
  {
   "cell_type": "code",
   "execution_count": null,
   "metadata": {},
   "outputs": [],
   "source": []
  }
 ],
 "metadata": {
  "kernelspec": {
   "display_name": "Python 3",
   "language": "python",
   "name": "python3"
  },
  "language_info": {
   "codemirror_mode": {
    "name": "ipython",
    "version": 3
   },
   "file_extension": ".py",
   "mimetype": "text/x-python",
   "name": "python",
   "nbconvert_exporter": "python",
   "pygments_lexer": "ipython3",
   "version": "3.6.7"
  }
 },
 "nbformat": 4,
 "nbformat_minor": 2
}
