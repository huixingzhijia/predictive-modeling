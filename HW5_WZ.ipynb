{
 "cells": [
  {
   "cell_type": "markdown",
   "metadata": {},
   "source": [
    "# Homework 5"
   ]
  },
  {
   "cell_type": "code",
   "execution_count": 2,
   "metadata": {},
   "outputs": [],
   "source": [
    "import pandas as pd"
   ]
  },
  {
   "cell_type": "code",
   "execution_count": 3,
   "metadata": {},
   "outputs": [
    {
     "data": {
      "text/plain": [
       "PatientID        int64\n",
       "FirstName       object\n",
       "LastName        object\n",
       "State           object\n",
       "ZipCode          int64\n",
       "DateOfBirth     object\n",
       "Gender          object\n",
       "Race            object\n",
       "Income         float64\n",
       "dtype: object"
      ]
     },
     "execution_count": 3,
     "metadata": {},
     "output_type": "execute_result"
    }
   ],
   "source": [
    "df = pd.read_csv('/Users/wenhuizeng/Library/Mobile Documents/com~apple~CloudDocs/high performance/week4/homework/healthcare2/patient.csv',nrows=100)\n",
    "df.columns\n",
    "df.dtypes"
   ]
  },
  {
   "cell_type": "code",
   "execution_count": 4,
   "metadata": {},
   "outputs": [
    {
     "data": {
      "text/plain": [
       "{'PatientID': dtype('int64'),\n",
       " 'FirstName': dtype('O'),\n",
       " 'LastName': dtype('O'),\n",
       " 'State': dtype('O'),\n",
       " 'ZipCode': dtype('int64'),\n",
       " 'DateOfBirth': dtype('O'),\n",
       " 'Gender': dtype('O'),\n",
       " 'Race': dtype('O'),\n",
       " 'Income': dtype('float64')}"
      ]
     },
     "execution_count": 4,
     "metadata": {},
     "output_type": "execute_result"
    }
   ],
   "source": [
    "col_type = df.dtypes.to_dict()\n",
    "col_type"
   ]
  },
  {
   "cell_type": "code",
   "execution_count": 5,
   "metadata": {},
   "outputs": [
    {
     "data": {
      "text/html": [
       "<div>\n",
       "<style scoped>\n",
       "    .dataframe tbody tr th:only-of-type {\n",
       "        vertical-align: middle;\n",
       "    }\n",
       "\n",
       "    .dataframe tbody tr th {\n",
       "        vertical-align: top;\n",
       "    }\n",
       "\n",
       "    .dataframe thead th {\n",
       "        text-align: right;\n",
       "    }\n",
       "</style>\n",
       "<table border=\"1\" class=\"dataframe\">\n",
       "  <thead>\n",
       "    <tr style=\"text-align: right;\">\n",
       "      <th></th>\n",
       "      <th>PatientID</th>\n",
       "      <th>FirstName</th>\n",
       "      <th>LastName</th>\n",
       "      <th>State</th>\n",
       "      <th>ZipCode</th>\n",
       "      <th>DateOfBirth</th>\n",
       "      <th>Gender</th>\n",
       "      <th>Race</th>\n",
       "      <th>Income</th>\n",
       "    </tr>\n",
       "  </thead>\n",
       "  <tbody>\n",
       "    <tr>\n",
       "      <th>0</th>\n",
       "      <td>1</td>\n",
       "      <td>Diana</td>\n",
       "      <td>Huddleston</td>\n",
       "      <td>WI</td>\n",
       "      <td>53186</td>\n",
       "      <td>1962-02-27</td>\n",
       "      <td>female</td>\n",
       "      <td>NaN</td>\n",
       "      <td>1076.167979</td>\n",
       "    </tr>\n",
       "    <tr>\n",
       "      <th>1</th>\n",
       "      <td>2</td>\n",
       "      <td>Marion</td>\n",
       "      <td>Poston</td>\n",
       "      <td>IL</td>\n",
       "      <td>60527</td>\n",
       "      <td>1859-09-11</td>\n",
       "      <td>male</td>\n",
       "      <td>white</td>\n",
       "      <td>475.781094</td>\n",
       "    </tr>\n",
       "    <tr>\n",
       "      <th>2</th>\n",
       "      <td>3</td>\n",
       "      <td>Sandra</td>\n",
       "      <td>Hamby</td>\n",
       "      <td>IL</td>\n",
       "      <td>60126</td>\n",
       "      <td>1946-02-15</td>\n",
       "      <td>female</td>\n",
       "      <td>white</td>\n",
       "      <td>30.747987</td>\n",
       "    </tr>\n",
       "    <tr>\n",
       "      <th>3</th>\n",
       "      <td>4</td>\n",
       "      <td>Mildred</td>\n",
       "      <td>Krehbiel</td>\n",
       "      <td>ID</td>\n",
       "      <td>83702</td>\n",
       "      <td>1979-07-27</td>\n",
       "      <td>female</td>\n",
       "      <td>white</td>\n",
       "      <td>160.596425</td>\n",
       "    </tr>\n",
       "    <tr>\n",
       "      <th>4</th>\n",
       "      <td>5</td>\n",
       "      <td>Abigail</td>\n",
       "      <td>Flores</td>\n",
       "      <td>PA</td>\n",
       "      <td>19131</td>\n",
       "      <td>1983-02-19</td>\n",
       "      <td>female</td>\n",
       "      <td>?</td>\n",
       "      <td>NaN</td>\n",
       "    </tr>\n",
       "  </tbody>\n",
       "</table>\n",
       "</div>"
      ],
      "text/plain": [
       "   PatientID FirstName    LastName State  ZipCode DateOfBirth  Gender   Race  \\\n",
       "0          1     Diana  Huddleston    WI    53186  1962-02-27  female    NaN   \n",
       "1          2    Marion      Poston    IL    60527  1859-09-11    male  white   \n",
       "2          3    Sandra       Hamby    IL    60126  1946-02-15  female  white   \n",
       "3          4   Mildred    Krehbiel    ID    83702  1979-07-27  female  white   \n",
       "4          5   Abigail      Flores    PA    19131  1983-02-19  female      ?   \n",
       "\n",
       "        Income  \n",
       "0  1076.167979  \n",
       "1   475.781094  \n",
       "2    30.747987  \n",
       "3   160.596425  \n",
       "4          NaN  "
      ]
     },
     "execution_count": 5,
     "metadata": {},
     "output_type": "execute_result"
    }
   ],
   "source": [
    "df.head()"
   ]
  },
  {
   "cell_type": "code",
   "execution_count": 6,
   "metadata": {},
   "outputs": [],
   "source": [
    "col_type['State'] = 'category'\n",
    "col_type['Race'] = 'category'\n",
    "col_type['Gender'] = 'category'"
   ]
  },
  {
   "cell_type": "code",
   "execution_count": 7,
   "metadata": {},
   "outputs": [
    {
     "data": {
      "text/plain": [
       "PatientID               int64\n",
       "FirstName              object\n",
       "LastName               object\n",
       "State                category\n",
       "ZipCode                 int64\n",
       "DateOfBirth    datetime64[ns]\n",
       "Gender               category\n",
       "Race                 category\n",
       "Income                float64\n",
       "dtype: object"
      ]
     },
     "execution_count": 7,
     "metadata": {},
     "output_type": "execute_result"
    }
   ],
   "source": [
    "data = pd.read_csv('/Users/wenhuizeng/Library/Mobile Documents/com~apple~CloudDocs/high performance/week4/homework/healthcare2/patient.csv',dtype=col_type)\n",
    "data['DateOfBirth']=pd.to_datetime(data['DateOfBirth'],format='%Y/%m/%d')\n",
    "data.dtypes"
   ]
  },
  {
   "cell_type": "code",
   "execution_count": 8,
   "metadata": {},
   "outputs": [
    {
     "name": "stdout",
     "output_type": "stream",
     "text": [
      "<class 'pandas.core.frame.DataFrame'>\n",
      "RangeIndex: 20000 entries, 0 to 19999\n",
      "Data columns (total 9 columns):\n",
      "PatientID      20000 non-null int64\n",
      "FirstName      20000 non-null object\n",
      "LastName       20000 non-null object\n",
      "State          20000 non-null category\n",
      "ZipCode        20000 non-null int64\n",
      "DateOfBirth    19000 non-null datetime64[ns]\n",
      "Gender         19431 non-null category\n",
      "Race           19144 non-null category\n",
      "Income         18600 non-null float64\n",
      "dtypes: category(3), datetime64[ns](1), float64(1), int64(2), object(2)\n",
      "memory usage: 3.1 MB\n"
     ]
    },
    {
     "data": {
      "text/plain": [
       "3227666"
      ]
     },
     "execution_count": 8,
     "metadata": {},
     "output_type": "execute_result"
    }
   ],
   "source": [
    "data.info(memory_usage='deep') \n",
    "data.memory_usage(deep=True) \n",
    "data.memory_usage(deep=True).sum()"
   ]
  },
  {
   "cell_type": "code",
   "execution_count": 9,
   "metadata": {},
   "outputs": [
    {
     "data": {
      "text/plain": [
       "PatientID        int64\n",
       "FirstName       object\n",
       "LastName        object\n",
       "State           object\n",
       "ZipCode          int64\n",
       "DateOfBirth     object\n",
       "Gender          object\n",
       "Race            object\n",
       "Income         float64\n",
       "dtype: object"
      ]
     },
     "execution_count": 9,
     "metadata": {},
     "output_type": "execute_result"
    }
   ],
   "source": [
    "data1 = pd.read_csv('/Users/wenhuizeng/Library/Mobile Documents/com~apple~CloudDocs/high performance/week4/homework/healthcare2/patient.csv')\n",
    "data1.dtypes"
   ]
  },
  {
   "cell_type": "code",
   "execution_count": 10,
   "metadata": {},
   "outputs": [
    {
     "name": "stdout",
     "output_type": "stream",
     "text": [
      "<class 'pandas.core.frame.DataFrame'>\n",
      "RangeIndex: 20000 entries, 0 to 19999\n",
      "Data columns (total 9 columns):\n",
      "PatientID      20000 non-null int64\n",
      "FirstName      20000 non-null object\n",
      "LastName       20000 non-null object\n",
      "State          20000 non-null object\n",
      "ZipCode        20000 non-null int64\n",
      "DateOfBirth    19000 non-null object\n",
      "Gender         19431 non-null object\n",
      "Race           19144 non-null object\n",
      "Income         18600 non-null float64\n",
      "dtypes: float64(1), int64(2), object(6)\n",
      "memory usage: 7.6 MB\n"
     ]
    },
    {
     "data": {
      "text/plain": [
       "7939942"
      ]
     },
     "execution_count": 10,
     "metadata": {},
     "output_type": "execute_result"
    }
   ],
   "source": [
    "data1.info(memory_usage='deep') \n",
    "data1.memory_usage(deep=True) \n",
    "data1.memory_usage(deep=True).sum()"
   ]
  },
  {
   "cell_type": "code",
   "execution_count": 64,
   "metadata": {},
   "outputs": [
    {
     "data": {
      "text/plain": [
       "0.5934899776345973"
      ]
     },
     "execution_count": 64,
     "metadata": {},
     "output_type": "execute_result"
    }
   ],
   "source": [
    "diff = (data1.memory_usage(deep=True).sum()-data.memory_usage(deep=True).sum())/data1.memory_usage(deep=True).sum()\n",
    "diff"
   ]
  },
  {
   "cell_type": "markdown",
   "metadata": {},
   "source": [
    "## Save the date into datetime could save more space than string. Save State, Race,Gender as categorical variable help save 60% of the memory "
   ]
  },
  {
   "cell_type": "markdown",
   "metadata": {},
   "source": [
    "## OutpatientVisit.csv file.  "
   ]
  },
  {
   "cell_type": "code",
   "execution_count": 1,
   "metadata": {},
   "outputs": [
    {
     "ename": "NameError",
     "evalue": "name 'pd' is not defined",
     "output_type": "error",
     "traceback": [
      "\u001b[0;31m---------------------------------------------------------------------------\u001b[0m",
      "\u001b[0;31mNameError\u001b[0m                                 Traceback (most recent call last)",
      "\u001b[0;32m<ipython-input-1-383bea12fdd8>\u001b[0m in \u001b[0;36m<module>\u001b[0;34m\u001b[0m\n\u001b[0;32m----> 1\u001b[0;31m \u001b[0moutpatient\u001b[0m \u001b[0;34m=\u001b[0m \u001b[0mpd\u001b[0m\u001b[0;34m.\u001b[0m\u001b[0mread_csv\u001b[0m\u001b[0;34m(\u001b[0m\u001b[0;34m'/Users/wenhuizeng/Library/Mobile Documents/com~apple~CloudDocs/high performance/week4/homework/healthcare2/OutpatientVisit.csv'\u001b[0m\u001b[0;34m,\u001b[0m\u001b[0mnrows\u001b[0m\u001b[0;34m=\u001b[0m\u001b[0;36m100\u001b[0m\u001b[0;34m)\u001b[0m\u001b[0;34m\u001b[0m\u001b[0;34m\u001b[0m\u001b[0m\n\u001b[0m\u001b[1;32m      2\u001b[0m \u001b[0moutpatient\u001b[0m\u001b[0;34m.\u001b[0m\u001b[0mcolumns\u001b[0m\u001b[0;34m\u001b[0m\u001b[0;34m\u001b[0m\u001b[0m\n\u001b[1;32m      3\u001b[0m \u001b[0moutpatient\u001b[0m\u001b[0;34m.\u001b[0m\u001b[0mdtypes\u001b[0m\u001b[0;34m\u001b[0m\u001b[0;34m\u001b[0m\u001b[0m\n",
      "\u001b[0;31mNameError\u001b[0m: name 'pd' is not defined"
     ]
    }
   ],
   "source": [
    "outpatient = pd.read_csv('/Users/wenhuizeng/Library/Mobile Documents/com~apple~CloudDocs/high performance/week4/homework/healthcare2/OutpatientVisit.csv',nrows=100)\n",
    "outpatient.columns\n",
    "outpatient.dtypes"
   ]
  },
  {
   "cell_type": "code",
   "execution_count": 98,
   "metadata": {},
   "outputs": [
    {
     "data": {
      "text/plain": [
       "{'VisitID': dtype('int64'),\n",
       " 'StaffID': dtype('int64'),\n",
       " 'PatientID': dtype('int64'),\n",
       " 'VisitDate': dtype('O'),\n",
       " 'ICD10_1': dtype('O'),\n",
       " 'ICD10_2': dtype('O'),\n",
       " 'ICD10_3': dtype('float64'),\n",
       " 'ClinicCode': dtype('int64')}"
      ]
     },
     "execution_count": 98,
     "metadata": {},
     "output_type": "execute_result"
    }
   ],
   "source": [
    "col = outpatient.dtypes.to_dict()\n",
    "col"
   ]
  },
  {
   "cell_type": "code",
   "execution_count": 99,
   "metadata": {},
   "outputs": [
    {
     "data": {
      "text/html": [
       "<div>\n",
       "<style scoped>\n",
       "    .dataframe tbody tr th:only-of-type {\n",
       "        vertical-align: middle;\n",
       "    }\n",
       "\n",
       "    .dataframe tbody tr th {\n",
       "        vertical-align: top;\n",
       "    }\n",
       "\n",
       "    .dataframe thead th {\n",
       "        text-align: right;\n",
       "    }\n",
       "</style>\n",
       "<table border=\"1\" class=\"dataframe\">\n",
       "  <thead>\n",
       "    <tr style=\"text-align: right;\">\n",
       "      <th></th>\n",
       "      <th>VisitID</th>\n",
       "      <th>StaffID</th>\n",
       "      <th>PatientID</th>\n",
       "      <th>VisitDate</th>\n",
       "      <th>ICD10_1</th>\n",
       "      <th>ICD10_2</th>\n",
       "      <th>ICD10_3</th>\n",
       "      <th>ClinicCode</th>\n",
       "    </tr>\n",
       "  </thead>\n",
       "  <tbody>\n",
       "    <tr>\n",
       "      <th>0</th>\n",
       "      <td>1</td>\n",
       "      <td>46</td>\n",
       "      <td>1</td>\n",
       "      <td>2013-08-10</td>\n",
       "      <td>E10621</td>\n",
       "      <td>K269</td>\n",
       "      <td>NaN</td>\n",
       "      <td>15</td>\n",
       "    </tr>\n",
       "    <tr>\n",
       "      <th>1</th>\n",
       "      <td>2</td>\n",
       "      <td>50</td>\n",
       "      <td>1</td>\n",
       "      <td>2013-12-02</td>\n",
       "      <td>K269</td>\n",
       "      <td>E10621</td>\n",
       "      <td>NaN</td>\n",
       "      <td>55</td>\n",
       "    </tr>\n",
       "    <tr>\n",
       "      <th>2</th>\n",
       "      <td>3</td>\n",
       "      <td>13</td>\n",
       "      <td>1</td>\n",
       "      <td>2014-06-29</td>\n",
       "      <td>E10621</td>\n",
       "      <td>K269</td>\n",
       "      <td>NaN</td>\n",
       "      <td>1</td>\n",
       "    </tr>\n",
       "    <tr>\n",
       "      <th>3</th>\n",
       "      <td>4</td>\n",
       "      <td>23</td>\n",
       "      <td>1</td>\n",
       "      <td>2014-09-19</td>\n",
       "      <td>K269</td>\n",
       "      <td>E10621</td>\n",
       "      <td>NaN</td>\n",
       "      <td>3</td>\n",
       "    </tr>\n",
       "    <tr>\n",
       "      <th>4</th>\n",
       "      <td>5</td>\n",
       "      <td>9</td>\n",
       "      <td>1</td>\n",
       "      <td>2015-05-29</td>\n",
       "      <td>K269</td>\n",
       "      <td>E10621</td>\n",
       "      <td>NaN</td>\n",
       "      <td>5</td>\n",
       "    </tr>\n",
       "  </tbody>\n",
       "</table>\n",
       "</div>"
      ],
      "text/plain": [
       "   VisitID  StaffID  PatientID   VisitDate ICD10_1 ICD10_2  ICD10_3  \\\n",
       "0        1       46          1  2013-08-10  E10621    K269      NaN   \n",
       "1        2       50          1  2013-12-02    K269  E10621      NaN   \n",
       "2        3       13          1  2014-06-29  E10621    K269      NaN   \n",
       "3        4       23          1  2014-09-19    K269  E10621      NaN   \n",
       "4        5        9          1  2015-05-29    K269  E10621      NaN   \n",
       "\n",
       "   ClinicCode  \n",
       "0          15  \n",
       "1          55  \n",
       "2           1  \n",
       "3           3  \n",
       "4           5  "
      ]
     },
     "execution_count": 99,
     "metadata": {},
     "output_type": "execute_result"
    }
   ],
   "source": [
    "outpatient.head()"
   ]
  },
  {
   "cell_type": "code",
   "execution_count": 103,
   "metadata": {},
   "outputs": [
    {
     "data": {
      "text/plain": [
       "{'VisitID': dtype('int64'),\n",
       " 'StaffID': dtype('int64'),\n",
       " 'PatientID': dtype('int64'),\n",
       " 'VisitDate': dtype('O'),\n",
       " 'ICD10_1': 'category',\n",
       " 'ICD10_2': 'category',\n",
       " 'ICD10_3': 'category',\n",
       " 'ClinicCode': dtype('int64')}"
      ]
     },
     "execution_count": 103,
     "metadata": {},
     "output_type": "execute_result"
    }
   ],
   "source": [
    "col['ICD10_1'] = 'category'\n",
    "col['ICD10_2'] = 'category'\n",
    "col['ICD10_3']= 'category'\n",
    "col"
   ]
  },
  {
   "cell_type": "code",
   "execution_count": 105,
   "metadata": {},
   "outputs": [
    {
     "data": {
      "text/plain": [
       "VisitID                int64\n",
       "StaffID                int64\n",
       "PatientID              int64\n",
       "VisitDate     datetime64[ns]\n",
       "ICD10_1             category\n",
       "ICD10_2             category\n",
       "ICD10_3             category\n",
       "ClinicCode             int64\n",
       "dtype: object"
      ]
     },
     "execution_count": 105,
     "metadata": {},
     "output_type": "execute_result"
    }
   ],
   "source": [
    "outpatient1 = pd.read_csv('/Users/wenhuizeng/Library/Mobile Documents/com~apple~CloudDocs/high performance/week4/homework/healthcare2/OutpatientVisit.csv',dtype=col)\n",
    "outpatient1['VisitDate']=pd.to_datetime(outpatient1['VisitDate'],format='%Y/%m/%d')\n",
    "outpatient1.dtypes"
   ]
  },
  {
   "cell_type": "code",
   "execution_count": 106,
   "metadata": {},
   "outputs": [
    {
     "name": "stdout",
     "output_type": "stream",
     "text": [
      "<class 'pandas.core.frame.DataFrame'>\n",
      "RangeIndex: 174690 entries, 0 to 174689\n",
      "Data columns (total 8 columns):\n",
      "VisitID       174690 non-null int64\n",
      "StaffID       174690 non-null int64\n",
      "PatientID     174690 non-null int64\n",
      "VisitDate     173252 non-null datetime64[ns]\n",
      "ICD10_1       174690 non-null category\n",
      "ICD10_2       59785 non-null category\n",
      "ICD10_3       19362 non-null category\n",
      "ClinicCode    174690 non-null int64\n",
      "dtypes: category(3), datetime64[ns](1), int64(4)\n",
      "memory usage: 8.2 MB\n"
     ]
    },
    {
     "data": {
      "text/plain": [
       "8582636"
      ]
     },
     "execution_count": 106,
     "metadata": {},
     "output_type": "execute_result"
    }
   ],
   "source": [
    "outpatient1.info(memory_usage='deep') \n",
    "outpatient1.memory_usage(deep=True) \n",
    "outpatient1.memory_usage(deep=True).sum()"
   ]
  },
  {
   "cell_type": "code",
   "execution_count": 107,
   "metadata": {},
   "outputs": [
    {
     "name": "stdout",
     "output_type": "stream",
     "text": [
      "<class 'pandas.core.frame.DataFrame'>\n",
      "RangeIndex: 174690 entries, 0 to 174689\n",
      "Data columns (total 8 columns):\n",
      "VisitID       174690 non-null int64\n",
      "StaffID       174690 non-null int64\n",
      "PatientID     174690 non-null int64\n",
      "VisitDate     173252 non-null object\n",
      "ICD10_1       174690 non-null object\n",
      "ICD10_2       59785 non-null object\n",
      "ICD10_3       19362 non-null object\n",
      "ClinicCode    174690 non-null int64\n",
      "dtypes: int64(4), object(4)\n",
      "memory usage: 39.7 MB\n"
     ]
    },
    {
     "data": {
      "text/plain": [
       "41612549"
      ]
     },
     "execution_count": 107,
     "metadata": {},
     "output_type": "execute_result"
    }
   ],
   "source": [
    "outpatient2 = pd.read_csv('/Users/wenhuizeng/Library/Mobile Documents/com~apple~CloudDocs/high performance/week4/homework/healthcare2/OutpatientVisit.csv')\n",
    "outpatient2.info(memory_usage='deep') \n",
    "outpatient2.memory_usage(deep=True) \n",
    "outpatient2.memory_usage(deep=True).sum()"
   ]
  },
  {
   "cell_type": "code",
   "execution_count": 108,
   "metadata": {},
   "outputs": [
    {
     "data": {
      "text/plain": [
       "0.7937488520590267"
      ]
     },
     "execution_count": 108,
     "metadata": {},
     "output_type": "execute_result"
    }
   ],
   "source": [
    "diff = (outpatient2.memory_usage(deep=True).sum()-outpatient1.memory_usage(deep=True).sum())/outpatient2.memory_usage(deep=True).sum()\n",
    "diff"
   ]
  },
  {
   "cell_type": "markdown",
   "metadata": {},
   "source": [
    "## Save the Visit date into datetime could save more space than string. Save ICD10_1,ICD10_2,ICD10_3 as categorical variable help save 80% of the memory "
   ]
  },
  {
   "cell_type": "code",
   "execution_count": null,
   "metadata": {},
   "outputs": [],
   "source": []
  }
 ],
 "metadata": {
  "kernelspec": {
   "display_name": "Python 3",
   "language": "python",
   "name": "python3"
  },
  "language_info": {
   "codemirror_mode": {
    "name": "ipython",
    "version": 3
   },
   "file_extension": ".py",
   "mimetype": "text/x-python",
   "name": "python",
   "nbconvert_exporter": "python",
   "pygments_lexer": "ipython3",
   "version": "3.6.7"
  }
 },
 "nbformat": 4,
 "nbformat_minor": 2
}
