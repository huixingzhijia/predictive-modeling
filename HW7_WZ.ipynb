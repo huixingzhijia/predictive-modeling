{
 "cells": [
  {
   "cell_type": "code",
   "execution_count": 2,
   "metadata": {},
   "outputs": [],
   "source": [
    "## import modules\n",
    "import pandas as pd \n",
    "import numpy as np\n",
    "import matplotlib\n",
    "import matplotlib.pyplot as plt\n",
    "import seaborn as sns\n",
    "import os\n",
    "import sys\n",
    "import dask.dataframe as dd\n",
    "import dask.array as da\n",
    "import dask.delayed\n",
    "#from dask.dot import dot_graph"
   ]
  },
  {
   "cell_type": "code",
   "execution_count": 3,
   "metadata": {},
   "outputs": [
    {
     "name": "stdout",
     "output_type": "stream",
     "text": [
      "My working directory:\n",
      "/Users/wenhuizeng/High Performance\n",
      "My new working directory:\n",
      "/Users/wenhuizeng/Library/Mobile Documents/com~apple~CloudDocs/high performance/week7/healthcare2\n"
     ]
    }
   ],
   "source": [
    "print(\"My working directory:\\n\" + os.getcwd())\n",
    "# Set Working Directory (if needed)\n",
    "os.chdir(r\"/Users/wenhuizeng/Library/Mobile Documents/com~apple~CloudDocs/high performance/week7/healthcare2\")\n",
    "print(\"My new working directory:\\n\" + os.getcwd())"
   ]
  },
  {
   "cell_type": "markdown",
   "metadata": {},
   "source": [
    "## How common is depression in our patient population?\n",
    "i. This could be implemented a few different ways. You could simply\n",
    "consider everyone with at least one visit outpatient visit ‘at-risk’ in the denominator, then calculate if they have ever been diagnosed with depression. This is the simplest approach and fine to use for this assignment."
   ]
  },
  {
   "cell_type": "code",
   "execution_count": 4,
   "metadata": {},
   "outputs": [],
   "source": [
    "atrisk_dd = dd.read_csv(r'OutpatientVisit.csv')\n",
    "num_at_risk = atrisk_dd.PatientID.unique().count().compute()"
   ]
  },
  {
   "cell_type": "code",
   "execution_count": 5,
   "metadata": {},
   "outputs": [
    {
     "data": {
      "text/html": [
       "<div>\n",
       "<style scoped>\n",
       "    .dataframe tbody tr th:only-of-type {\n",
       "        vertical-align: middle;\n",
       "    }\n",
       "\n",
       "    .dataframe tbody tr th {\n",
       "        vertical-align: top;\n",
       "    }\n",
       "\n",
       "    .dataframe thead th {\n",
       "        text-align: right;\n",
       "    }\n",
       "</style>\n",
       "<table border=\"1\" class=\"dataframe\">\n",
       "  <thead>\n",
       "    <tr style=\"text-align: right;\">\n",
       "      <th></th>\n",
       "      <th>VisitID</th>\n",
       "      <th>StaffID</th>\n",
       "      <th>PatientID</th>\n",
       "      <th>VisitDate</th>\n",
       "      <th>ICD10_1</th>\n",
       "      <th>ICD10_2</th>\n",
       "      <th>ICD10_3</th>\n",
       "      <th>ClinicCode</th>\n",
       "    </tr>\n",
       "  </thead>\n",
       "  <tbody>\n",
       "    <tr>\n",
       "      <th>0</th>\n",
       "      <td>1</td>\n",
       "      <td>46</td>\n",
       "      <td>1</td>\n",
       "      <td>2013-08-10</td>\n",
       "      <td>E10621</td>\n",
       "      <td>K269</td>\n",
       "      <td>NaN</td>\n",
       "      <td>15</td>\n",
       "    </tr>\n",
       "    <tr>\n",
       "      <th>1</th>\n",
       "      <td>2</td>\n",
       "      <td>50</td>\n",
       "      <td>1</td>\n",
       "      <td>2013-12-02</td>\n",
       "      <td>K269</td>\n",
       "      <td>E10621</td>\n",
       "      <td>NaN</td>\n",
       "      <td>55</td>\n",
       "    </tr>\n",
       "    <tr>\n",
       "      <th>2</th>\n",
       "      <td>3</td>\n",
       "      <td>13</td>\n",
       "      <td>1</td>\n",
       "      <td>2014-06-29</td>\n",
       "      <td>E10621</td>\n",
       "      <td>K269</td>\n",
       "      <td>NaN</td>\n",
       "      <td>1</td>\n",
       "    </tr>\n",
       "    <tr>\n",
       "      <th>3</th>\n",
       "      <td>4</td>\n",
       "      <td>23</td>\n",
       "      <td>1</td>\n",
       "      <td>2014-09-19</td>\n",
       "      <td>K269</td>\n",
       "      <td>E10621</td>\n",
       "      <td>NaN</td>\n",
       "      <td>3</td>\n",
       "    </tr>\n",
       "    <tr>\n",
       "      <th>4</th>\n",
       "      <td>5</td>\n",
       "      <td>9</td>\n",
       "      <td>1</td>\n",
       "      <td>2015-05-29</td>\n",
       "      <td>K269</td>\n",
       "      <td>E10621</td>\n",
       "      <td>NaN</td>\n",
       "      <td>5</td>\n",
       "    </tr>\n",
       "  </tbody>\n",
       "</table>\n",
       "</div>"
      ],
      "text/plain": [
       "   VisitID  StaffID  PatientID   VisitDate ICD10_1 ICD10_2 ICD10_3  ClinicCode\n",
       "0        1       46          1  2013-08-10  E10621    K269     NaN          15\n",
       "1        2       50          1  2013-12-02    K269  E10621     NaN          55\n",
       "2        3       13          1  2014-06-29  E10621    K269     NaN           1\n",
       "3        4       23          1  2014-09-19    K269  E10621     NaN           3\n",
       "4        5        9          1  2015-05-29    K269  E10621     NaN           5"
      ]
     },
     "execution_count": 5,
     "metadata": {},
     "output_type": "execute_result"
    }
   ],
   "source": [
    "atrisk_dd.head()"
   ]
  },
  {
   "cell_type": "code",
   "execution_count": 6,
   "metadata": {},
   "outputs": [],
   "source": [
    "disease_dd = dd.read_csv(r'DiseaseMap.csv')\n",
    "depression_code = disease_dd.loc[disease_dd.Condition==\"Depression\",['ICD10']]\n",
    "depression_list = depression_code.ICD10.unique().compute()\n",
    "##dd.melt long.ICD10.str.contain('all the code')"
   ]
  },
  {
   "cell_type": "code",
   "execution_count": 7,
   "metadata": {},
   "outputs": [
    {
     "data": {
      "text/html": [
       "<div>\n",
       "<style scoped>\n",
       "    .dataframe tbody tr th:only-of-type {\n",
       "        vertical-align: middle;\n",
       "    }\n",
       "\n",
       "    .dataframe tbody tr th {\n",
       "        vertical-align: top;\n",
       "    }\n",
       "\n",
       "    .dataframe thead th {\n",
       "        text-align: right;\n",
       "    }\n",
       "</style>\n",
       "<table border=\"1\" class=\"dataframe\">\n",
       "  <thead>\n",
       "    <tr style=\"text-align: right;\">\n",
       "      <th></th>\n",
       "      <th>DiseaseMapID</th>\n",
       "      <th>ICD10</th>\n",
       "      <th>Condition</th>\n",
       "    </tr>\n",
       "  </thead>\n",
       "  <tbody>\n",
       "    <tr>\n",
       "      <th>0</th>\n",
       "      <td>3375</td>\n",
       "      <td>F1010</td>\n",
       "      <td>Alcohol</td>\n",
       "    </tr>\n",
       "    <tr>\n",
       "      <th>1</th>\n",
       "      <td>3376</td>\n",
       "      <td>F10120</td>\n",
       "      <td>Alcohol</td>\n",
       "    </tr>\n",
       "    <tr>\n",
       "      <th>2</th>\n",
       "      <td>3377</td>\n",
       "      <td>F10121</td>\n",
       "      <td>Alcohol</td>\n",
       "    </tr>\n",
       "    <tr>\n",
       "      <th>3</th>\n",
       "      <td>3378</td>\n",
       "      <td>F10129</td>\n",
       "      <td>Alcohol</td>\n",
       "    </tr>\n",
       "    <tr>\n",
       "      <th>4</th>\n",
       "      <td>3379</td>\n",
       "      <td>F1014</td>\n",
       "      <td>Alcohol</td>\n",
       "    </tr>\n",
       "  </tbody>\n",
       "</table>\n",
       "</div>"
      ],
      "text/plain": [
       "   DiseaseMapID   ICD10 Condition\n",
       "0          3375   F1010   Alcohol\n",
       "1          3376  F10120   Alcohol\n",
       "2          3377  F10121   Alcohol\n",
       "3          3378  F10129   Alcohol\n",
       "4          3379   F1014   Alcohol"
      ]
     },
     "execution_count": 7,
     "metadata": {},
     "output_type": "execute_result"
    }
   ],
   "source": [
    "disease_dd.head()"
   ]
  },
  {
   "cell_type": "code",
   "execution_count": 8,
   "metadata": {},
   "outputs": [
    {
     "data": {
      "text/plain": [
       "['F320',\n",
       " 'F321',\n",
       " 'F322',\n",
       " 'F323',\n",
       " 'F328',\n",
       " 'F329',\n",
       " 'F330',\n",
       " 'F331',\n",
       " 'F332',\n",
       " 'F333',\n",
       " 'F338',\n",
       " 'F339',\n",
       " 'F341',\n",
       " 'F4321']"
      ]
     },
     "execution_count": 8,
     "metadata": {},
     "output_type": "execute_result"
    }
   ],
   "source": [
    "depression_list = depression_list.values.tolist()\n",
    "depression_list "
   ]
  },
  {
   "cell_type": "code",
   "execution_count": 13,
   "metadata": {},
   "outputs": [],
   "source": [
    "atrisk_dd['depression'] = atrisk_dd.ICD10_1.isin(depression_list)|atrisk_dd.ICD10_2.isin(depression_list)|atrisk_dd.ICD10_3.isin(depression_list)\n"
   ]
  },
  {
   "cell_type": "code",
   "execution_count": 14,
   "metadata": {},
   "outputs": [],
   "source": [
    "depression_num = atrisk_dd.loc[atrisk_dd.depression==True,'PatientID'].unique().count().compute()"
   ]
  },
  {
   "cell_type": "code",
   "execution_count": 15,
   "metadata": {},
   "outputs": [
    {
     "data": {
      "text/plain": [
       "0.10718648208469056"
      ]
     },
     "execution_count": 15,
     "metadata": {},
     "output_type": "execute_result"
    }
   ],
   "source": [
    "depression_rate = depression_num/num_at_risk\n",
    "depression_rate"
   ]
  },
  {
   "cell_type": "markdown",
   "metadata": {},
   "source": [
    "# Are depressed patients more likely to die than non-depressed patients?\n",
    "i. Again, this could be implemented a few different ways. You could consider the outcome to be mortality at any point and ignore\n",
    "differential follow-up time for this assignment."
   ]
  },
  {
   "cell_type": "code",
   "execution_count": 16,
   "metadata": {},
   "outputs": [],
   "source": [
    "mortality_dd = dd.read_csv(r'Mortality.csv')"
   ]
  },
  {
   "cell_type": "code",
   "execution_count": 17,
   "metadata": {},
   "outputs": [
    {
     "data": {
      "text/html": [
       "<div>\n",
       "<style scoped>\n",
       "    .dataframe tbody tr th:only-of-type {\n",
       "        vertical-align: middle;\n",
       "    }\n",
       "\n",
       "    .dataframe tbody tr th {\n",
       "        vertical-align: top;\n",
       "    }\n",
       "\n",
       "    .dataframe thead th {\n",
       "        text-align: right;\n",
       "    }\n",
       "</style>\n",
       "<table border=\"1\" class=\"dataframe\">\n",
       "  <thead>\n",
       "    <tr style=\"text-align: right;\">\n",
       "      <th></th>\n",
       "      <th>VisitID</th>\n",
       "      <th>StaffID</th>\n",
       "      <th>PatientID</th>\n",
       "      <th>VisitDate</th>\n",
       "      <th>ICD10_1</th>\n",
       "      <th>ICD10_2</th>\n",
       "      <th>ICD10_3</th>\n",
       "      <th>ClinicCode</th>\n",
       "      <th>depression</th>\n",
       "    </tr>\n",
       "  </thead>\n",
       "  <tbody>\n",
       "    <tr>\n",
       "      <th>0</th>\n",
       "      <td>1</td>\n",
       "      <td>46</td>\n",
       "      <td>1</td>\n",
       "      <td>2013-08-10</td>\n",
       "      <td>E10621</td>\n",
       "      <td>K269</td>\n",
       "      <td>NaN</td>\n",
       "      <td>15</td>\n",
       "      <td>False</td>\n",
       "    </tr>\n",
       "    <tr>\n",
       "      <th>1</th>\n",
       "      <td>2</td>\n",
       "      <td>50</td>\n",
       "      <td>1</td>\n",
       "      <td>2013-12-02</td>\n",
       "      <td>K269</td>\n",
       "      <td>E10621</td>\n",
       "      <td>NaN</td>\n",
       "      <td>55</td>\n",
       "      <td>False</td>\n",
       "    </tr>\n",
       "    <tr>\n",
       "      <th>2</th>\n",
       "      <td>3</td>\n",
       "      <td>13</td>\n",
       "      <td>1</td>\n",
       "      <td>2014-06-29</td>\n",
       "      <td>E10621</td>\n",
       "      <td>K269</td>\n",
       "      <td>NaN</td>\n",
       "      <td>1</td>\n",
       "      <td>False</td>\n",
       "    </tr>\n",
       "    <tr>\n",
       "      <th>3</th>\n",
       "      <td>4</td>\n",
       "      <td>23</td>\n",
       "      <td>1</td>\n",
       "      <td>2014-09-19</td>\n",
       "      <td>K269</td>\n",
       "      <td>E10621</td>\n",
       "      <td>NaN</td>\n",
       "      <td>3</td>\n",
       "      <td>False</td>\n",
       "    </tr>\n",
       "    <tr>\n",
       "      <th>4</th>\n",
       "      <td>5</td>\n",
       "      <td>9</td>\n",
       "      <td>1</td>\n",
       "      <td>2015-05-29</td>\n",
       "      <td>K269</td>\n",
       "      <td>E10621</td>\n",
       "      <td>NaN</td>\n",
       "      <td>5</td>\n",
       "      <td>False</td>\n",
       "    </tr>\n",
       "  </tbody>\n",
       "</table>\n",
       "</div>"
      ],
      "text/plain": [
       "   VisitID  StaffID  PatientID   VisitDate ICD10_1 ICD10_2 ICD10_3  \\\n",
       "0        1       46          1  2013-08-10  E10621    K269     NaN   \n",
       "1        2       50          1  2013-12-02    K269  E10621     NaN   \n",
       "2        3       13          1  2014-06-29  E10621    K269     NaN   \n",
       "3        4       23          1  2014-09-19    K269  E10621     NaN   \n",
       "4        5        9          1  2015-05-29    K269  E10621     NaN   \n",
       "\n",
       "   ClinicCode  depression  \n",
       "0          15       False  \n",
       "1          55       False  \n",
       "2           1       False  \n",
       "3           3       False  \n",
       "4           5       False  "
      ]
     },
     "execution_count": 17,
     "metadata": {},
     "output_type": "execute_result"
    }
   ],
   "source": [
    "atrisk_dd.head()"
   ]
  },
  {
   "cell_type": "code",
   "execution_count": 18,
   "metadata": {},
   "outputs": [],
   "source": [
    "depression = atrisk_dd.drop_duplicates(subset=['PatientID']).compute()"
   ]
  },
  {
   "cell_type": "code",
   "execution_count": 19,
   "metadata": {},
   "outputs": [
    {
     "data": {
      "text/html": [
       "<div>\n",
       "<style scoped>\n",
       "    .dataframe tbody tr th:only-of-type {\n",
       "        vertical-align: middle;\n",
       "    }\n",
       "\n",
       "    .dataframe tbody tr th {\n",
       "        vertical-align: top;\n",
       "    }\n",
       "\n",
       "    .dataframe thead th {\n",
       "        text-align: right;\n",
       "    }\n",
       "</style>\n",
       "<table border=\"1\" class=\"dataframe\">\n",
       "  <thead>\n",
       "    <tr style=\"text-align: right;\">\n",
       "      <th></th>\n",
       "      <th>VisitID</th>\n",
       "      <th>StaffID</th>\n",
       "      <th>PatientID</th>\n",
       "      <th>VisitDate</th>\n",
       "      <th>ICD10_1</th>\n",
       "      <th>ICD10_2</th>\n",
       "      <th>ICD10_3</th>\n",
       "      <th>ClinicCode</th>\n",
       "      <th>depression</th>\n",
       "    </tr>\n",
       "  </thead>\n",
       "  <tbody>\n",
       "    <tr>\n",
       "      <th>0</th>\n",
       "      <td>1</td>\n",
       "      <td>46</td>\n",
       "      <td>1</td>\n",
       "      <td>2013-08-10</td>\n",
       "      <td>E10621</td>\n",
       "      <td>K269</td>\n",
       "      <td>NaN</td>\n",
       "      <td>15</td>\n",
       "      <td>False</td>\n",
       "    </tr>\n",
       "    <tr>\n",
       "      <th>14</th>\n",
       "      <td>15</td>\n",
       "      <td>14</td>\n",
       "      <td>2</td>\n",
       "      <td>2006-07-04</td>\n",
       "      <td>C4650</td>\n",
       "      <td>O10019</td>\n",
       "      <td>NaN</td>\n",
       "      <td>40</td>\n",
       "      <td>False</td>\n",
       "    </tr>\n",
       "    <tr>\n",
       "      <th>20</th>\n",
       "      <td>21</td>\n",
       "      <td>48</td>\n",
       "      <td>3</td>\n",
       "      <td>2011-12-13</td>\n",
       "      <td>B20</td>\n",
       "      <td>O1092</td>\n",
       "      <td>NaN</td>\n",
       "      <td>53</td>\n",
       "      <td>False</td>\n",
       "    </tr>\n",
       "    <tr>\n",
       "      <th>37</th>\n",
       "      <td>38</td>\n",
       "      <td>27</td>\n",
       "      <td>4</td>\n",
       "      <td>2010-03-07</td>\n",
       "      <td>J452</td>\n",
       "      <td>E131</td>\n",
       "      <td>NaN</td>\n",
       "      <td>53</td>\n",
       "      <td>False</td>\n",
       "    </tr>\n",
       "    <tr>\n",
       "      <th>53</th>\n",
       "      <td>54</td>\n",
       "      <td>50</td>\n",
       "      <td>5</td>\n",
       "      <td>2007-02-07</td>\n",
       "      <td>O10013</td>\n",
       "      <td>NaN</td>\n",
       "      <td>NaN</td>\n",
       "      <td>55</td>\n",
       "      <td>False</td>\n",
       "    </tr>\n",
       "  </tbody>\n",
       "</table>\n",
       "</div>"
      ],
      "text/plain": [
       "    VisitID  StaffID  PatientID   VisitDate ICD10_1 ICD10_2 ICD10_3  \\\n",
       "0         1       46          1  2013-08-10  E10621    K269     NaN   \n",
       "14       15       14          2  2006-07-04   C4650  O10019     NaN   \n",
       "20       21       48          3  2011-12-13     B20   O1092     NaN   \n",
       "37       38       27          4  2010-03-07    J452    E131     NaN   \n",
       "53       54       50          5  2007-02-07  O10013     NaN     NaN   \n",
       "\n",
       "    ClinicCode  depression  \n",
       "0           15       False  \n",
       "14          40       False  \n",
       "20          53       False  \n",
       "37          53       False  \n",
       "53          55       False  "
      ]
     },
     "execution_count": 19,
     "metadata": {},
     "output_type": "execute_result"
    }
   ],
   "source": [
    "depression.head()"
   ]
  },
  {
   "cell_type": "code",
   "execution_count": 20,
   "metadata": {},
   "outputs": [
    {
     "data": {
      "text/html": [
       "<div>\n",
       "<style scoped>\n",
       "    .dataframe tbody tr th:only-of-type {\n",
       "        vertical-align: middle;\n",
       "    }\n",
       "\n",
       "    .dataframe tbody tr th {\n",
       "        vertical-align: top;\n",
       "    }\n",
       "\n",
       "    .dataframe thead th {\n",
       "        text-align: right;\n",
       "    }\n",
       "</style>\n",
       "<table border=\"1\" class=\"dataframe\">\n",
       "  <thead>\n",
       "    <tr style=\"text-align: right;\">\n",
       "      <th></th>\n",
       "      <th>PatientID</th>\n",
       "      <th>DateOfDeath</th>\n",
       "    </tr>\n",
       "  </thead>\n",
       "  <tbody>\n",
       "    <tr>\n",
       "      <th>0</th>\n",
       "      <td>2</td>\n",
       "      <td>2008-11-02</td>\n",
       "    </tr>\n",
       "    <tr>\n",
       "      <th>1</th>\n",
       "      <td>4</td>\n",
       "      <td>2016-01-17</td>\n",
       "    </tr>\n",
       "    <tr>\n",
       "      <th>2</th>\n",
       "      <td>13</td>\n",
       "      <td>2010-11-27</td>\n",
       "    </tr>\n",
       "    <tr>\n",
       "      <th>3</th>\n",
       "      <td>17</td>\n",
       "      <td>2008-11-27</td>\n",
       "    </tr>\n",
       "    <tr>\n",
       "      <th>4</th>\n",
       "      <td>18</td>\n",
       "      <td>2010-09-22</td>\n",
       "    </tr>\n",
       "  </tbody>\n",
       "</table>\n",
       "</div>"
      ],
      "text/plain": [
       "   PatientID DateOfDeath\n",
       "0          2  2008-11-02\n",
       "1          4  2016-01-17\n",
       "2         13  2010-11-27\n",
       "3         17  2008-11-27\n",
       "4         18  2010-09-22"
      ]
     },
     "execution_count": 20,
     "metadata": {},
     "output_type": "execute_result"
    }
   ],
   "source": [
    "mortality_dd.head()"
   ]
  },
  {
   "cell_type": "code",
   "execution_count": 21,
   "metadata": {},
   "outputs": [
    {
     "data": {
      "text/html": [
       "<div>\n",
       "<style scoped>\n",
       "    .dataframe tbody tr th:only-of-type {\n",
       "        vertical-align: middle;\n",
       "    }\n",
       "\n",
       "    .dataframe tbody tr th {\n",
       "        vertical-align: top;\n",
       "    }\n",
       "\n",
       "    .dataframe thead th {\n",
       "        text-align: right;\n",
       "    }\n",
       "</style>\n",
       "<table border=\"1\" class=\"dataframe\">\n",
       "  <thead>\n",
       "    <tr style=\"text-align: right;\">\n",
       "      <th></th>\n",
       "      <th>PatientID</th>\n",
       "      <th>DateOfDeath</th>\n",
       "      <th>VisitID</th>\n",
       "      <th>StaffID</th>\n",
       "      <th>VisitDate</th>\n",
       "      <th>ICD10_1</th>\n",
       "      <th>ICD10_2</th>\n",
       "      <th>ICD10_3</th>\n",
       "      <th>ClinicCode</th>\n",
       "      <th>depression</th>\n",
       "    </tr>\n",
       "  </thead>\n",
       "  <tbody>\n",
       "    <tr>\n",
       "      <th>0</th>\n",
       "      <td>2</td>\n",
       "      <td>2008-11-02</td>\n",
       "      <td>15</td>\n",
       "      <td>14</td>\n",
       "      <td>2006-07-04</td>\n",
       "      <td>C4650</td>\n",
       "      <td>O10019</td>\n",
       "      <td>NaN</td>\n",
       "      <td>40</td>\n",
       "      <td>False</td>\n",
       "    </tr>\n",
       "    <tr>\n",
       "      <th>1</th>\n",
       "      <td>4</td>\n",
       "      <td>2016-01-17</td>\n",
       "      <td>38</td>\n",
       "      <td>27</td>\n",
       "      <td>2010-03-07</td>\n",
       "      <td>J452</td>\n",
       "      <td>E131</td>\n",
       "      <td>NaN</td>\n",
       "      <td>53</td>\n",
       "      <td>False</td>\n",
       "    </tr>\n",
       "    <tr>\n",
       "      <th>2</th>\n",
       "      <td>13</td>\n",
       "      <td>2010-11-27</td>\n",
       "      <td>147</td>\n",
       "      <td>47</td>\n",
       "      <td>2009-01-14</td>\n",
       "      <td>Z6845</td>\n",
       "      <td>E119</td>\n",
       "      <td>C780</td>\n",
       "      <td>24</td>\n",
       "      <td>False</td>\n",
       "    </tr>\n",
       "    <tr>\n",
       "      <th>3</th>\n",
       "      <td>17</td>\n",
       "      <td>2008-11-27</td>\n",
       "      <td>181</td>\n",
       "      <td>2</td>\n",
       "      <td>NaN</td>\n",
       "      <td>F1014</td>\n",
       "      <td>I2781</td>\n",
       "      <td>NaN</td>\n",
       "      <td>55</td>\n",
       "      <td>False</td>\n",
       "    </tr>\n",
       "    <tr>\n",
       "      <th>4</th>\n",
       "      <td>18</td>\n",
       "      <td>2010-09-22</td>\n",
       "      <td>182</td>\n",
       "      <td>49</td>\n",
       "      <td>NaN</td>\n",
       "      <td>E131</td>\n",
       "      <td>NaN</td>\n",
       "      <td>NaN</td>\n",
       "      <td>50</td>\n",
       "      <td>False</td>\n",
       "    </tr>\n",
       "  </tbody>\n",
       "</table>\n",
       "</div>"
      ],
      "text/plain": [
       "   PatientID DateOfDeath  VisitID  StaffID   VisitDate ICD10_1 ICD10_2  \\\n",
       "0          2  2008-11-02       15       14  2006-07-04   C4650  O10019   \n",
       "1          4  2016-01-17       38       27  2010-03-07    J452    E131   \n",
       "2         13  2010-11-27      147       47  2009-01-14   Z6845    E119   \n",
       "3         17  2008-11-27      181        2         NaN   F1014   I2781   \n",
       "4         18  2010-09-22      182       49         NaN    E131     NaN   \n",
       "\n",
       "  ICD10_3  ClinicCode  depression  \n",
       "0     NaN          40       False  \n",
       "1     NaN          53       False  \n",
       "2    C780          24       False  \n",
       "3     NaN          55       False  \n",
       "4     NaN          50       False  "
      ]
     },
     "execution_count": 21,
     "metadata": {},
     "output_type": "execute_result"
    }
   ],
   "source": [
    "#merge_data = depression(mortality_dd, on='PatientID')\n",
    "#mortality_dd.join(depression, on='PatientID')    \n",
    "#merge_data.head()\n",
    "merge_data = mortality_dd.merge(depression, on='PatientID', how='right')\n",
    "merge_data.head()"
   ]
  },
  {
   "cell_type": "code",
   "execution_count": 22,
   "metadata": {},
   "outputs": [],
   "source": [
    "merge_data.set_index('PatientID')\n",
    "merge_data['death'] = merge_data.DateOfDeath.isnull()"
   ]
  },
  {
   "cell_type": "code",
   "execution_count": 23,
   "metadata": {},
   "outputs": [
    {
     "data": {
      "text/html": [
       "<div>\n",
       "<style scoped>\n",
       "    .dataframe tbody tr th:only-of-type {\n",
       "        vertical-align: middle;\n",
       "    }\n",
       "\n",
       "    .dataframe tbody tr th {\n",
       "        vertical-align: top;\n",
       "    }\n",
       "\n",
       "    .dataframe thead th {\n",
       "        text-align: right;\n",
       "    }\n",
       "</style>\n",
       "<table border=\"1\" class=\"dataframe\">\n",
       "  <thead>\n",
       "    <tr style=\"text-align: right;\">\n",
       "      <th></th>\n",
       "      <th>PatientID</th>\n",
       "      <th>DateOfDeath</th>\n",
       "      <th>VisitID</th>\n",
       "      <th>StaffID</th>\n",
       "      <th>VisitDate</th>\n",
       "      <th>ICD10_1</th>\n",
       "      <th>ICD10_2</th>\n",
       "      <th>ICD10_3</th>\n",
       "      <th>ClinicCode</th>\n",
       "      <th>depression</th>\n",
       "      <th>death</th>\n",
       "    </tr>\n",
       "  </thead>\n",
       "  <tbody>\n",
       "    <tr>\n",
       "      <th>0</th>\n",
       "      <td>2</td>\n",
       "      <td>2008-11-02</td>\n",
       "      <td>15</td>\n",
       "      <td>14</td>\n",
       "      <td>2006-07-04</td>\n",
       "      <td>C4650</td>\n",
       "      <td>O10019</td>\n",
       "      <td>NaN</td>\n",
       "      <td>40</td>\n",
       "      <td>False</td>\n",
       "      <td>0</td>\n",
       "    </tr>\n",
       "    <tr>\n",
       "      <th>1</th>\n",
       "      <td>4</td>\n",
       "      <td>2016-01-17</td>\n",
       "      <td>38</td>\n",
       "      <td>27</td>\n",
       "      <td>2010-03-07</td>\n",
       "      <td>J452</td>\n",
       "      <td>E131</td>\n",
       "      <td>NaN</td>\n",
       "      <td>53</td>\n",
       "      <td>False</td>\n",
       "      <td>0</td>\n",
       "    </tr>\n",
       "    <tr>\n",
       "      <th>2</th>\n",
       "      <td>13</td>\n",
       "      <td>2010-11-27</td>\n",
       "      <td>147</td>\n",
       "      <td>47</td>\n",
       "      <td>2009-01-14</td>\n",
       "      <td>Z6845</td>\n",
       "      <td>E119</td>\n",
       "      <td>C780</td>\n",
       "      <td>24</td>\n",
       "      <td>False</td>\n",
       "      <td>0</td>\n",
       "    </tr>\n",
       "    <tr>\n",
       "      <th>3</th>\n",
       "      <td>17</td>\n",
       "      <td>2008-11-27</td>\n",
       "      <td>181</td>\n",
       "      <td>2</td>\n",
       "      <td>NaN</td>\n",
       "      <td>F1014</td>\n",
       "      <td>I2781</td>\n",
       "      <td>NaN</td>\n",
       "      <td>55</td>\n",
       "      <td>False</td>\n",
       "      <td>0</td>\n",
       "    </tr>\n",
       "    <tr>\n",
       "      <th>4</th>\n",
       "      <td>18</td>\n",
       "      <td>2010-09-22</td>\n",
       "      <td>182</td>\n",
       "      <td>49</td>\n",
       "      <td>NaN</td>\n",
       "      <td>E131</td>\n",
       "      <td>NaN</td>\n",
       "      <td>NaN</td>\n",
       "      <td>50</td>\n",
       "      <td>False</td>\n",
       "      <td>0</td>\n",
       "    </tr>\n",
       "  </tbody>\n",
       "</table>\n",
       "</div>"
      ],
      "text/plain": [
       "   PatientID DateOfDeath  VisitID  StaffID   VisitDate ICD10_1 ICD10_2  \\\n",
       "0          2  2008-11-02       15       14  2006-07-04   C4650  O10019   \n",
       "1          4  2016-01-17       38       27  2010-03-07    J452    E131   \n",
       "2         13  2010-11-27      147       47  2009-01-14   Z6845    E119   \n",
       "3         17  2008-11-27      181        2         NaN   F1014   I2781   \n",
       "4         18  2010-09-22      182       49         NaN    E131     NaN   \n",
       "\n",
       "  ICD10_3  ClinicCode  depression  death  \n",
       "0     NaN          40       False      0  \n",
       "1     NaN          53       False      0  \n",
       "2    C780          24       False      0  \n",
       "3     NaN          55       False      0  \n",
       "4     NaN          50       False      0  "
      ]
     },
     "execution_count": 23,
     "metadata": {},
     "output_type": "execute_result"
    }
   ],
   "source": [
    "merge_data['death'] = merge_data['death'].astype(int)\n",
    "merge_data.head()"
   ]
  },
  {
   "cell_type": "code",
   "execution_count": null,
   "metadata": {},
   "outputs": [],
   "source": []
  },
  {
   "cell_type": "code",
   "execution_count": 24,
   "metadata": {},
   "outputs": [
    {
     "name": "stderr",
     "output_type": "stream",
     "text": [
      "/anaconda3/envs/py36/lib/python3.6/site-packages/dask/dataframe/core.py:4382: UserWarning: Insufficient elements for `head`. 5 elements requested, only 2 elements available. Try passing larger `npartitions` to `head`.\n",
      "  warnings.warn(msg.format(n, len(r)))\n"
     ]
    },
    {
     "data": {
      "text/plain": [
       "depression\n",
       "False    17592\n",
       "True      2056\n",
       "Name: PatientID, dtype: int64"
      ]
     },
     "execution_count": 24,
     "metadata": {},
     "output_type": "execute_result"
    }
   ],
   "source": [
    "merge_data.groupby(['depression']).PatientID.count().head()"
   ]
  },
  {
   "cell_type": "code",
   "execution_count": 272,
   "metadata": {},
   "outputs": [
    {
     "name": "stderr",
     "output_type": "stream",
     "text": [
      "/anaconda3/envs/py36/lib/python3.6/site-packages/dask/dataframe/core.py:4382: UserWarning: Insufficient elements for `head`. 5 elements requested, only 2 elements available. Try passing larger `npartitions` to `head`.\n",
      "  warnings.warn(msg.format(n, len(r)))\n",
      "/anaconda3/envs/py36/lib/python3.6/site-packages/dask/dataframe/core.py:4382: UserWarning: Insufficient elements for `head`. 5 elements requested, only 2 elements available. Try passing larger `npartitions` to `head`.\n",
      "  warnings.warn(msg.format(n, len(r)))\n"
     ]
    },
    {
     "data": {
      "text/plain": [
       "depression\n",
       "False    0.656946\n",
       "True     0.569553\n",
       "dtype: float64"
      ]
     },
     "execution_count": 272,
     "metadata": {},
     "output_type": "execute_result"
    }
   ],
   "source": [
    "merge_data.groupby(['depression']).death.sum().head()/merge_data.groupby(['depression']).PatientID.count().head()"
   ]
  },
  {
   "cell_type": "markdown",
   "metadata": {},
   "source": [
    "## NO. The mortality among people who have depression is about 57.0% while people who don't have depression is 65.7%."
   ]
  },
  {
   "cell_type": "markdown",
   "metadata": {},
   "source": [
    "## Q2 Repeat number 1, but this time use Apache Spark to implement your solution."
   ]
  },
  {
   "cell_type": "code",
   "execution_count": null,
   "metadata": {},
   "outputs": [],
   "source": []
  }
 ],
 "metadata": {
  "kernelspec": {
   "display_name": "Python 3",
   "language": "python",
   "name": "python3"
  },
  "language_info": {
   "codemirror_mode": {
    "name": "ipython",
    "version": 3
   },
   "file_extension": ".py",
   "mimetype": "text/x-python",
   "name": "python",
   "nbconvert_exporter": "python",
   "pygments_lexer": "ipython3",
   "version": "3.6.7"
  }
 },
 "nbformat": 4,
 "nbformat_minor": 2
}
