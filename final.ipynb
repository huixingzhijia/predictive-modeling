{
 "cells": [
  {
   "cell_type": "markdown",
   "metadata": {
    "colab_type": "text",
    "id": "K5hIe2bZo_-C"
   },
   "source": [
    "# Final Exam\n",
    "## Author: Wenhui Zeng"
   ]
  },
  {
   "cell_type": "markdown",
   "metadata": {
    "colab_type": "text",
    "id": "O7eF-dO0o_-D"
   },
   "source": [
    "# Introduction"
   ]
  },
  {
   "cell_type": "markdown",
   "metadata": {
    "colab_type": "text",
    "id": "6wnh6eLlo_-D"
   },
   "source": [
    "This project is for final exam. The goal of this project is to predicts charges based on patient's age, sex,bmi, number of children, smoke status and region. Different machine learning algorithms were used to build the model. In addtion, different methods were used to apply the machine learning algorithms. The test error, training error and validation error were used as model performance accessment. The report has three big part: Introduction, Methods, Results and Conclusion.\n",
    "The exploratory data analysis was in the introduction part. The methods part was divided into three parts: h2o machine learning, sklearn cross-validation hyper parameter tuning examples and deep learning. The results give the final validation, test and training error. The best model were selected based on the result table. Mean square error is choosen as our loss function. I will explain in the following sections. "
   ]
  },
  {
   "cell_type": "markdown",
   "metadata": {
    "colab_type": "text",
    "id": "7lyowi43o_-E"
   },
   "source": [
    "## Exploratory Data Analysis"
   ]
  },
  {
   "cell_type": "code",
   "execution_count": 1,
   "metadata": {
    "colab": {},
    "colab_type": "code",
    "id": "0zPQDVM2o_-F"
   },
   "outputs": [],
   "source": [
    "import os\n",
    "import sys\n",
    "import numpy as np\n",
    "import pandas as pd\n",
    "import matplotlib\n",
    "import matplotlib.pyplot as plt\n",
    "import seaborn as sns\n",
    "from patsy import dmatrices\n",
    "from sklearn.metrics import confusion_matrix\n",
    "import sklearn\n",
    "from sklearn import datasets\n",
    "import textwrap\n",
    "from IPython.core.interactiveshell import InteractiveShell\n",
    "InteractiveShell.ast_node_interactivity = \"all\""
   ]
  },
  {
   "cell_type": "code",
   "execution_count": 2,
   "metadata": {},
   "outputs": [],
   "source": [
    "import h2o"
   ]
  },
  {
   "cell_type": "code",
   "execution_count": 3,
   "metadata": {
    "colab": {},
    "colab_type": "code",
    "id": "3KPKrVkbo_-J"
   },
   "outputs": [],
   "source": [
    "data = pd.read_csv('insurance.csv')"
   ]
  },
  {
   "cell_type": "code",
   "execution_count": 4,
   "metadata": {
    "colab": {
     "base_uri": "https://localhost:8080/",
     "height": 221
    },
    "colab_type": "code",
    "id": "hOyKBrJLo_-L",
    "outputId": "9784820d-fba1-463f-b2b1-b766e96a55b7"
   },
   "outputs": [
    {
     "data": {
      "text/html": [
       "<div>\n",
       "<style scoped>\n",
       "    .dataframe tbody tr th:only-of-type {\n",
       "        vertical-align: middle;\n",
       "    }\n",
       "\n",
       "    .dataframe tbody tr th {\n",
       "        vertical-align: top;\n",
       "    }\n",
       "\n",
       "    .dataframe thead th {\n",
       "        text-align: right;\n",
       "    }\n",
       "</style>\n",
       "<table border=\"1\" class=\"dataframe\">\n",
       "  <thead>\n",
       "    <tr style=\"text-align: right;\">\n",
       "      <th></th>\n",
       "      <th>age</th>\n",
       "      <th>sex</th>\n",
       "      <th>bmi</th>\n",
       "      <th>children</th>\n",
       "      <th>smoker</th>\n",
       "      <th>region</th>\n",
       "      <th>charges</th>\n",
       "    </tr>\n",
       "  </thead>\n",
       "  <tbody>\n",
       "    <tr>\n",
       "      <th>0</th>\n",
       "      <td>19</td>\n",
       "      <td>female</td>\n",
       "      <td>27.900</td>\n",
       "      <td>0</td>\n",
       "      <td>yes</td>\n",
       "      <td>southwest</td>\n",
       "      <td>16884.92400</td>\n",
       "    </tr>\n",
       "    <tr>\n",
       "      <th>1</th>\n",
       "      <td>18</td>\n",
       "      <td>male</td>\n",
       "      <td>33.770</td>\n",
       "      <td>1</td>\n",
       "      <td>no</td>\n",
       "      <td>southeast</td>\n",
       "      <td>1725.55230</td>\n",
       "    </tr>\n",
       "    <tr>\n",
       "      <th>2</th>\n",
       "      <td>28</td>\n",
       "      <td>male</td>\n",
       "      <td>33.000</td>\n",
       "      <td>3</td>\n",
       "      <td>no</td>\n",
       "      <td>southeast</td>\n",
       "      <td>4449.46200</td>\n",
       "    </tr>\n",
       "    <tr>\n",
       "      <th>3</th>\n",
       "      <td>33</td>\n",
       "      <td>male</td>\n",
       "      <td>22.705</td>\n",
       "      <td>0</td>\n",
       "      <td>no</td>\n",
       "      <td>northwest</td>\n",
       "      <td>21984.47061</td>\n",
       "    </tr>\n",
       "    <tr>\n",
       "      <th>4</th>\n",
       "      <td>32</td>\n",
       "      <td>male</td>\n",
       "      <td>28.880</td>\n",
       "      <td>0</td>\n",
       "      <td>no</td>\n",
       "      <td>northwest</td>\n",
       "      <td>3866.85520</td>\n",
       "    </tr>\n",
       "  </tbody>\n",
       "</table>\n",
       "</div>"
      ],
      "text/plain": [
       "   age     sex     bmi  children smoker     region      charges\n",
       "0   19  female  27.900         0    yes  southwest  16884.92400\n",
       "1   18    male  33.770         1     no  southeast   1725.55230\n",
       "2   28    male  33.000         3     no  southeast   4449.46200\n",
       "3   33    male  22.705         0     no  northwest  21984.47061\n",
       "4   32    male  28.880         0     no  northwest   3866.85520"
      ]
     },
     "execution_count": 4,
     "metadata": {},
     "output_type": "execute_result"
    },
    {
     "data": {
      "text/plain": [
       "(1338, 7)"
      ]
     },
     "execution_count": 4,
     "metadata": {},
     "output_type": "execute_result"
    }
   ],
   "source": [
    "data.head()\n",
    "data.shape"
   ]
  },
  {
   "cell_type": "code",
   "execution_count": 5,
   "metadata": {
    "colab": {
     "base_uri": "https://localhost:8080/",
     "height": 153
    },
    "colab_type": "code",
    "id": "dx-VV5Llo_-O",
    "outputId": "8d8ecb2a-0c41-4a7e-c723-2b23b30e6f1a"
   },
   "outputs": [
    {
     "data": {
      "text/plain": [
       "age         0\n",
       "sex         0\n",
       "bmi         0\n",
       "children    0\n",
       "smoker      0\n",
       "region      0\n",
       "charges     0\n",
       "dtype: int64"
      ]
     },
     "execution_count": 5,
     "metadata": {},
     "output_type": "execute_result"
    }
   ],
   "source": [
    "data.isnull().sum()\n",
    "data['children']=data['children'].astype('category')\n",
    "data['smoker']=data['smoker'].astype('category')\n",
    "data['region'] = data['region'].astype('category')\n",
    "data['sex'] = data['sex'].astype('category')"
   ]
  },
  {
   "cell_type": "code",
   "execution_count": 6,
   "metadata": {
    "colab": {
     "base_uri": "https://localhost:8080/",
     "height": 297
    },
    "colab_type": "code",
    "id": "ykJBold7o_-Q",
    "outputId": "69e6e9dd-36c3-44b5-fa09-02a7b76057bc"
   },
   "outputs": [
    {
     "data": {
      "text/html": [
       "<div>\n",
       "<style scoped>\n",
       "    .dataframe tbody tr th:only-of-type {\n",
       "        vertical-align: middle;\n",
       "    }\n",
       "\n",
       "    .dataframe tbody tr th {\n",
       "        vertical-align: top;\n",
       "    }\n",
       "\n",
       "    .dataframe thead th {\n",
       "        text-align: right;\n",
       "    }\n",
       "</style>\n",
       "<table border=\"1\" class=\"dataframe\">\n",
       "  <thead>\n",
       "    <tr style=\"text-align: right;\">\n",
       "      <th></th>\n",
       "      <th>age</th>\n",
       "      <th>bmi</th>\n",
       "      <th>charges</th>\n",
       "    </tr>\n",
       "  </thead>\n",
       "  <tbody>\n",
       "    <tr>\n",
       "      <th>count</th>\n",
       "      <td>1338.000000</td>\n",
       "      <td>1338.000000</td>\n",
       "      <td>1338.000000</td>\n",
       "    </tr>\n",
       "    <tr>\n",
       "      <th>mean</th>\n",
       "      <td>39.207025</td>\n",
       "      <td>30.663397</td>\n",
       "      <td>13270.422265</td>\n",
       "    </tr>\n",
       "    <tr>\n",
       "      <th>std</th>\n",
       "      <td>14.049960</td>\n",
       "      <td>6.098187</td>\n",
       "      <td>12110.011237</td>\n",
       "    </tr>\n",
       "    <tr>\n",
       "      <th>min</th>\n",
       "      <td>18.000000</td>\n",
       "      <td>15.960000</td>\n",
       "      <td>1121.873900</td>\n",
       "    </tr>\n",
       "    <tr>\n",
       "      <th>25%</th>\n",
       "      <td>27.000000</td>\n",
       "      <td>26.296250</td>\n",
       "      <td>4740.287150</td>\n",
       "    </tr>\n",
       "    <tr>\n",
       "      <th>50%</th>\n",
       "      <td>39.000000</td>\n",
       "      <td>30.400000</td>\n",
       "      <td>9382.033000</td>\n",
       "    </tr>\n",
       "    <tr>\n",
       "      <th>75%</th>\n",
       "      <td>51.000000</td>\n",
       "      <td>34.693750</td>\n",
       "      <td>16639.912515</td>\n",
       "    </tr>\n",
       "    <tr>\n",
       "      <th>max</th>\n",
       "      <td>64.000000</td>\n",
       "      <td>53.130000</td>\n",
       "      <td>63770.428010</td>\n",
       "    </tr>\n",
       "  </tbody>\n",
       "</table>\n",
       "</div>"
      ],
      "text/plain": [
       "               age          bmi       charges\n",
       "count  1338.000000  1338.000000   1338.000000\n",
       "mean     39.207025    30.663397  13270.422265\n",
       "std      14.049960     6.098187  12110.011237\n",
       "min      18.000000    15.960000   1121.873900\n",
       "25%      27.000000    26.296250   4740.287150\n",
       "50%      39.000000    30.400000   9382.033000\n",
       "75%      51.000000    34.693750  16639.912515\n",
       "max      64.000000    53.130000  63770.428010"
      ]
     },
     "execution_count": 6,
     "metadata": {},
     "output_type": "execute_result"
    }
   ],
   "source": [
    "data.describe()"
   ]
  },
  {
   "cell_type": "code",
   "execution_count": 7,
   "metadata": {
    "colab": {
     "base_uri": "https://localhost:8080/",
     "height": 68
    },
    "colab_type": "code",
    "id": "B5gVEg_-o_-T",
    "outputId": "7aa8b290-02bb-4b6e-aa84-c5f456821f2f"
   },
   "outputs": [
    {
     "data": {
      "text/plain": [
       "male      676\n",
       "female    662\n",
       "Name: sex, dtype: int64"
      ]
     },
     "execution_count": 7,
     "metadata": {},
     "output_type": "execute_result"
    }
   ],
   "source": [
    "data['sex'].value_counts()"
   ]
  },
  {
   "cell_type": "code",
   "execution_count": 8,
   "metadata": {
    "colab": {
     "base_uri": "https://localhost:8080/",
     "height": 136
    },
    "colab_type": "code",
    "id": "cp37Cx6Io_-Y",
    "outputId": "03c13f2d-4ca4-4b6d-9ec8-2e3603bda116"
   },
   "outputs": [
    {
     "data": {
      "text/plain": [
       "0    574\n",
       "1    324\n",
       "2    240\n",
       "3    157\n",
       "4     25\n",
       "5     18\n",
       "Name: children, dtype: int64"
      ]
     },
     "execution_count": 8,
     "metadata": {},
     "output_type": "execute_result"
    }
   ],
   "source": [
    "data['children'].value_counts()"
   ]
  },
  {
   "cell_type": "code",
   "execution_count": 9,
   "metadata": {
    "colab": {
     "base_uri": "https://localhost:8080/",
     "height": 68
    },
    "colab_type": "code",
    "id": "OT4X8nWNo_-b",
    "outputId": "8cfe5c21-e19d-44dd-9f72-d7f34acc5418"
   },
   "outputs": [
    {
     "data": {
      "text/plain": [
       "no     1064\n",
       "yes     274\n",
       "Name: smoker, dtype: int64"
      ]
     },
     "execution_count": 9,
     "metadata": {},
     "output_type": "execute_result"
    }
   ],
   "source": [
    "data['smoker'].value_counts()"
   ]
  },
  {
   "cell_type": "code",
   "execution_count": 10,
   "metadata": {
    "colab": {
     "base_uri": "https://localhost:8080/",
     "height": 102
    },
    "colab_type": "code",
    "id": "s026ZMwko_-e",
    "outputId": "d9bd1213-065d-438a-d151-d0693390d3b6"
   },
   "outputs": [
    {
     "data": {
      "text/plain": [
       "southeast    364\n",
       "southwest    325\n",
       "northwest    325\n",
       "northeast    324\n",
       "Name: region, dtype: int64"
      ]
     },
     "execution_count": 10,
     "metadata": {},
     "output_type": "execute_result"
    }
   ],
   "source": [
    "data['region'].value_counts()"
   ]
  },
  {
   "cell_type": "code",
   "execution_count": 11,
   "metadata": {
    "colab": {
     "base_uri": "https://localhost:8080/",
     "height": 283
    },
    "colab_type": "code",
    "id": "rnUb1_bBo_-g",
    "outputId": "0d08a560-4206-4735-fb03-f43e1eec88d1"
   },
   "outputs": [
    {
     "data": {
      "image/png": "[encoded data removed]",
      "text/plain": [
       "<Figure size 432x288 with 1 Axes>"
      ]
     },
     "metadata": {
      "needs_background": "light"
     },
     "output_type": "display_data"
    }
   ],
   "source": [
    "sns.distplot(data['charges'], bins=20, kde=False);"
   ]
  },
  {
   "cell_type": "code",
   "execution_count": 12,
   "metadata": {
    "colab": {
     "base_uri": "https://localhost:8080/",
     "height": 300
    },
    "colab_type": "code",
    "id": "CTUGphqJo_-i",
    "outputId": "94939c3e-a000-4235-9576-a3fdc66d36a7"
   },
   "outputs": [
    {
     "data": {
      "text/plain": [
       "<matplotlib.axes._subplots.AxesSubplot at 0x10e503390>"
      ]
     },
     "execution_count": 12,
     "metadata": {},
     "output_type": "execute_result"
    },
    {
     "data": {
      "image/png": "[encoded data removed]",
      "text/plain": [
       "<Figure size 432x288 with 1 Axes>"
      ]
     },
     "metadata": {
      "needs_background": "light"
     },
     "output_type": "display_data"
    }
   ],
   "source": [
    "sns.boxplot(x=\"children\", y=\"charges\", data=data)"
   ]
  },
  {
   "cell_type": "code",
   "execution_count": 13,
   "metadata": {
    "colab": {
     "base_uri": "https://localhost:8080/",
     "height": 300
    },
    "colab_type": "code",
    "id": "eY0uXRWOo_-k",
    "outputId": "5a856837-4980-4348-b3f0-65f58d6d65f9"
   },
   "outputs": [
    {
     "data": {
      "text/plain": [
       "<matplotlib.axes._subplots.AxesSubplot at 0x1a2299b5c0>"
      ]
     },
     "execution_count": 13,
     "metadata": {},
     "output_type": "execute_result"
    },
    {
     "data": {
      "image/png": "[encoded data removed]",
      "text/plain": [
       "<Figure size 432x288 with 1 Axes>"
      ]
     },
     "metadata": {
      "needs_background": "light"
     },
     "output_type": "display_data"
    }
   ],
   "source": [
    "sns.boxplot(x='sex',y='charges',data=data)"
   ]
  },
  {
   "cell_type": "code",
   "execution_count": 14,
   "metadata": {
    "colab": {
     "base_uri": "https://localhost:8080/",
     "height": 300
    },
    "colab_type": "code",
    "id": "2F1PNkCco_-n",
    "outputId": "7817172c-cd70-48bc-f9a0-af17ec598b72"
   },
   "outputs": [
    {
     "data": {
      "text/plain": [
       "<matplotlib.axes._subplots.AxesSubplot at 0x1a229f4fd0>"
      ]
     },
     "execution_count": 14,
     "metadata": {},
     "output_type": "execute_result"
    },
    {
     "data": {
      "image/png": "[encoded data removed]",
      "text/plain": [
       "<Figure size 432x288 with 1 Axes>"
      ]
     },
     "metadata": {
      "needs_background": "light"
     },
     "output_type": "display_data"
    }
   ],
   "source": [
    "sns.boxplot(x='smoker',y='charges',data=data)"
   ]
  },
  {
   "cell_type": "code",
   "execution_count": 15,
   "metadata": {
    "colab": {
     "base_uri": "https://localhost:8080/",
     "height": 300
    },
    "colab_type": "code",
    "id": "5kv-QlAEo_-q",
    "outputId": "3c0f934b-b1e8-4034-a2c9-850e3e02fd4e"
   },
   "outputs": [
    {
     "data": {
      "text/plain": [
       "<matplotlib.axes._subplots.AxesSubplot at 0x10e597da0>"
      ]
     },
     "execution_count": 15,
     "metadata": {},
     "output_type": "execute_result"
    },
    {
     "data": {
      "image/png": "[encoded data removed]",
      "text/plain": [
       "<Figure size 432x288 with 1 Axes>"
      ]
     },
     "metadata": {
      "needs_background": "light"
     },
     "output_type": "display_data"
    }
   ],
   "source": [
    "sns.boxplot(x='region',y='charges',data=data)"
   ]
  },
  {
   "cell_type": "code",
   "execution_count": 16,
   "metadata": {
    "colab": {
     "base_uri": "https://localhost:8080/",
     "height": 458
    },
    "colab_type": "code",
    "id": "Y2dAIpr3o_-t",
    "outputId": "95b28420-2b40-4e68-b78c-a13706000526"
   },
   "outputs": [
    {
     "name": "stderr",
     "output_type": "stream",
     "text": [
      "/anaconda3/envs/py36/lib/python3.6/site-packages/scipy/stats/stats.py:1713: FutureWarning: Using a non-tuple sequence for multidimensional indexing is deprecated; use `arr[tuple(seq)]` instead of `arr[seq]`. In the future this will be interpreted as an array index, `arr[np.array(seq)]`, which will result either in an error or a different result.\n",
      "  return np.add.reduce(sorted[indexer] * weights, axis=axis) / sumval\n"
     ]
    },
    {
     "data": {
      "text/plain": [
       "<seaborn.axisgrid.JointGrid at 0x1a22edfcf8>"
      ]
     },
     "execution_count": 16,
     "metadata": {},
     "output_type": "execute_result"
    },
    {
     "data": {
      "image/png": "[encoded data removed]",
      "text/plain": [
       "<Figure size 432x432 with 3 Axes>"
      ]
     },
     "metadata": {},
     "output_type": "display_data"
    }
   ],
   "source": [
    "sns.set_style('whitegrid')\n",
    "sns.jointplot(x='age',y='charges',data=data)"
   ]
  },
  {
   "cell_type": "code",
   "execution_count": 17,
   "metadata": {
    "colab": {
     "base_uri": "https://localhost:8080/",
     "height": 458
    },
    "colab_type": "code",
    "id": "qkQnGk3Go_-v",
    "outputId": "489dc600-879c-4b10-e904-c7e385991f10"
   },
   "outputs": [
    {
     "data": {
      "text/plain": [
       "<seaborn.axisgrid.JointGrid at 0x1a238a5940>"
      ]
     },
     "execution_count": 17,
     "metadata": {},
     "output_type": "execute_result"
    },
    {
     "data": {
      "image/png": "[encoded data removed]",
      "text/plain": [
       "<Figure size 432x432 with 3 Axes>"
      ]
     },
     "metadata": {},
     "output_type": "display_data"
    }
   ],
   "source": [
    "sns.jointplot(x='bmi',y='charges',data=data)"
   ]
  },
  {
   "cell_type": "markdown",
   "metadata": {
    "colab_type": "text",
    "id": "pWisCWxRo_-x"
   },
   "source": [
    "## Summary of EDA"
   ]
  },
  {
   "cell_type": "markdown",
   "metadata": {
    "colab_type": "text",
    "id": "SnV9p4c_o_-y"
   },
   "source": [
    "From the descriptive analysis, there is total 1338 observations with 7 variables. No missing values are in the dataset.\n",
    "From the exploratory analysis, the maximum age is 64 years old and minimum age is 18 years old. The average is 39 years old. From the joinplot, the age is uniform distributed.     \n",
    "As for the bmi, the highest is 53 and lowest is 15.96 with an average of 30.7. Most of patients are overweight, from the joinplot, the bmi is normal distributed with a mean of 30.7.    \n",
    "The charge is our outcome variable. The highest is 63770 and the lowest is 1121 with an average of 13270. It is exponential distributed.    \n",
    "The region, smoke status and number of children are categorical variables. There are 50% of male and 50% of female. The people from four regions are evenly distributed. About 42.9% patient has no child, and 24.2% patient has only 1 child, 17.9% has 2 children, 11.% patient has 3 children and the 3.2% has more than three children. The variable, children, sex, region, smoke status were converted to categorical variable. BMI, charges and age are numerical variables."
   ]
  },
  {
   "cell_type": "markdown",
   "metadata": {
    "colab_type": "text",
    "id": "CiZ8QhqLo_-z"
   },
   "source": [
    "As for the univariate analysis from the boxplot and jointplot, it looks like there is a correlation between charges and age, charges and smoke status. The correlation between charges and other predictors are not very strong.\n",
    "\n",
    "The exploratory analysis show that there is no necessary to add sex and region in the final model since the correlation is not very strong."
   ]
  },
  {
   "cell_type": "markdown",
   "metadata": {
    "colab_type": "text",
    "id": "Q7NJCnclo_-z"
   },
   "source": [
    "# Method"
   ]
  },
  {
   "cell_type": "markdown",
   "metadata": {
    "colab_type": "text",
    "id": "CiV-qN3lo_-0"
   },
   "source": [
    "The common loss function for regression is mean square error which derived from OLS method. The estimator calcualted using OLS is the same as maximum likelihood method. It is also mathematically convenient. The common loss function for logistic regression is log loss. But our problem is regression problem since the outcome is continuous. So the loss function is mean square error. \n",
    "\n",
    "The evaluation metrics are test error,validation error and training error using root mean square error.\n",
    "\n",
    "The methods are in three domains.\n",
    "Part I: H2o machine learning\n",
    "Part II: cross validation using sklearn\n",
    "Part III: Deep learning\n",
    "\n",
    "The data manipulation part is before model building.\n",
    "\n",
    "Part I\n",
    "In this sections, all the machine learning methods were utilized h2o. Five folds cross validation was performed on training data. The mean cross validation root mean square error (RMSE) was evaludated in the result table. The methods used in h2o are gradient boosting regression trees (GBM), random forest trees, linear regression, lasso, ridge, elastic net,  elastic net with lambda search, random forest with hyper parameter tuning, GBM with hyper parameter tuning.    \n",
    "The hyper parameter tuning is based on h2o grid search. The data was split into train, test and validation. The results table shows the CV mean RMSE , test and validation error to help me compare between different models. The grid search will provide best model automatically. The autoML is one of the convinient methods, it automatically calculated for all possible results. The results will be analyzed in the results section.\n",
    "\n",
    "Part II\n",
    "In this part, I applied cross validation using sklearn. Cross validation is very useful when we are tuning hyper parameter, the example listed in this section were all about hyper tuning including random forest, gradient boosting. Sklearn have different ways to apply cross validation. If I used sklearn, I split the data into training and test, no validation data set. The mean RMSE was generated for model selection. Cross validation is useful when comes to hyper parameter tuning. According to the documentation, we can specified nfold=k to do k fold cross validation. The best model was selected by the software. \n",
    "\n",
    "Part III\n",
    "In this section, deep learning with netural network was applied. Three models include simple NN, a little complex one and one with regularization. I tried to run deep learning on my computer. However, it took forever. So I used google collaboration to run tensorflow. \n",
    "\n"
   ]
  },
  {
   "cell_type": "markdown",
   "metadata": {
    "colab_type": "text",
    "id": "APvl2SS4o_-0"
   },
   "source": [
    "## Part I H2o machine learning"
   ]
  },
  {
   "cell_type": "markdown",
   "metadata": {
    "colab_type": "text",
    "id": "bsPMbCZ6o_-1"
   },
   "source": [
    "### data preparation"
   ]
  },
  {
   "cell_type": "code",
   "execution_count": 18,
   "metadata": {
    "colab": {},
    "colab_type": "code",
    "id": "GrWj6NZfo_-1",
    "outputId": "4bc6cfc1-6b56-42b9-92df-6580e165bea6"
   },
   "outputs": [
    {
     "name": "stdout",
     "output_type": "stream",
     "text": [
      "Checking whether there is an H2O instance running at http://localhost:54321. connected.\n"
     ]
    },
    {
     "data": {
      "text/html": [
       "<div style=\"overflow:auto\"><table style=\"width:50%\"><tr><td>H2O cluster uptime:</td>\n",
       "<td>20 hours 8 mins</td></tr>\n",
       "<tr><td>H2O cluster timezone:</td>\n",
       "<td>America/Chicago</td></tr>\n",
       "<tr><td>H2O data parsing timezone:</td>\n",
       "<td>UTC</td></tr>\n",
       "<tr><td>H2O cluster version:</td>\n",
       "<td>3.22.1.4</td></tr>\n",
       "<tr><td>H2O cluster version age:</td>\n",
       "<td>2 months and 24 days </td></tr>\n",
       "<tr><td>H2O cluster name:</td>\n",
       "<td>H2O_from_python_wenhuizeng_7fej6m</td></tr>\n",
       "<tr><td>H2O cluster total nodes:</td>\n",
       "<td>1</td></tr>\n",
       "<tr><td>H2O cluster free memory:</td>\n",
       "<td>1.042 Gb</td></tr>\n",
       "<tr><td>H2O cluster total cores:</td>\n",
       "<td>4</td></tr>\n",
       "<tr><td>H2O cluster allowed cores:</td>\n",
       "<td>4</td></tr>\n",
       "<tr><td>H2O cluster status:</td>\n",
       "<td>locked, healthy</td></tr>\n",
       "<tr><td>H2O connection url:</td>\n",
       "<td>http://localhost:54321</td></tr>\n",
       "<tr><td>H2O connection proxy:</td>\n",
       "<td>None</td></tr>\n",
       "<tr><td>H2O internal security:</td>\n",
       "<td>False</td></tr>\n",
       "<tr><td>H2O API Extensions:</td>\n",
       "<td>Amazon S3, XGBoost, Algos, AutoML, Core V3, Core V4</td></tr>\n",
       "<tr><td>Python version:</td>\n",
       "<td>3.6.7 final</td></tr></table></div>"
      ],
      "text/plain": [
       "--------------------------  ---------------------------------------------------\n",
       "H2O cluster uptime:         20 hours 8 mins\n",
       "H2O cluster timezone:       America/Chicago\n",
       "H2O data parsing timezone:  UTC\n",
       "H2O cluster version:        3.22.1.4\n",
       "H2O cluster version age:    2 months and 24 days\n",
       "H2O cluster name:           H2O_from_python_wenhuizeng_7fej6m\n",
       "H2O cluster total nodes:    1\n",
       "H2O cluster free memory:    1.042 Gb\n",
       "H2O cluster total cores:    4\n",
       "H2O cluster allowed cores:  4\n",
       "H2O cluster status:         locked, healthy\n",
       "H2O connection url:         http://localhost:54321\n",
       "H2O connection proxy:\n",
       "H2O internal security:      False\n",
       "H2O API Extensions:         Amazon S3, XGBoost, Algos, AutoML, Core V3, Core V4\n",
       "Python version:             3.6.7 final\n",
       "--------------------------  ---------------------------------------------------"
      ]
     },
     "metadata": {},
     "output_type": "display_data"
    }
   ],
   "source": [
    "h2o.init(ip='localhost',\n",
    "         port = 54321,\n",
    "         nthreads = -1,  # use all available threads\n",
    "         max_mem_size = '2G') # can also specify mem size "
   ]
  },
  {
   "cell_type": "code",
   "execution_count": 19,
   "metadata": {
    "colab": {},
    "colab_type": "code",
    "id": "hvt-jvhDo_-4",
    "outputId": "2fc1330c-be5e-47d9-96c3-54a8afcfa2bc"
   },
   "outputs": [
    {
     "name": "stdout",
     "output_type": "stream",
     "text": [
      "Parse progress: |█████████████████████████████████████████████████████████| 100%\n"
     ]
    }
   ],
   "source": [
    "df = h2o.import_file('insurance.csv')"
   ]
  },
  {
   "cell_type": "code",
   "execution_count": 56,
   "metadata": {
    "colab": {},
    "colab_type": "code",
    "id": "7mUTrysvo_-6",
    "outputId": "2c127dcd-2a77-4c2c-e013-df9cdecd0892"
   },
   "outputs": [
    {
     "data": {
      "text/plain": [
       "['age', 'sex', 'bmi', 'children', 'smoker', 'region', 'charges']"
      ]
     },
     "execution_count": 56,
     "metadata": {},
     "output_type": "execute_result"
    },
    {
     "data": {
      "text/plain": [
       "{'age': 'int',\n",
       " 'sex': 'enum',\n",
       " 'bmi': 'real',\n",
       " 'children': 'enum',\n",
       " 'smoker': 'enum',\n",
       " 'region': 'enum',\n",
       " 'charges': 'real'}"
      ]
     },
     "execution_count": 56,
     "metadata": {},
     "output_type": "execute_result"
    },
    {
     "data": {
      "text/plain": [
       "(51, 7)"
      ]
     },
     "execution_count": 56,
     "metadata": {},
     "output_type": "execute_result"
    }
   ],
   "source": [
    "df['children'] = df['children'].asfactor()\n",
    "df['smoker'] = df['smoker'].asfactor()\n",
    "df['region'] = df['region'].asfactor()\n",
    "train, test, validate = df.split_frame([0.6,0.2], seed=12)\n",
    "train.columns\n",
    "df.types"
   ]
  },
  {
   "cell_type": "markdown",
   "metadata": {
    "colab_type": "text",
    "id": "nElvE-54o_-8"
   },
   "source": [
    "### Linear Regression No Penalty"
   ]
  },
  {
   "cell_type": "code",
   "execution_count": 21,
   "metadata": {
    "colab": {},
    "colab_type": "code",
    "id": "lTTZI-Rio_-9",
    "outputId": "e69aeb0f-5685-4fbc-87cd-a846ae60185a"
   },
   "outputs": [
    {
     "name": "stdout",
     "output_type": "stream",
     "text": [
      "glm Model Build progress: |███████████████████████████████████████████████| 100%\n"
     ]
    }
   ],
   "source": [
    "from h2o.estimators.glm import H2OGeneralizedLinearEstimator\n",
    "outcome = 'charges'\n",
    "inputs = ['age', 'bmi', 'smoker','children']\n",
    "glm_mod1 = H2OGeneralizedLinearEstimator(model_id = 'glm_1',\n",
    "                                  family = 'gaussian',\n",
    "                                  lambda_=0,\n",
    "                                  compute_p_values = True,nfolds=5)\n",
    "## Fit model\n",
    "glm_mod1.train(x = inputs,\n",
    "               y = outcome,\n",
    "               training_frame = train,\n",
    "               validation_frame = validate)"
   ]
  },
  {
   "cell_type": "code",
   "execution_count": 22,
   "metadata": {},
   "outputs": [
    {
     "data": {
      "text/html": [
       "<div>\n",
       "<style scoped>\n",
       "    .dataframe tbody tr th:only-of-type {\n",
       "        vertical-align: middle;\n",
       "    }\n",
       "\n",
       "    .dataframe tbody tr th {\n",
       "        vertical-align: top;\n",
       "    }\n",
       "\n",
       "    .dataframe thead th {\n",
       "        text-align: right;\n",
       "    }\n",
       "</style>\n",
       "<table border=\"1\" class=\"dataframe\">\n",
       "  <thead>\n",
       "    <tr style=\"text-align: right;\">\n",
       "      <th></th>\n",
       "      <th></th>\n",
       "      <th>mean</th>\n",
       "      <th>sd</th>\n",
       "      <th>cv_1_valid</th>\n",
       "      <th>cv_2_valid</th>\n",
       "      <th>cv_3_valid</th>\n",
       "      <th>cv_4_valid</th>\n",
       "      <th>cv_5_valid</th>\n",
       "    </tr>\n",
       "  </thead>\n",
       "  <tbody>\n",
       "    <tr>\n",
       "      <th>0</th>\n",
       "      <td>mae</td>\n",
       "      <td>4079.5964</td>\n",
       "      <td>161.34181</td>\n",
       "      <td>4355.2046</td>\n",
       "      <td>4028.3596</td>\n",
       "      <td>3990.4375</td>\n",
       "      <td>3725.0789</td>\n",
       "      <td>4298.9014</td>\n",
       "    </tr>\n",
       "    <tr>\n",
       "      <th>1</th>\n",
       "      <td>mean_residual_deviance</td>\n",
       "      <td>3.53129E7</td>\n",
       "      <td>3120696.0</td>\n",
       "      <td>4.1710472E7</td>\n",
       "      <td>3.3619032E7</td>\n",
       "      <td>3.4409972E7</td>\n",
       "      <td>2.8640142E7</td>\n",
       "      <td>3.8184888E7</td>\n",
       "    </tr>\n",
       "    <tr>\n",
       "      <th>2</th>\n",
       "      <td>mse</td>\n",
       "      <td>3.53129E7</td>\n",
       "      <td>3120696.0</td>\n",
       "      <td>4.1710472E7</td>\n",
       "      <td>3.3619032E7</td>\n",
       "      <td>3.4409972E7</td>\n",
       "      <td>2.8640142E7</td>\n",
       "      <td>3.8184888E7</td>\n",
       "    </tr>\n",
       "    <tr>\n",
       "      <th>3</th>\n",
       "      <td>null_deviance</td>\n",
       "      <td>2.49378714E10</td>\n",
       "      <td>1.47393882E9</td>\n",
       "      <td>2.08836731E10</td>\n",
       "      <td>2.67454177E10</td>\n",
       "      <td>2.61533225E10</td>\n",
       "      <td>2.55316111E10</td>\n",
       "      <td>2.53753344E10</td>\n",
       "    </tr>\n",
       "    <tr>\n",
       "      <th>4</th>\n",
       "      <td>r2</td>\n",
       "      <td>0.7682755</td>\n",
       "      <td>0.02434332</td>\n",
       "      <td>0.702128</td>\n",
       "      <td>0.7844776</td>\n",
       "      <td>0.7683147</td>\n",
       "      <td>0.78861</td>\n",
       "      <td>0.7978471</td>\n",
       "    </tr>\n",
       "    <tr>\n",
       "      <th>5</th>\n",
       "      <td>residual_deviance</td>\n",
       "      <td>5.7041981E9</td>\n",
       "      <td>2.88793056E8</td>\n",
       "      <td>6.2148603E9</td>\n",
       "      <td>5.7488543E9</td>\n",
       "      <td>6.0561546E9</td>\n",
       "      <td>5.3843466E9</td>\n",
       "      <td>5.1167754E9</td>\n",
       "    </tr>\n",
       "    <tr>\n",
       "      <th>6</th>\n",
       "      <td>rmse</td>\n",
       "      <td>5930.7197</td>\n",
       "      <td>264.06866</td>\n",
       "      <td>6458.3647</td>\n",
       "      <td>5798.192</td>\n",
       "      <td>5866.0015</td>\n",
       "      <td>5351.6484</td>\n",
       "      <td>6179.3926</td>\n",
       "    </tr>\n",
       "    <tr>\n",
       "      <th>7</th>\n",
       "      <td>rmsle</td>\n",
       "      <td>0.0</td>\n",
       "      <td>NaN</td>\n",
       "      <td>NaN</td>\n",
       "      <td>NaN</td>\n",
       "      <td>NaN</td>\n",
       "      <td>NaN</td>\n",
       "      <td>NaN</td>\n",
       "    </tr>\n",
       "  </tbody>\n",
       "</table>\n",
       "</div>"
      ],
      "text/plain": [
       "                                    mean            sd     cv_1_valid  \\\n",
       "0                     mae      4079.5964     161.34181      4355.2046   \n",
       "1  mean_residual_deviance      3.53129E7     3120696.0    4.1710472E7   \n",
       "2                     mse      3.53129E7     3120696.0    4.1710472E7   \n",
       "3           null_deviance  2.49378714E10  1.47393882E9  2.08836731E10   \n",
       "4                      r2      0.7682755    0.02434332       0.702128   \n",
       "5       residual_deviance    5.7041981E9  2.88793056E8    6.2148603E9   \n",
       "6                    rmse      5930.7197     264.06866      6458.3647   \n",
       "7                   rmsle            0.0           NaN            NaN   \n",
       "\n",
       "      cv_2_valid     cv_3_valid     cv_4_valid     cv_5_valid  \n",
       "0      4028.3596      3990.4375      3725.0789      4298.9014  \n",
       "1    3.3619032E7    3.4409972E7    2.8640142E7    3.8184888E7  \n",
       "2    3.3619032E7    3.4409972E7    2.8640142E7    3.8184888E7  \n",
       "3  2.67454177E10  2.61533225E10  2.55316111E10  2.53753344E10  \n",
       "4      0.7844776      0.7683147        0.78861      0.7978471  \n",
       "5    5.7488543E9    6.0561546E9    5.3843466E9    5.1167754E9  \n",
       "6       5798.192      5866.0015      5351.6484      6179.3926  \n",
       "7            NaN            NaN            NaN            NaN  "
      ]
     },
     "execution_count": 22,
     "metadata": {},
     "output_type": "execute_result"
    }
   ],
   "source": [
    "glm_mod1.cross_validation_metrics_summary().as_data_frame()"
   ]
  },
  {
   "cell_type": "code",
   "execution_count": 23,
   "metadata": {},
   "outputs": [
    {
     "data": {
      "text/plain": [
       "'5930.7197'"
      ]
     },
     "execution_count": 23,
     "metadata": {},
     "output_type": "execute_result"
    },
    {
     "data": {
      "text/plain": [
       "(6149.452317769408,)"
      ]
     },
     "execution_count": 23,
     "metadata": {},
     "output_type": "execute_result"
    },
    {
     "data": {
      "text/plain": [
       "6745.391599527368"
      ]
     },
     "execution_count": 23,
     "metadata": {},
     "output_type": "execute_result"
    }
   ],
   "source": [
    "glm_mod1.cross_validation_metrics_summary()[1][6]\n",
    "glm_mod1._model_json['output']['validation_metrics']['RMSE'],\n",
    "glm_mod1.model_performance(test_data=test)['RMSE']"
   ]
  },
  {
   "cell_type": "code",
   "execution_count": 24,
   "metadata": {
    "colab": {},
    "colab_type": "code",
    "id": "Z2HlvR0Qo__A",
    "outputId": "6b0b6b9a-7fe9-4ba1-8b04-09a0376320dc"
   },
   "outputs": [],
   "source": [
    "def get_results(x1):\n",
    "    print(\"\\n{0:20}   {1:4}     {2:4}    {3:4}\".format('Model','CV Mean RMSE','Validation RMSE', 'Test RMSE'))\n",
    "    print('-------------------------------------------')\n",
    "    for i in x1.keys():\n",
    "        print(\"{0:20}   {1:<7.5}        {2:<7.5}         {3:<7.5}\".format(i,x1[i][0],x1[i][1],x1[i][2]))\n",
    "result_scores={}\n",
    "result_scores['Linear Regression'] = \\\n",
    "            (glm_mod1.cross_validation_metrics_summary()[1][6],\n",
    "             glm_mod1._model_json['output']['validation_metrics']['RMSE'],\n",
    "            glm_mod1.model_performance(test_data=test)['RMSE'])\n"
   ]
  },
  {
   "cell_type": "markdown",
   "metadata": {
    "colab_type": "text",
    "id": "nJHYEBh5o__C"
   },
   "source": [
    "### Ridge regression (L2)"
   ]
  },
  {
   "cell_type": "code",
   "execution_count": 25,
   "metadata": {
    "colab": {},
    "colab_type": "code",
    "id": "SuzRT7fYo__D",
    "outputId": "7f7109e5-ab0e-4a81-816b-d670e0deba3c"
   },
   "outputs": [
    {
     "name": "stdout",
     "output_type": "stream",
     "text": [
      "glm Model Build progress: |███████████████████████████████████████████████| 100%\n"
     ]
    },
    {
     "data": {
      "text/plain": [
       "{'Linear Regression': ('5930.7197', 6149.452317769408, 6745.391599527368),\n",
       " 'Ridge Regression': ('10056.158', 9338.775119626827, 9373.154162926385)}"
      ]
     },
     "execution_count": 25,
     "metadata": {},
     "output_type": "execute_result"
    }
   ],
   "source": [
    "from h2o.estimators.glm import H2OGeneralizedLinearEstimator\n",
    "glm_mod2 = H2OGeneralizedLinearEstimator(model_id = 'glm_2',\n",
    "                                  family = 'gaussian',\n",
    "                                  lambda_=1,\n",
    "                                 alpha = 0,\n",
    "                                        nfolds=5)\n",
    "## Fit model\n",
    "glm_mod2.train(x = inputs,\n",
    "               y = outcome,\n",
    "               training_frame = train,\n",
    "               validation_frame = validate)\n",
    "\n",
    "\n",
    "result_scores['Ridge Regression'] = (glm_mod2.cross_validation_metrics_summary()[1][6],           \n",
    "             glm_mod2._model_json['output']['validation_metrics']['RMSE'],\n",
    "            glm_mod2.model_performance(test_data=test)['RMSE'])\n",
    "result_scores"
   ]
  },
  {
   "cell_type": "markdown",
   "metadata": {
    "colab_type": "text",
    "id": "L4nujzZDo__G"
   },
   "source": [
    "### Lasso （L1)"
   ]
  },
  {
   "cell_type": "code",
   "execution_count": 26,
   "metadata": {
    "colab": {},
    "colab_type": "code",
    "id": "OgNkDXY3o__G",
    "outputId": "367b94a7-9e10-4101-f3c9-56c0d9350097"
   },
   "outputs": [
    {
     "name": "stdout",
     "output_type": "stream",
     "text": [
      "glm Model Build progress: |███████████████████████████████████████████████| 100%\n"
     ]
    }
   ],
   "source": [
    "from h2o.estimators.glm import H2OGeneralizedLinearEstimator\n",
    "glm_mod3 = H2OGeneralizedLinearEstimator(model_id = 'glm_3',\n",
    "                                  family = 'gaussian',\n",
    "                                  lambda_=1,\n",
    "                                 alpha = 1,\n",
    "                                        nfolds=5)\n",
    "## Fit model\n",
    "glm_mod3.train(x = inputs,\n",
    "               y = outcome,\n",
    "               training_frame = train,\n",
    "               validation_frame = validate)\n",
    "\n",
    "\n",
    "result_scores['Lasso Regression'] = (glm_mod3.cross_validation_metrics_summary()[1][6],              \n",
    "             glm_mod3._model_json['output']['validation_metrics']['RMSE'],\n",
    "            glm_mod3.model_performance(test_data=test)['RMSE'])"
   ]
  },
  {
   "cell_type": "markdown",
   "metadata": {
    "colab_type": "text",
    "id": "ALui2nqho__K"
   },
   "source": [
    "### Elastic Net"
   ]
  },
  {
   "cell_type": "code",
   "execution_count": 27,
   "metadata": {
    "colab": {},
    "colab_type": "code",
    "id": "KhbWut38o__K",
    "outputId": "19857cb6-0442-446e-ce54-de4369a6e1fb"
   },
   "outputs": [
    {
     "name": "stdout",
     "output_type": "stream",
     "text": [
      "glm Model Build progress: |███████████████████████████████████████████████| 100%\n"
     ]
    }
   ],
   "source": [
    "from h2o.estimators.glm import H2OGeneralizedLinearEstimator\n",
    "glm_mod4 = H2OGeneralizedLinearEstimator(model_id = 'glm_4',\n",
    "                                  family = 'gaussian',\n",
    "                                  lambda_=1,\n",
    "                                 alpha = 0.5,\n",
    "                                        nfolds=5)\n",
    "## Fit model\n",
    "glm_mod4.train(x = inputs,\n",
    "               y = outcome,\n",
    "               training_frame = train,\n",
    "               validation_frame = validate)\n",
    "\n",
    "\n",
    "result_scores['Elastic Net'] = \\\n",
    "            (glm_mod4.cross_validation_metrics_summary()[1][6],            \n",
    "             glm_mod4._model_json['output']['validation_metrics']['RMSE'],\n",
    "            glm_mod4.model_performance(test_data=test)['RMSE'])\n",
    "\n"
   ]
  },
  {
   "cell_type": "markdown",
   "metadata": {
    "colab_type": "text",
    "id": "dpm8Fq9Jo__N"
   },
   "source": [
    "### Elasstic Net Lambda Search"
   ]
  },
  {
   "cell_type": "code",
   "execution_count": 28,
   "metadata": {
    "colab": {},
    "colab_type": "code",
    "id": "H3eYCsR1o__O",
    "outputId": "3ea666ea-6e7e-40d1-aeb2-1696e317d52d"
   },
   "outputs": [
    {
     "name": "stdout",
     "output_type": "stream",
     "text": [
      "glm Grid Build progress: |████████████████████████████████████████████████| 100%\n"
     ]
    }
   ],
   "source": [
    "from h2o.grid.grid_search import H2OGridSearch\n",
    "## Setup target and inputs\n",
    "\n",
    "## set up grid\n",
    "glm_parms = {'alpha': [0,0.25,0.5,0.75,1],\n",
    "            'lambda':[0.5,1,2,3,4,5,6,10,7,9]}\n",
    "## add potential interaction terms\n",
    "\n",
    "glm_mod5 = H2OGridSearch(model = H2OGeneralizedLinearEstimator(family = 'gaussian',\n",
    "                                                        lambda_search = True,\n",
    "                                                               nfolds=5\n",
    "                                                              ), hyper_params = glm_parms)\n",
    "## Fit model\n",
    "glm_mod5.train(x = inputs,\n",
    "               y = outcome,\n",
    "               training_frame = train,\n",
    "               validation_frame = validate\n",
    "          )"
   ]
  },
  {
   "cell_type": "code",
   "execution_count": 29,
   "metadata": {
    "colab": {},
    "colab_type": "code",
    "id": "1vRKZNEGo__R",
    "outputId": "115684e5-18c1-4ddc-e759-46203ef61226"
   },
   "outputs": [],
   "source": [
    "glm_best = glm_mod5.get_grid(sort_by='RMSE')[0]\n",
    "result_scores['Regularized lambda search'] = \\\n",
    "            (glm_best.cross_validation_metrics_summary()[1][6],            \n",
    "             glm_best._model_json['output']['validation_metrics']['RMSE'],\n",
    "            glm_best.model_performance(test_data=test)['RMSE'])"
   ]
  },
  {
   "cell_type": "markdown",
   "metadata": {
    "colab_type": "text",
    "id": "RDvTVXXwo__W"
   },
   "source": [
    "### Random Forest"
   ]
  },
  {
   "cell_type": "code",
   "execution_count": 30,
   "metadata": {
    "colab": {},
    "colab_type": "code",
    "id": "Y67FGPVBo__X",
    "outputId": "624258c4-bc14-4cfe-c05a-a76806c1e033"
   },
   "outputs": [
    {
     "name": "stdout",
     "output_type": "stream",
     "text": [
      "drf Model Build progress: |███████████████████████████████████████████████| 100%\n"
     ]
    }
   ],
   "source": [
    "import h2o\n",
    "from h2o.estimators import H2ORandomForestEstimator\n",
    "rf = H2ORandomForestEstimator(ntrees=50, max_depth=20,nfolds=5)\n",
    "# Train model\n",
    "rf.train(x=inputs, y=outcome, training_frame = train,validation_frame = validate)\n"
   ]
  },
  {
   "cell_type": "code",
   "execution_count": 31,
   "metadata": {
    "colab": {},
    "colab_type": "code",
    "id": "AWLw2ewCo__Z",
    "outputId": "c4ed8840-ba40-4fa9-960d-94e6c022de03"
   },
   "outputs": [],
   "source": [
    "result_scores['Random forest'] = (rf.cross_validation_metrics_summary()[1][5],\n",
    "             rf._model_json['output']['validation_metrics']['RMSE'],\n",
    "             rf.model_performance(test_data=test)['RMSE'])\n"
   ]
  },
  {
   "cell_type": "markdown",
   "metadata": {
    "colab_type": "text",
    "id": "_xIOzwJ7o__c"
   },
   "source": [
    "### Random Forest Hyper Parameter Tuning"
   ]
  },
  {
   "cell_type": "code",
   "execution_count": 32,
   "metadata": {
    "colab": {},
    "colab_type": "code",
    "id": "nmeLijY4o__c",
    "outputId": "9a15c24b-5e3a-4b48-b0c3-8057cbdd1500"
   },
   "outputs": [
    {
     "name": "stdout",
     "output_type": "stream",
     "text": [
      "drf Grid Build progress: |████████████████████████████████████████████████| 100%\n"
     ]
    }
   ],
   "source": [
    "estimator = H2ORandomForestEstimator(\n",
    "    stopping_tolerance = 0.00001,\n",
    "    stopping_metric = 'auto',\n",
    "    balance_classes = True,\n",
    "    seed = 7,\n",
    "nfolds=5)\n",
    "\n",
    "hyper_parameters = {'ntrees':[5, 10, 20, 30, 40, 50, 60, 70, 80, 90, 100], \n",
    "                    'max_depth':[2,3,4,5,6]}\n",
    "\n",
    "criteria = {\"strategy\": \"RandomDiscrete\", \n",
    "            \"stopping_tolerance\": 0.00001,\n",
    "            \"stopping_metric\": \"misclassification\"}\n",
    "\n",
    "rf_search = H2OGridSearch(model = estimator, \n",
    "                            hyper_params = hyper_parameters,\n",
    "                            search_criteria = criteria)\n",
    "\n",
    "rf_search.train(x = inputs,\n",
    "               y = outcome,\n",
    "               training_frame = train,\n",
    "               validation_frame = validate)"
   ]
  },
  {
   "cell_type": "code",
   "execution_count": 34,
   "metadata": {
    "colab": {},
    "colab_type": "code",
    "id": "Dsv9rcjao__f",
    "outputId": "2a3b14c1-24ba-409e-8410-7a0490dae05b"
   },
   "outputs": [],
   "source": [
    "rf_grid = rf_search.get_grid(sort_by='RMSE')\n",
    "\n",
    "# Grab the top GBM model, chosen by validation RMSE \n",
    "best_rf= rf_grid.models[0]\n",
    "\n",
    "result_scores['Random Forest GridSearch'] = (best_rf.cross_validation_metrics_summary()[1][5],\n",
    "             best_rf._model_json['output']['validation_metrics']['RMSE'],\n",
    "             best_rf.model_performance(test_data=test)['RMSE'])"
   ]
  },
  {
   "cell_type": "code",
   "execution_count": 35,
   "metadata": {},
   "outputs": [
    {
     "data": {
      "text/html": [
       "<div>\n",
       "<style scoped>\n",
       "    .dataframe tbody tr th:only-of-type {\n",
       "        vertical-align: middle;\n",
       "    }\n",
       "\n",
       "    .dataframe tbody tr th {\n",
       "        vertical-align: top;\n",
       "    }\n",
       "\n",
       "    .dataframe thead th {\n",
       "        text-align: right;\n",
       "    }\n",
       "</style>\n",
       "<table border=\"1\" class=\"dataframe\">\n",
       "  <thead>\n",
       "    <tr style=\"text-align: right;\">\n",
       "      <th></th>\n",
       "      <th></th>\n",
       "      <th>mean</th>\n",
       "      <th>sd</th>\n",
       "      <th>cv_1_valid</th>\n",
       "      <th>cv_2_valid</th>\n",
       "      <th>cv_3_valid</th>\n",
       "      <th>cv_4_valid</th>\n",
       "      <th>cv_5_valid</th>\n",
       "    </tr>\n",
       "  </thead>\n",
       "  <tbody>\n",
       "    <tr>\n",
       "      <th>0</th>\n",
       "      <td>mae</td>\n",
       "      <td>3581.9697</td>\n",
       "      <td>124.00147</td>\n",
       "      <td>3718.265</td>\n",
       "      <td>3660.6902</td>\n",
       "      <td>3276.2158</td>\n",
       "      <td>3752.615</td>\n",
       "      <td>3502.063</td>\n",
       "    </tr>\n",
       "    <tr>\n",
       "      <th>1</th>\n",
       "      <td>mean_residual_deviance</td>\n",
       "      <td>2.7572864E7</td>\n",
       "      <td>1897070.5</td>\n",
       "      <td>2.787498E7</td>\n",
       "      <td>3.2282272E7</td>\n",
       "      <td>2.4124984E7</td>\n",
       "      <td>2.7342688E7</td>\n",
       "      <td>2.6239402E7</td>\n",
       "    </tr>\n",
       "    <tr>\n",
       "      <th>2</th>\n",
       "      <td>mse</td>\n",
       "      <td>2.7572864E7</td>\n",
       "      <td>1897070.5</td>\n",
       "      <td>2.787498E7</td>\n",
       "      <td>3.2282272E7</td>\n",
       "      <td>2.4124984E7</td>\n",
       "      <td>2.7342688E7</td>\n",
       "      <td>2.6239402E7</td>\n",
       "    </tr>\n",
       "    <tr>\n",
       "      <th>3</th>\n",
       "      <td>r2</td>\n",
       "      <td>0.8171102</td>\n",
       "      <td>0.011009061</td>\n",
       "      <td>0.823663</td>\n",
       "      <td>0.79501474</td>\n",
       "      <td>0.80880547</td>\n",
       "      <td>0.8418309</td>\n",
       "      <td>0.81623673</td>\n",
       "    </tr>\n",
       "    <tr>\n",
       "      <th>4</th>\n",
       "      <td>residual_deviance</td>\n",
       "      <td>2.7572864E7</td>\n",
       "      <td>1897070.5</td>\n",
       "      <td>2.787498E7</td>\n",
       "      <td>3.2282272E7</td>\n",
       "      <td>2.4124984E7</td>\n",
       "      <td>2.7342688E7</td>\n",
       "      <td>2.6239402E7</td>\n",
       "    </tr>\n",
       "    <tr>\n",
       "      <th>5</th>\n",
       "      <td>rmse</td>\n",
       "      <td>5244.922</td>\n",
       "      <td>178.41081</td>\n",
       "      <td>5279.6763</td>\n",
       "      <td>5681.749</td>\n",
       "      <td>4911.719</td>\n",
       "      <td>5229.0234</td>\n",
       "      <td>5122.441</td>\n",
       "    </tr>\n",
       "    <tr>\n",
       "      <th>6</th>\n",
       "      <td>rmsle</td>\n",
       "      <td>0.56412333</td>\n",
       "      <td>0.018292978</td>\n",
       "      <td>0.5369125</td>\n",
       "      <td>0.61119884</td>\n",
       "      <td>0.5483644</td>\n",
       "      <td>0.5539149</td>\n",
       "      <td>0.5702259</td>\n",
       "    </tr>\n",
       "  </tbody>\n",
       "</table>\n",
       "</div>"
      ],
      "text/plain": [
       "                                  mean           sd  cv_1_valid   cv_2_valid  \\\n",
       "0                     mae    3581.9697    124.00147    3718.265    3660.6902   \n",
       "1  mean_residual_deviance  2.7572864E7    1897070.5  2.787498E7  3.2282272E7   \n",
       "2                     mse  2.7572864E7    1897070.5  2.787498E7  3.2282272E7   \n",
       "3                      r2    0.8171102  0.011009061    0.823663   0.79501474   \n",
       "4       residual_deviance  2.7572864E7    1897070.5  2.787498E7  3.2282272E7   \n",
       "5                    rmse     5244.922    178.41081   5279.6763     5681.749   \n",
       "6                   rmsle   0.56412333  0.018292978   0.5369125   0.61119884   \n",
       "\n",
       "    cv_3_valid   cv_4_valid   cv_5_valid  \n",
       "0    3276.2158     3752.615     3502.063  \n",
       "1  2.4124984E7  2.7342688E7  2.6239402E7  \n",
       "2  2.4124984E7  2.7342688E7  2.6239402E7  \n",
       "3   0.80880547    0.8418309   0.81623673  \n",
       "4  2.4124984E7  2.7342688E7  2.6239402E7  \n",
       "5     4911.719    5229.0234     5122.441  \n",
       "6    0.5483644    0.5539149    0.5702259  "
      ]
     },
     "execution_count": 35,
     "metadata": {},
     "output_type": "execute_result"
    }
   ],
   "source": [
    "best_rf.cross_validation_metrics_summary().as_data_frame()"
   ]
  },
  {
   "cell_type": "markdown",
   "metadata": {
    "colab_type": "text",
    "id": "m86ge1pDo__m"
   },
   "source": [
    "### Gradient Boosting Trees"
   ]
  },
  {
   "cell_type": "code",
   "execution_count": 36,
   "metadata": {
    "colab": {},
    "colab_type": "code",
    "id": "imYBkrToo__p",
    "outputId": "c901fc20-b5e5-40b1-881e-779854624b84"
   },
   "outputs": [
    {
     "name": "stdout",
     "output_type": "stream",
     "text": [
      "gbm Model Build progress: |███████████████████████████████████████████████| 100%\n"
     ]
    }
   ],
   "source": [
    "from h2o.estimators.gbm import H2OGradientBoostingEstimator\n",
    "gbm_regressor = H2OGradientBoostingEstimator(distribution=\"gaussian\",\n",
    "                                 ntrees=10, max_depth=3,\n",
    "                                 min_rows=2, learn_rate=0.2,nfolds=5)\n",
    "gbm_regressor.train(x = inputs,\n",
    "                    y = outcome,\n",
    "                    training_frame = train,\n",
    "                    validation_frame = validate)"
   ]
  },
  {
   "cell_type": "code",
   "execution_count": 37,
   "metadata": {
    "colab": {},
    "colab_type": "code",
    "id": "JzgS5cwro__t",
    "outputId": "303b6c9c-7a8a-4cc4-eb00-dc9e61cec48d"
   },
   "outputs": [],
   "source": [
    "result_scores['GBM'] = (gbm_regressor.cross_validation_metrics_summary()[1][5], \n",
    "                        gbm_regressor._model_json['output']['validation_metrics']['RMSE'],\n",
    "             gbm_regressor.model_performance(test_data=test)['RMSE'])"
   ]
  },
  {
   "cell_type": "markdown",
   "metadata": {
    "colab_type": "text",
    "id": "GZWojxm1o__v"
   },
   "source": [
    "### Gradient Boosting Trees Hyperparameter Tuning"
   ]
  },
  {
   "cell_type": "code",
   "execution_count": 38,
   "metadata": {
    "colab": {},
    "colab_type": "code",
    "id": "C4wzedwgo__w",
    "outputId": "20f816d1-eb2b-43fb-ad84-1b234a403bcb"
   },
   "outputs": [
    {
     "name": "stdout",
     "output_type": "stream",
     "text": [
      "gbm Grid Build progress: |████████████████████████████████████████████████| 100%\n"
     ]
    }
   ],
   "source": [
    "gbm_hyperparms = {'ntrees':[3,4,5,6,8,10,12,14],\n",
    "                 'max_depth':[2,3,4],\n",
    "                 'learn_rate':[0.05,0.1,0.15,0.2,0.3,0.4]}\n",
    "\n",
    "## describe model\n",
    "gbmm_grid = H2OGridSearch(model =  H2OGradientBoostingEstimator(distribution=\"gaussian\",\n",
    "                                                        min_rows=2,nfolds=5),\n",
    "                  hyper_params = gbm_hyperparms)\n",
    "## fit model with validation frame\n",
    "gbmm_grid.train(x = inputs,\n",
    "               y = outcome,\n",
    "               training_frame = train,\n",
    "               validation_frame = validate)"
   ]
  },
  {
   "cell_type": "code",
   "execution_count": null,
   "metadata": {},
   "outputs": [],
   "source": []
  },
  {
   "cell_type": "code",
   "execution_count": 39,
   "metadata": {
    "colab": {},
    "colab_type": "code",
    "id": "c9jD7FfBo__y"
   },
   "outputs": [],
   "source": [
    "gbm_gridperf1 = gbmm_grid.get_grid(sort_by='RMSE')\n",
    "\n",
    "# Grab the top GBM model, chosen by validation RMSE \n",
    "best_gbm1 = gbm_gridperf1.models[0]"
   ]
  },
  {
   "cell_type": "code",
   "execution_count": 40,
   "metadata": {
    "colab": {},
    "colab_type": "code",
    "id": "pWAjoxfAo__0",
    "outputId": "ec005226-5ec7-449c-d56e-f65cc31dfcf8"
   },
   "outputs": [],
   "source": [
    "result_scores['GBM lambda search'] = (best_gbm1.cross_validation_metrics_summary()[1][5],                                    \n",
    "             best_gbm1._model_json['output']['validation_metrics']['RMSE'],\n",
    "            best_gbm1.model_performance(test)['RMSE'])"
   ]
  },
  {
   "cell_type": "markdown",
   "metadata": {
    "colab_type": "text",
    "id": "6rpBfG0jo__4"
   },
   "source": [
    "### Auto-ML"
   ]
  },
  {
   "cell_type": "code",
   "execution_count": 41,
   "metadata": {
    "colab": {},
    "colab_type": "code",
    "id": "t5eOUjDMo__4",
    "outputId": "a7d60dfe-63a5-43c3-b8d2-ef8c06f89425"
   },
   "outputs": [
    {
     "name": "stdout",
     "output_type": "stream",
     "text": [
      "AutoML progress: |████████████████████████████████████████████████████████| 100%\n"
     ]
    },
    {
     "data": {
      "text/html": [
       "<table>\n",
       "<thead>\n",
       "<tr><th>model_id                                     </th><th style=\"text-align: right;\">  mean_residual_deviance</th><th style=\"text-align: right;\">   rmse</th><th style=\"text-align: right;\">        mse</th><th style=\"text-align: right;\">    mae</th><th style=\"text-align: right;\">   rmsle</th></tr>\n",
       "</thead>\n",
       "<tbody>\n",
       "<tr><td>XGBoost_3_AutoML_20190510_100453             </td><td style=\"text-align: right;\">             1.8276e+07 </td><td style=\"text-align: right;\">4275.04</td><td style=\"text-align: right;\">1.8276e+07 </td><td style=\"text-align: right;\">2268.83</td><td style=\"text-align: right;\">0.427989</td></tr>\n",
       "<tr><td>XGBoost_grid_1_AutoML_20190510_100453_model_1</td><td style=\"text-align: right;\">             1.84014e+07</td><td style=\"text-align: right;\">4289.68</td><td style=\"text-align: right;\">1.84014e+07</td><td style=\"text-align: right;\">2393.04</td><td style=\"text-align: right;\">0.423626</td></tr>\n",
       "<tr><td>XGBoost_grid_1_AutoML_20190510_100453_model_8</td><td style=\"text-align: right;\">             1.85636e+07</td><td style=\"text-align: right;\">4308.55</td><td style=\"text-align: right;\">1.85636e+07</td><td style=\"text-align: right;\">2292.4 </td><td style=\"text-align: right;\">0.447058</td></tr>\n",
       "<tr><td>XGBoost_1_AutoML_20190510_100453             </td><td style=\"text-align: right;\">             1.8641e+07 </td><td style=\"text-align: right;\">4317.52</td><td style=\"text-align: right;\">1.8641e+07 </td><td style=\"text-align: right;\">2271.69</td><td style=\"text-align: right;\">0.434427</td></tr>\n",
       "<tr><td>XGBoost_grid_1_AutoML_20190510_100453_model_7</td><td style=\"text-align: right;\">             1.88253e+07</td><td style=\"text-align: right;\">4338.81</td><td style=\"text-align: right;\">1.88253e+07</td><td style=\"text-align: right;\">2274.06</td><td style=\"text-align: right;\">0.434697</td></tr>\n",
       "<tr><td>XGBoost_grid_1_AutoML_20190510_100453_model_5</td><td style=\"text-align: right;\">             1.88678e+07</td><td style=\"text-align: right;\">4343.71</td><td style=\"text-align: right;\">1.88678e+07</td><td style=\"text-align: right;\">2317.27</td><td style=\"text-align: right;\">0.429415</td></tr>\n",
       "<tr><td>XGBoost_grid_1_AutoML_20190510_100453_model_4</td><td style=\"text-align: right;\">             1.90175e+07</td><td style=\"text-align: right;\">4360.91</td><td style=\"text-align: right;\">1.90175e+07</td><td style=\"text-align: right;\">2443.61</td><td style=\"text-align: right;\">0.417409</td></tr>\n",
       "<tr><td>XGBoost_grid_1_AutoML_20190510_100453_model_6</td><td style=\"text-align: right;\">             1.90726e+07</td><td style=\"text-align: right;\">4367.22</td><td style=\"text-align: right;\">1.90726e+07</td><td style=\"text-align: right;\">2310.3 </td><td style=\"text-align: right;\">0.444604</td></tr>\n",
       "<tr><td>XGBoost_2_AutoML_20190510_100453             </td><td style=\"text-align: right;\">             1.92409e+07</td><td style=\"text-align: right;\">4386.45</td><td style=\"text-align: right;\">1.92409e+07</td><td style=\"text-align: right;\">2387.15</td><td style=\"text-align: right;\">0.454875</td></tr>\n",
       "<tr><td>GBM_2_AutoML_20190510_100453                 </td><td style=\"text-align: right;\">             1.96141e+07</td><td style=\"text-align: right;\">4428.79</td><td style=\"text-align: right;\">1.96141e+07</td><td style=\"text-align: right;\">2503.93</td><td style=\"text-align: right;\">0.470031</td></tr>\n",
       "</tbody>\n",
       "</table>"
      ]
     },
     "metadata": {},
     "output_type": "display_data"
    },
    {
     "data": {
      "text/plain": []
     },
     "execution_count": 41,
     "metadata": {},
     "output_type": "execute_result"
    }
   ],
   "source": [
    "from h2o.automl.autoh2o import H2OAutoML\n",
    "## run for 30 seconds\n",
    "automl_1 = H2OAutoML(max_runtime_secs = 100)\n",
    "## train the model\n",
    "automl_1.train(x = inputs,\n",
    "               y = outcome,\n",
    "               training_frame = train,\n",
    "               validation_frame = validate)\n",
    "## print best models\n",
    "automl_1.leaderboard"
   ]
  },
  {
   "cell_type": "code",
   "execution_count": 42,
   "metadata": {
    "colab": {},
    "colab_type": "code",
    "id": "s5JeDLMBo__8",
    "outputId": "0d0cab17-45ea-4277-8560-0325c5f9fdd4"
   },
   "outputs": [
    {
     "data": {
      "text/html": [
       "<div>\n",
       "<style scoped>\n",
       "    .dataframe tbody tr th:only-of-type {\n",
       "        vertical-align: middle;\n",
       "    }\n",
       "\n",
       "    .dataframe tbody tr th {\n",
       "        vertical-align: top;\n",
       "    }\n",
       "\n",
       "    .dataframe thead th {\n",
       "        text-align: right;\n",
       "    }\n",
       "</style>\n",
       "<table border=\"1\" class=\"dataframe\">\n",
       "  <thead>\n",
       "    <tr style=\"text-align: right;\">\n",
       "      <th></th>\n",
       "      <th></th>\n",
       "      <th>mean</th>\n",
       "      <th>sd</th>\n",
       "      <th>cv_1_valid</th>\n",
       "      <th>cv_2_valid</th>\n",
       "      <th>cv_3_valid</th>\n",
       "      <th>cv_4_valid</th>\n",
       "      <th>cv_5_valid</th>\n",
       "    </tr>\n",
       "  </thead>\n",
       "  <tbody>\n",
       "    <tr>\n",
       "      <th>0</th>\n",
       "      <td>mae</td>\n",
       "      <td>2268.895</td>\n",
       "      <td>45.009773</td>\n",
       "      <td>2172.9329</td>\n",
       "      <td>2356.7878</td>\n",
       "      <td>2226.2144</td>\n",
       "      <td>2283.8896</td>\n",
       "      <td>2304.65</td>\n",
       "    </tr>\n",
       "    <tr>\n",
       "      <th>1</th>\n",
       "      <td>mean_residual_deviance</td>\n",
       "      <td>1.8272008E7</td>\n",
       "      <td>1671295.8</td>\n",
       "      <td>1.7233694E7</td>\n",
       "      <td>2.258229E7</td>\n",
       "      <td>1.8251254E7</td>\n",
       "      <td>1.7869106E7</td>\n",
       "      <td>1.5423691E7</td>\n",
       "    </tr>\n",
       "    <tr>\n",
       "      <th>2</th>\n",
       "      <td>mse</td>\n",
       "      <td>1.8272008E7</td>\n",
       "      <td>1671295.8</td>\n",
       "      <td>1.7233694E7</td>\n",
       "      <td>2.258229E7</td>\n",
       "      <td>1.8251254E7</td>\n",
       "      <td>1.7869106E7</td>\n",
       "      <td>1.5423691E7</td>\n",
       "    </tr>\n",
       "    <tr>\n",
       "      <th>3</th>\n",
       "      <td>r2</td>\n",
       "      <td>0.8787006</td>\n",
       "      <td>0.013280999</td>\n",
       "      <td>0.87516683</td>\n",
       "      <td>0.8465709</td>\n",
       "      <td>0.8766793</td>\n",
       "      <td>0.89910597</td>\n",
       "      <td>0.89598006</td>\n",
       "    </tr>\n",
       "    <tr>\n",
       "      <th>4</th>\n",
       "      <td>residual_deviance</td>\n",
       "      <td>1.8272008E7</td>\n",
       "      <td>1671295.8</td>\n",
       "      <td>1.7233694E7</td>\n",
       "      <td>2.258229E7</td>\n",
       "      <td>1.8251254E7</td>\n",
       "      <td>1.7869106E7</td>\n",
       "      <td>1.5423691E7</td>\n",
       "    </tr>\n",
       "    <tr>\n",
       "      <th>5</th>\n",
       "      <td>rmse</td>\n",
       "      <td>4266.013</td>\n",
       "      <td>191.22836</td>\n",
       "      <td>4151.3486</td>\n",
       "      <td>4752.0825</td>\n",
       "      <td>4272.149</td>\n",
       "      <td>4227.1865</td>\n",
       "      <td>3927.3008</td>\n",
       "    </tr>\n",
       "    <tr>\n",
       "      <th>6</th>\n",
       "      <td>rmsle</td>\n",
       "      <td>0.42576295</td>\n",
       "      <td>0.030633876</td>\n",
       "      <td>0.44733024</td>\n",
       "      <td>0.4849817</td>\n",
       "      <td>0.36487424</td>\n",
       "      <td>0.3883648</td>\n",
       "      <td>0.44326374</td>\n",
       "    </tr>\n",
       "  </tbody>\n",
       "</table>\n",
       "</div>"
      ],
      "text/plain": [
       "                                  mean           sd   cv_1_valid  cv_2_valid  \\\n",
       "0                     mae     2268.895    45.009773    2172.9329   2356.7878   \n",
       "1  mean_residual_deviance  1.8272008E7    1671295.8  1.7233694E7  2.258229E7   \n",
       "2                     mse  1.8272008E7    1671295.8  1.7233694E7  2.258229E7   \n",
       "3                      r2    0.8787006  0.013280999   0.87516683   0.8465709   \n",
       "4       residual_deviance  1.8272008E7    1671295.8  1.7233694E7  2.258229E7   \n",
       "5                    rmse     4266.013    191.22836    4151.3486   4752.0825   \n",
       "6                   rmsle   0.42576295  0.030633876   0.44733024   0.4849817   \n",
       "\n",
       "    cv_3_valid   cv_4_valid   cv_5_valid  \n",
       "0    2226.2144    2283.8896      2304.65  \n",
       "1  1.8251254E7  1.7869106E7  1.5423691E7  \n",
       "2  1.8251254E7  1.7869106E7  1.5423691E7  \n",
       "3    0.8766793   0.89910597   0.89598006  \n",
       "4  1.8251254E7  1.7869106E7  1.5423691E7  \n",
       "5     4272.149    4227.1865    3927.3008  \n",
       "6   0.36487424    0.3883648   0.44326374  "
      ]
     },
     "execution_count": 42,
     "metadata": {},
     "output_type": "execute_result"
    }
   ],
   "source": [
    "automl_1.leader.cross_validation_metrics_summary().as_data_frame()"
   ]
  },
  {
   "cell_type": "code",
   "execution_count": 43,
   "metadata": {},
   "outputs": [
    {
     "name": "stdout",
     "output_type": "stream",
     "text": [
      "\n",
      "ModelMetricsRegression: xgboost\n",
      "** Reported on test data. **\n",
      "\n",
      "MSE: 30616595.051155988\n",
      "RMSE: 5533.2264594137105\n",
      "MAE: 2815.916485767288\n",
      "RMSLE: 0.484977745469379\n",
      "Mean Residual Deviance: 30616595.051155988\n"
     ]
    },
    {
     "data": {
      "text/plain": []
     },
     "execution_count": 43,
     "metadata": {},
     "output_type": "execute_result"
    }
   ],
   "source": [
    "automl_1.leader.model_performance(test)"
   ]
  },
  {
   "cell_type": "code",
   "execution_count": 59,
   "metadata": {},
   "outputs": [],
   "source": [
    "result_scores['Auto ML'] = (automl_1.leader.cross_validation_metrics_summary()[1][5],  \"\",\"\"                                           \n",
    "            )"
   ]
  },
  {
   "cell_type": "markdown",
   "metadata": {
    "colab_type": "text",
    "id": "Ufun9UZSpAAH"
   },
   "source": [
    "## PART II Sklearn Cross Validation"
   ]
  },
  {
   "cell_type": "markdown",
   "metadata": {},
   "source": [
    "### Random Forest"
   ]
  },
  {
   "cell_type": "code",
   "execution_count": 45,
   "metadata": {
    "colab": {
     "base_uri": "https://localhost:8080/",
     "height": 34
    },
    "colab_type": "code",
    "id": "2mjbNSnmpAAI",
    "outputId": "a696f6e3-44ca-41b9-c7f8-3558d3453f29"
   },
   "outputs": [
    {
     "data": {
      "text/plain": [
       "'charges ~ age + sex + bmi + children'"
      ]
     },
     "execution_count": 45,
     "metadata": {},
     "output_type": "execute_result"
    }
   ],
   "source": [
    "outcome = 'charges'\n",
    "inputs = ['age', 'sex', 'bmi', 'children']\n",
    "fl = \"charges ~ \" + \" + \".join(inputs)\n",
    "fl\n",
    "from patsy import dmatrices\n",
    "Y,X = dmatrices(fl,data)\n",
    "\n",
    "from sklearn.model_selection import train_test_split\n",
    "x_train, x_test, y_train, y_test = train_test_split(X,\n",
    "                     np.ravel(Y), # prevents dimensionality error later!\n",
    "                     test_size=0.25,\n",
    "                     random_state=42)"
   ]
  },
  {
   "cell_type": "code",
   "execution_count": 46,
   "metadata": {
    "colab": {
     "base_uri": "https://localhost:8080/",
     "height": 204
    },
    "colab_type": "code",
    "id": "UrY1MmOtpAAL",
    "outputId": "72c045cc-7c0f-4d65-b5f2-6e94de84def0"
   },
   "outputs": [
    {
     "data": {
      "text/plain": [
       "GridSearchCV(cv=5, error_score='raise-deprecating',\n",
       "       estimator=RandomForestRegressor(bootstrap=True, criterion='mse', max_depth=None,\n",
       "           max_features='auto', max_leaf_nodes=None,\n",
       "           min_impurity_decrease=0.0, min_impurity_split=None,\n",
       "           min_samples_leaf=1, min_samples_split=2,\n",
       "           min_weight_fraction_leaf=0.0, n_estimators='warn', n_jobs=None,\n",
       "           oob_score=False, random_state=32, verbose=0, warm_start=False),\n",
       "       fit_params=None, iid='warn', n_jobs=None,\n",
       "       param_grid={'n_estimators': (40, 50, 60, 70, 80, 90, 100, 110, 120), 'max_depth': (2, 3, 4)},\n",
       "       pre_dispatch='2*n_jobs', refit=True, return_train_score=True,\n",
       "       scoring=None, verbose=0)"
      ]
     },
     "execution_count": 46,
     "metadata": {},
     "output_type": "execute_result"
    }
   ],
   "source": [
    "from sklearn import ensemble\n",
    "\n",
    "from sklearn.model_selection import GridSearchCV\n",
    "## specify grid\n",
    "parameters = {'n_estimators':(40, 50, 60, 70, 80, 90, 100,110,120),\n",
    "              'max_depth':(2,3,4)}\n",
    "\n",
    "\n",
    "rf_model = ensemble.RandomForestRegressor(random_state=32)\n",
    "\n",
    "rf_fit = GridSearchCV(rf_model,\n",
    "                   parameters,\n",
    "                   cv=5,\n",
    "                   return_train_score=True)\n",
    "rf_fit.fit(x_train,y_train)"
   ]
  },
  {
   "cell_type": "code",
   "execution_count": 47,
   "metadata": {
    "colab": {
     "base_uri": "https://localhost:8080/",
     "height": 34
    },
    "colab_type": "code",
    "id": "EV4mFOrlpAAO",
    "outputId": "ea8bda33-9a82-47c4-a203-4d39100ff3ed"
   },
   "outputs": [
    {
     "data": {
      "text/plain": [
       "{'max_depth': 2, 'n_estimators': 40}"
      ]
     },
     "execution_count": 47,
     "metadata": {},
     "output_type": "execute_result"
    }
   ],
   "source": [
    "rf_fit.best_params_"
   ]
  },
  {
   "cell_type": "code",
   "execution_count": 48,
   "metadata": {
    "colab": {},
    "colab_type": "code",
    "id": "Ndvizy-OpAAR"
   },
   "outputs": [],
   "source": [
    "def get_cv_results(x1):\n",
    "    print(\"\\n{0:20}   {1:4}    {2:4}\".format('Model','Train','Test'))\n",
    "    print('-------------------------------------------')\n",
    "    for i in x1.keys():\n",
    "        print(\"{0:20}   {1:<6.4}   {2:<6.4}\".format(i,x1[i][0],x1[i][1]))"
   ]
  },
  {
   "cell_type": "code",
   "execution_count": 49,
   "metadata": {
    "colab": {
     "base_uri": "https://localhost:8080/",
     "height": 85
    },
    "colab_type": "code",
    "id": "mE-Up0AwpAAT",
    "outputId": "be4b7b77-e144-4442-990c-a02b210ae02e"
   },
   "outputs": [
    {
     "name": "stdout",
     "output_type": "stream",
     "text": [
      "\n",
      "Model                  Train    Test\n",
      "-------------------------------------------\n",
      "RandomForest_CV        1.125e+04   1.155e+04\n"
     ]
    }
   ],
   "source": [
    "import math\n",
    "cv_result_scores={}\n",
    "cv_result_scores['RandomForest_CV'] = \\\n",
    "            (math.sqrt(sklearn.metrics.mean_squared_error(y_train,rf_fit.predict(x_train))),\n",
    "             math.sqrt(sklearn.metrics.mean_squared_error(y_test,rf_fit.predict(x_test))))\n",
    "get_cv_results(cv_result_scores)"
   ]
  },
  {
   "cell_type": "markdown",
   "metadata": {
    "colab_type": "text",
    "id": "Ih4A6Lr_pAAV"
   },
   "source": [
    "### Gradient Boosting Machine"
   ]
  },
  {
   "cell_type": "code",
   "execution_count": 50,
   "metadata": {
    "colab": {
     "base_uri": "https://localhost:8080/",
     "height": 204
    },
    "colab_type": "code",
    "id": "G0Qu6fmkpAAW",
    "outputId": "83519607-ec3f-4d8f-be69-7c3a7353aa37"
   },
   "outputs": [
    {
     "data": {
      "text/plain": [
       "GridSearchCV(cv=5, error_score='raise-deprecating',\n",
       "       estimator=GradientBoostingRegressor(alpha=0.9, criterion='friedman_mse', init=None,\n",
       "             learning_rate=0.1, loss='ls', max_depth=3, max_features=None,\n",
       "             max_leaf_nodes=None, min_impurity_decrease=0.0,\n",
       "             min_impurity_split=None, min_samples_leaf=1,\n",
       "             min_sampl...=None, subsample=1.0, tol=0.0001,\n",
       "             validation_fraction=0.1, verbose=0, warm_start=False),\n",
       "       fit_params=None, iid='warn', n_jobs=None,\n",
       "       param_grid={'n_estimators': (1, 2, 3, 4, 5, 6, 7, 8), 'max_depth': [2, 3, 4, 5, 6]},\n",
       "       pre_dispatch='2*n_jobs', refit=True, return_train_score=True,\n",
       "       scoring=None, verbose=0)"
      ]
     },
     "execution_count": 50,
     "metadata": {},
     "output_type": "execute_result"
    }
   ],
   "source": [
    "gbm_hyperparms = {'n_estimators':(1,2,3,4,5,6,7,8),\n",
    "                 'max_depth':[2,3,4,5,6]}\n",
    "\n",
    "## describe model\n",
    "gbm_grid = ensemble.GradientBoostingRegressor()\n",
    "\n",
    "\n",
    "clf = GridSearchCV(gbm_grid,\n",
    "                   gbm_hyperparms,\n",
    "                   cv=5,\n",
    "                   return_train_score=True)\n",
    "clf.fit(x_train,y_train)"
   ]
  },
  {
   "cell_type": "code",
   "execution_count": 51,
   "metadata": {
    "colab": {
     "base_uri": "https://localhost:8080/",
     "height": 102
    },
    "colab_type": "code",
    "id": "qaALuAh9pAAY",
    "outputId": "cb322388-4736-41f7-a764-1ccd0ae3bd57"
   },
   "outputs": [
    {
     "data": {
      "text/plain": [
       "{'max_depth': 2, 'n_estimators': 8}"
      ]
     },
     "execution_count": 51,
     "metadata": {},
     "output_type": "execute_result"
    }
   ],
   "source": [
    "clf.best_params_\n",
    "cv_result_scores['GBM_CV'] = \\\n",
    "            (math.sqrt(sklearn.metrics.mean_squared_error(y_train,clf.predict(x_train))),\n",
    "             math.sqrt(sklearn.metrics.mean_squared_error(y_test,clf.predict(x_test))))\n"
   ]
  },
  {
   "cell_type": "markdown",
   "metadata": {
    "colab_type": "text",
    "id": "-Re5V5-_pAAa"
   },
   "source": [
    "## Part III Deep Learning "
   ]
  },
  {
   "cell_type": "markdown",
   "metadata": {},
   "source": [
    "### Neural Networks without regularization"
   ]
  },
  {
   "cell_type": "code",
   "execution_count": 29,
   "metadata": {
    "colab": {
     "base_uri": "https://localhost:8080/",
     "height": 88
    },
    "colab_type": "code",
    "id": "2SzBJj3bpAAa",
    "outputId": "d829fbb2-22af-4e4f-d43b-8df5bf979682"
   },
   "outputs": [
    {
     "name": "stderr",
     "output_type": "stream",
     "text": [
      "/usr/local/lib/python3.6/dist-packages/sklearn/model_selection/_split.py:2179: FutureWarning: From version 0.21, test_size will always complement train_size unless both are specified.\n",
      "  FutureWarning)\n"
     ]
    },
    {
     "data": {
      "text/plain": [
       "(802, 13)"
      ]
     },
     "execution_count": 29,
     "metadata": {
      "tags": []
     },
     "output_type": "execute_result"
    },
    {
     "data": {
      "text/plain": [
       "(802, 1)"
      ]
     },
     "execution_count": 29,
     "metadata": {
      "tags": []
     },
     "output_type": "execute_result"
    },
    {
     "data": {
      "text/plain": [
       "(268, 13)"
      ]
     },
     "execution_count": 29,
     "metadata": {
      "tags": []
     },
     "output_type": "execute_result"
    },
    {
     "data": {
      "text/plain": [
       "(268, 1)"
      ]
     },
     "execution_count": 29,
     "metadata": {
      "tags": []
     },
     "output_type": "execute_result"
    },
    {
     "data": {
      "text/plain": [
       "(268, 13)"
      ]
     },
     "execution_count": 29,
     "metadata": {
      "tags": []
     },
     "output_type": "execute_result"
    },
    {
     "data": {
      "text/plain": [
       "(268, 1)"
      ]
     },
     "execution_count": 29,
     "metadata": {
      "tags": []
     },
     "output_type": "execute_result"
    }
   ],
   "source": [
    "from sklearn.model_selection import train_test_split\n",
    "## initial split \n",
    "X_train0, X_test = train_test_split(X, train_size = 0.8)\n",
    "Y_train0, Y_test = train_test_split(Y, train_size = 0.8)\n",
    "## another split!\n",
    "X_train, X_validate = train_test_split(X_train0, train_size = 0.75)\n",
    "Y_train, Y_validate = train_test_split(Y_train0, train_size = 0.75)\n",
    "## check dims\n",
    "X_train.shape\n",
    "Y_train.shape\n",
    "X_test.shape\n",
    "Y_test.shape\n",
    "X_validate.shape\n",
    "Y_validate.shape"
   ]
  },
  {
   "cell_type": "code",
   "execution_count": 30,
   "metadata": {
    "colab": {
     "base_uri": "https://localhost:8080/",
     "height": 34
    },
    "colab_type": "code",
    "id": "aPC7-YFzpAAc",
    "outputId": "b2e0c613-e773-4a1b-ee71-7ecb9e02535c"
   },
   "outputs": [
    {
     "name": "stderr",
     "output_type": "stream",
     "text": [
      "Using TensorFlow backend.\n"
     ]
    }
   ],
   "source": [
    "from keras import models\n",
    "from keras import layers\n",
    "from keras import optimizers\n",
    "import tensorflow as tf\n",
    "\n",
    "def build_model1():\n",
    "    model = models.Sequential()\n",
    "    model.add(layers.Dense(1,\n",
    "                           activation = 'linear',\n",
    "                           input_dim=x_train.shape[1]))\n",
    "    model.compile(optimizer ='SGD', \n",
    "                  loss = 'mse',\n",
    "                  metrics = ['mae'])\n",
    "    return model"
   ]
  },
  {
   "cell_type": "code",
   "execution_count": 31,
   "metadata": {
    "colab": {
     "base_uri": "https://localhost:8080/",
     "height": 156
    },
    "colab_type": "code",
    "id": "ujCDwZhKpAAe",
    "outputId": "6191bdff-0f27-4051-ae59-a1327c01d68e"
   },
   "outputs": [
    {
     "name": "stdout",
     "output_type": "stream",
     "text": [
      "WARNING:tensorflow:From /usr/local/lib/python3.6/dist-packages/tensorflow/python/framework/op_def_library.py:263: colocate_with (from tensorflow.python.framework.ops) is deprecated and will be removed in a future version.\n",
      "Instructions for updating:\n",
      "Colocations handled automatically by placer.\n",
      "WARNING:tensorflow:From /usr/local/lib/python3.6/dist-packages/tensorflow/python/ops/math_ops.py:3066: to_int32 (from tensorflow.python.ops.math_ops) is deprecated and will be removed in a future version.\n",
      "Instructions for updating:\n",
      "Use tf.cast instead.\n"
     ]
    },
    {
     "data": {
      "text/plain": [
       "<keras.callbacks.History at 0x7fc78bd5dbe0>"
      ]
     },
     "execution_count": 31,
     "metadata": {
      "tags": []
     },
     "output_type": "execute_result"
    }
   ],
   "source": [
    "from sklearn import preprocessing\n",
    "trans_1 = preprocessing.StandardScaler().fit(X_train)\n",
    "X_train_s = trans_1.transform(X_train) \n",
    "X_validate_s = trans_1.transform(X_validate) \n",
    "\n",
    "## fit this model/architecture to my data\n",
    "regr = build_model1()\n",
    "regr.fit(X_train_s,\n",
    "         Y_train,\n",
    "         epochs = 20,\n",
    "         verbose=False,\n",
    "         validation_data = [X_validate_s,Y_validate])"
   ]
  },
  {
   "cell_type": "code",
   "execution_count": 32,
   "metadata": {
    "colab": {
     "base_uri": "https://localhost:8080/",
     "height": 391
    },
    "colab_type": "code",
    "id": "SGJvUQF4pAAg",
    "outputId": "44cad857-1201-4a2a-ed18-204f743e7d6e"
   },
   "outputs": [
    {
     "name": "stdout",
     "output_type": "stream",
     "text": [
      "_________________________________________________________________\n",
      "Layer (type)                 Output Shape              Param #   \n",
      "=================================================================\n",
      "dense_1 (Dense)              (None, 1)                 14        \n",
      "=================================================================\n",
      "Total params: 14\n",
      "Trainable params: 14\n",
      "Non-trainable params: 0\n",
      "_________________________________________________________________\n"
     ]
    },
    {
     "data": {
      "text/plain": [
       "[array([[ 2.7920455e-01],\n",
       "        [-4.3606583e+01],\n",
       "        [-8.6747910e+01],\n",
       "        [-1.0928947e+02],\n",
       "        [-2.2962990e+02],\n",
       "        [-5.6989856e+02],\n",
       "        [-1.4985779e+02],\n",
       "        [-5.3068610e+02],\n",
       "        [-7.8393427e+02],\n",
       "        [-8.0447583e+02],\n",
       "        [ 1.1348671e+02],\n",
       "        [-3.3664221e+02],\n",
       "        [-3.4384280e+02]], dtype=float32), array([12763.311], dtype=float32)]"
      ]
     },
     "execution_count": 32,
     "metadata": {
      "tags": []
     },
     "output_type": "execute_result"
    }
   ],
   "source": [
    "regr.summary()\n",
    "regr.get_weights()"
   ]
  },
  {
   "cell_type": "code",
   "execution_count": 33,
   "metadata": {
    "colab": {
     "base_uri": "https://localhost:8080/",
     "height": 293
    },
    "colab_type": "code",
    "id": "Lqxm8FjXpAAi",
    "outputId": "259e9d15-0457-46e7-947f-1d165663ede2"
   },
   "outputs": [
    {
     "data": {
      "text/plain": [
       "[<matplotlib.lines.Line2D at 0x7fc78033ae48>]"
      ]
     },
     "execution_count": 33,
     "metadata": {
      "tags": []
     },
     "output_type": "execute_result"
    },
    {
     "data": {
      "text/plain": [
       "[<matplotlib.lines.Line2D at 0x7fc7803432b0>]"
      ]
     },
     "execution_count": 33,
     "metadata": {
      "tags": []
     },
     "output_type": "execute_result"
    },
    {
     "data": {
      "image/png": "[encoded data removed]",
      "text/plain": [
       "<Figure size 432x288 with 1 Axes>"
      ]
     },
     "metadata": {
      "tags": []
     },
     "output_type": "display_data"
    }
   ],
   "source": [
    "## plot the loss function per epoch\n",
    "plt.plot(regr.history.history['loss'],\n",
    "        color='red')\n",
    "plt.plot(regr.history.history['val_loss'],\n",
    "        color='blue')"
   ]
  },
  {
   "cell_type": "code",
   "execution_count": 34,
   "metadata": {
    "colab": {
     "base_uri": "https://localhost:8080/",
     "height": 286
    },
    "colab_type": "code",
    "id": "8rVcoeIepAAj",
    "outputId": "3b81f3bb-d96d-4890-fa60-9be107e69c28"
   },
   "outputs": [
    {
     "data": {
      "text/plain": [
       "[<matplotlib.lines.Line2D at 0x7fc78031d6d8>]"
      ]
     },
     "execution_count": 34,
     "metadata": {
      "tags": []
     },
     "output_type": "execute_result"
    },
    {
     "data": {
      "image/png": "[encoded data removed]",
      "text/plain": [
       "<Figure size 432x288 with 1 Axes>"
      ]
     },
     "metadata": {
      "tags": []
     },
     "output_type": "display_data"
    }
   ],
   "source": [
    "plt.plot(regr.history.history['mean_absolute_error'])"
   ]
  },
  {
   "cell_type": "markdown",
   "metadata": {
    "colab_type": "text",
    "id": "CgCdt_uGpAAl"
   },
   "source": [
    "### Model Complex NN"
   ]
  },
  {
   "cell_type": "code",
   "execution_count": null,
   "metadata": {
    "colab": {},
    "colab_type": "code",
    "id": "jQFWkLqNpAAl"
   },
   "outputs": [],
   "source": [
    "\n",
    "  \n",
    "def build_model2():\n",
    "    model = models.Sequential()\n",
    "    model.add(layers.Dense(64,\n",
    "                           activation = 'linear',\n",
    "                           input_dim=X_train.shape[1]))\n",
    "    model.add(layers.Dense(64,\n",
    "                           activation = 'relu'))\n",
    "    model.add(layers.Dense(1,\n",
    "                           activation = 'relu'))\n",
    "    model.compile(optimizer ='SGD', \n",
    "                  loss = 'mse',\n",
    "                  metrics = ['mae'])\n",
    "    return model"
   ]
  },
  {
   "cell_type": "code",
   "execution_count": 88,
   "metadata": {
    "colab": {
     "base_uri": "https://localhost:8080/",
     "height": 34
    },
    "colab_type": "code",
    "id": "1wJMtBwbpAAo",
    "outputId": "5dcdd5dc-e342-446a-b07c-6018f8308f43"
   },
   "outputs": [
    {
     "data": {
      "text/plain": [
       "<keras.callbacks.History at 0x7fc7582cb400>"
      ]
     },
     "execution_count": 88,
     "metadata": {
      "tags": []
     },
     "output_type": "execute_result"
    }
   ],
   "source": [
    "regr2 = build_model2()\n",
    "regr2.fit(X_train_s,\n",
    "         Y_train,\n",
    "         epochs = 20,\n",
    "         verbose=False,\n",
    "         validation_data = [X_validate_s,Y_validate])"
   ]
  },
  {
   "cell_type": "code",
   "execution_count": 89,
   "metadata": {
    "colab": {
     "base_uri": "https://localhost:8080/",
     "height": 293
    },
    "colab_type": "code",
    "id": "QYh-G_sMpAAp",
    "outputId": "b418f4fa-76b3-4e4a-ff9d-82d35677aaf6"
   },
   "outputs": [
    {
     "data": {
      "text/plain": [
       "[<matplotlib.lines.Line2D at 0x7fc7580daf28>]"
      ]
     },
     "execution_count": 89,
     "metadata": {
      "tags": []
     },
     "output_type": "execute_result"
    },
    {
     "data": {
      "text/plain": [
       "[<matplotlib.lines.Line2D at 0x7fc7580e2400>]"
      ]
     },
     "execution_count": 89,
     "metadata": {
      "tags": []
     },
     "output_type": "execute_result"
    },
    {
     "data": {
      "image/png": "[encoded data removed]",
      "text/plain": [
       "<Figure size 432x288 with 1 Axes>"
      ]
     },
     "metadata": {
      "tags": []
     },
     "output_type": "display_data"
    }
   ],
   "source": [
    "plt.plot(regr2.history.history['loss'],\n",
    "        color='red')\n",
    "plt.plot(regr2.history.history['val_loss'],\n",
    "        color='blue')"
   ]
  },
  {
   "cell_type": "code",
   "execution_count": 90,
   "metadata": {
    "colab": {
     "base_uri": "https://localhost:8080/",
     "height": 286
    },
    "colab_type": "code",
    "id": "4KHY1qNEpAAr",
    "outputId": "d53f681d-2036-4e13-fb42-03e229e1d6c5"
   },
   "outputs": [
    {
     "data": {
      "text/plain": [
       "[<matplotlib.lines.Line2D at 0x7fc7580b79b0>]"
      ]
     },
     "execution_count": 90,
     "metadata": {
      "tags": []
     },
     "output_type": "execute_result"
    },
    {
     "data": {
      "image/png": "[encoded data removed]",
      "text/plain": [
       "<Figure size 432x288 with 1 Axes>"
      ]
     },
     "metadata": {
      "tags": []
     },
     "output_type": "display_data"
    }
   ],
   "source": [
    "plt.plot(regr2.history.history['mean_absolute_error'])"
   ]
  },
  {
   "cell_type": "markdown",
   "metadata": {
    "colab_type": "text",
    "id": "fycbF3vXpAAp"
   },
   "source": [
    "### NN with Regularization"
   ]
  },
  {
   "cell_type": "code",
   "execution_count": null,
   "metadata": {
    "colab": {},
    "colab_type": "code",
    "id": "HGTSQtuOpAAy"
   },
   "outputs": [],
   "source": [
    "from keras.regularizers import l1\n",
    "l1_penalty = 1\n",
    "def build_model3():\n",
    "    model = models.Sequential()\n",
    "    model.add(layers.Dense(64,\n",
    "                           activation = 'linear',\n",
    "                           kernel_regularizer=l1(l1_penalty),\n",
    "                           input_dim=X_train.shape[1]))\n",
    "    model.add(layers.Dropout(0.5))\n",
    "    model.add(layers.Dense(1,\n",
    "                           activation = 'linear'))\n",
    "    model.add(layers.Dropout(0.5))\n",
    "    model.add(layers.Dense(1,\n",
    "                           activation = 'relu'))\n",
    "    model.compile(optimizer ='SGD', \n",
    "                  loss = 'mse',\n",
    "                  metrics = ['mae'])\n",
    "    return model"
   ]
  },
  {
   "cell_type": "code",
   "execution_count": 151,
   "metadata": {
    "colab": {
     "base_uri": "https://localhost:8080/",
     "height": 34
    },
    "colab_type": "code",
    "id": "CowLVja2rZBH",
    "outputId": "dff46e98-ac21-4023-f913-8a0118f2eda1"
   },
   "outputs": [
    {
     "data": {
      "text/plain": [
       "<keras.callbacks.History at 0x7fc7542a33c8>"
      ]
     },
     "execution_count": 151,
     "metadata": {
      "tags": []
     },
     "output_type": "execute_result"
    }
   ],
   "source": [
    "regr3 = build_model3()\n",
    "regr3.fit(X_train_s,\n",
    "          Y_train,\n",
    "          epochs = 20,\n",
    "          validation_data = [X_validate_s,Y_validate],\n",
    "          verbose=False\n",
    "          )"
   ]
  },
  {
   "cell_type": "code",
   "execution_count": 152,
   "metadata": {
    "colab": {
     "base_uri": "https://localhost:8080/",
     "height": 293
    },
    "colab_type": "code",
    "id": "tss_TdNBrsBd",
    "outputId": "07e44540-a03b-4bf9-fe91-2ad32d3ee6bb"
   },
   "outputs": [
    {
     "data": {
      "text/plain": [
       "[<matplotlib.lines.Line2D at 0x7fc753edbe80>]"
      ]
     },
     "execution_count": 152,
     "metadata": {
      "tags": []
     },
     "output_type": "execute_result"
    },
    {
     "data": {
      "image/png": "[encoded data removed]",
      "text/plain": [
       "<Figure size 432x288 with 1 Axes>"
      ]
     },
     "metadata": {
      "tags": []
     },
     "output_type": "display_data"
    }
   ],
   "source": [
    "plt.plot(regr3.history.history['mean_absolute_error'])"
   ]
  },
  {
   "cell_type": "code",
   "execution_count": 153,
   "metadata": {
    "colab": {
     "base_uri": "https://localhost:8080/",
     "height": 286
    },
    "colab_type": "code",
    "id": "oRlbTaxppAAw",
    "outputId": "28d075f2-4443-40e1-a7fd-0a038c84a086"
   },
   "outputs": [
    {
     "data": {
      "text/plain": [
       "[<matplotlib.lines.Line2D at 0x7fc753ebf0b8>]"
      ]
     },
     "execution_count": 153,
     "metadata": {
      "tags": []
     },
     "output_type": "execute_result"
    },
    {
     "data": {
      "text/plain": [
       "[<matplotlib.lines.Line2D at 0x7fc753ebf588>]"
      ]
     },
     "execution_count": 153,
     "metadata": {
      "tags": []
     },
     "output_type": "execute_result"
    },
    {
     "data": {
      "image/png": "[encoded data removed]",
      "text/plain": [
       "<Figure size 432x288 with 1 Axes>"
      ]
     },
     "metadata": {
      "tags": []
     },
     "output_type": "display_data"
    }
   ],
   "source": [
    "plt.plot(regr3.history.history['loss'],\n",
    "        color='red')\n",
    "plt.plot(regr3.history.history['val_loss'],\n",
    "        color='blue')"
   ]
  },
  {
   "cell_type": "markdown",
   "metadata": {},
   "source": []
  },
  {
   "cell_type": "markdown",
   "metadata": {
    "colab": {},
    "colab_type": "code",
    "id": "14d5GUAeuReY"
   },
   "source": [
    "# Results"
   ]
  },
  {
   "cell_type": "code",
   "execution_count": 60,
   "metadata": {},
   "outputs": [
    {
     "name": "stdout",
     "output_type": "stream",
     "text": [
      "\n",
      "Model                  CV Mean RMSE     Validation RMSE    Test RMSE\n",
      "-------------------------------------------\n",
      "Linear Regression      5930.          6149.5          6745.4 \n",
      "Ridge Regression       10056          9338.8          9373.2 \n",
      "Lasso Regression       5946.          6149.2          6745.7 \n",
      "Elastic Net            8912.          8220.3          8356.8 \n",
      "Regularized lambda search   5871.          6149.0          6746.0 \n",
      "Random forest          5192.          5480.5          6014.1 \n",
      "Random Forest GridSearch   5244.          5419.8          5923.4 \n",
      "GBM                    4414.          4820.4          5477.5 \n",
      "GBM lambda search      4096.          4750.3          5423.6 \n",
      "Auto ML                4266.                                 \n"
     ]
    }
   ],
   "source": [
    "get_results(result_scores)"
   ]
  },
  {
   "cell_type": "code",
   "execution_count": 61,
   "metadata": {},
   "outputs": [
    {
     "name": "stdout",
     "output_type": "stream",
     "text": [
      "\n",
      "Model                  Train    Test\n",
      "-------------------------------------------\n",
      "RandomForest_CV        1.125e+04   1.155e+04\n",
      "GBM_CV                 1.143e+04   1.171e+04\n"
     ]
    }
   ],
   "source": [
    "get_cv_results(cv_result_scores)"
   ]
  },
  {
   "cell_type": "markdown",
   "metadata": {},
   "source": [
    "Part I\n",
    "The results are not stable. Each time I run the algorithm, the results will be off. I already set the seed when split the data but the issue still comes along. Based on the current results,  it is very important to notice that regularization is not helpful in decreasing the error. Linear, lasso, regularied lambda search, random forest, random forest grid search, GBM and GBM lambda search are all suffered from overfitting. \n",
    "\n",
    "For lambda search GBM, the best parameters are: learning rate is 0.3, maximum depth is 3 and number of trees is 10.  For lambda search random forest, the best max_depth is 6 and  the best number of trees is 100. The best model is GBM lambda search since it gives the lowest test RMSE. There is no serious overfitting issues. \n",
    "\n",
    "The overfitting issue indicates the model does not generalized well. Because the outcome is exponential distributed. There is only three predictors left, age, bmi and smoke status. I hypothesis that the overfitting problem is associated with the distribution of the outcome. I tried myself at backend, if I didn't apply cross validation, the results will be off and all the results are overfitting. The cross validation overcome this situation by decrease the variance. \n",
    "\n",
    "Ridge and Elastic net overcomes the overfitting, but there error rate is higher than other models.\n",
    "\n",
    "Auto machine learning:\n",
    "The best model from auto machine learning algorithm is XGBoost_3_AutoML_20190510_100453. The algorithm perform cross validation automatically. The best model also has overfitting issues. \n",
    "\n",
    "Part II\n",
    "I only applied cross validation in random forest and gradient boosting for hyper parameter search.I only split the data into training and testing. The parameters for random forest and gradient boosting machine (GBM) are number of trees (n_estimators) and maximum depth. The results of random forest shows that the best max_depth is 2 and the best number of trees is 40. The result is different from h2o grid search. The results of GBM shows that the best max_depth is 2 and the best number of trees is 8. The result are different from h2o grid search. There is no serious overfitting problems. It indicates the model generalized well.  \n",
    "\n",
    "I felt like the sklearn results are more stable than h2o. Everytime, I run it, it gives the same result.\n",
    "\n",
    "Part III\n",
    "\n",
    "The deep learning models were run on the google collaboration online. \n",
    "The first neutral network I tried was a simple one.It only contains one layer, with loss function of means square error and the optimization method is stochastic gradient descent. The metrics is mean absolute error. From the plot, it shows that the model didn't converge well. The mean abosolute error plot was decreased and then increased. I tried with a more complex one by adding another two layers. The new activation function is Rectified Linear Unit. The optimization and loss are same. The mae plot was converged quickly, so as loss plot. But the val loss is not converged. I not sure why. I tried with other parameter myself. They are not perform well.\n",
    "The final one, I add some regularized penalty L1 on the NN. The MAE looks fine but there is not loss and val loss available. \n",
    "\n",
    "I felt like deep learning may not appropriate for prediction models. \n",
    "\n",
    "## Conclusion\n",
    "If I use H2o, I will choose elastic net with lambda equals 1 and alpha equals 0.5. As for sklearn, I will use the random forest with cross validation of maximum depth is 2 and 40 trees. "
   ]
  },
  {
   "cell_type": "code",
   "execution_count": 103,
   "metadata": {},
   "outputs": [
    {
     "name": "stdout",
     "output_type": "stream",
     "text": [
      "\n",
      "Model                  Train    Test\n",
      "-------------------------------------------\n",
      "RandomForest_CV        1.125e+04   1.155e+04\n",
      "GBM_CV                 1.143e+04   1.171e+04\n"
     ]
    }
   ],
   "source": []
  },
  {
   "cell_type": "markdown",
   "metadata": {},
   "source": [
    "\n",
    "    "
   ]
  },
  {
   "cell_type": "code",
   "execution_count": null,
   "metadata": {},
   "outputs": [],
   "source": []
  }
 ],
 "metadata": {
  "accelerator": "GPU",
  "colab": {
   "collapsed_sections": [
    "nElvE-54o_-8",
    "nJHYEBh5o__C",
    "L4nujzZDo__G",
    "ALui2nqho__K",
    "dpm8Fq9Jo__N",
    "RDvTVXXwo__W",
    "m86ge1pDo__m",
    "6rpBfG0jo__4",
    "cuahb4MGo__-"
   ],
   "name": "finals.ipynb",
   "provenance": [],
   "toc_visible": true,
   "version": "0.3.2"
  },
  "kernelspec": {
   "display_name": "Python 3",
   "language": "python",
   "name": "python3"
  },
  "language_info": {
   "codemirror_mode": {
    "name": "ipython",
    "version": 3
   },
   "file_extension": ".py",
   "mimetype": "text/x-python",
   "name": "python",
   "nbconvert_exporter": "python",
   "pygments_lexer": "ipython3",
   "version": "3.6.7"
  }
 },
 "nbformat": 4,
 "nbformat_minor": 2
}
